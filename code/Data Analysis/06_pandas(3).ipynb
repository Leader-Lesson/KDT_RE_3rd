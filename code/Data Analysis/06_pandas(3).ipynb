{
 "cells": [
  {
   "cell_type": "markdown",
   "id": "863124fe",
   "metadata": {},
   "source": [
    "## 06. pandas(3)"
   ]
  },
  {
   "cell_type": "markdown",
   "id": "77ec4d28",
   "metadata": {},
   "source": [
    "### 파일 입출력"
   ]
  },
  {
   "cell_type": "code",
   "execution_count": null,
   "id": "1f2ed026",
   "metadata": {},
   "outputs": [],
   "source": [
    "import pandas as pd"
   ]
  },
  {
   "cell_type": "code",
   "execution_count": null,
   "id": "1edf93d1",
   "metadata": {},
   "outputs": [],
   "source": [
    "# csv 파일 불러오기\n",
    "df = pd.read_csv(\"practice_book_dataset.csv\")\n",
    "df.head()"
   ]
  },
  {
   "cell_type": "code",
   "execution_count": null,
   "id": "94e41708",
   "metadata": {},
   "outputs": [],
   "source": [
    "# 데이터 정보 확인\n",
    "df.shape\n",
    "df.dtypes\n",
    "df.info()\n",
    "df.describe()"
   ]
  },
  {
   "cell_type": "code",
   "execution_count": null,
   "id": "af53334e",
   "metadata": {},
   "outputs": [],
   "source": [
    "df[\"title\"].head(10)\n",
    "df[[\"title\",\"author\"]].head(10)"
   ]
  },
  {
   "cell_type": "code",
   "execution_count": null,
   "id": "4fd5a512",
   "metadata": {},
   "outputs": [],
   "source": [
    "df2 = df.copy()\n",
    "df2[\"libarary\"] = \"seoul library\"\n",
    "df2.to_csv(\"new_book_dataset.csv\")"
   ]
  },
  {
   "cell_type": "code",
   "execution_count": null,
   "id": "4650f722",
   "metadata": {},
   "outputs": [],
   "source": [
    "mask = df[\"price\"] >= 100\n",
    "df[mask]\n",
    "df.loc[mask, [\"title\", \"price\", \"avg_reviews\"]]"
   ]
  },
  {
   "cell_type": "code",
   "execution_count": null,
   "id": "417aa35f",
   "metadata": {},
   "outputs": [],
   "source": [
    "df.isnull().sum()"
   ]
  },
  {
   "cell_type": "code",
   "execution_count": null,
   "id": "9e8597d4",
   "metadata": {},
   "outputs": [],
   "source": [
    "# excel 파일 불러오기\n",
    "df = pd.read_excel(\"practice_employee_dataset.xlsx\")\n",
    "df.head()"
   ]
  },
  {
   "cell_type": "code",
   "execution_count": null,
   "id": "cb97607e",
   "metadata": {},
   "outputs": [],
   "source": [
    "# excel(xlsx) 파일로 저장\n",
    "df2 = df.copy()\n",
    "df2[\"Working Period\"] = 3\n",
    "df2.head(10)\n",
    "df.to_excel(\"New_employee_dataset.xlsx\")"
   ]
  },
  {
   "cell_type": "code",
   "execution_count": null,
   "id": "38c37e2b",
   "metadata": {},
   "outputs": [],
   "source": [
    "df = pd.read_csv(\"dataset/dataset.csv\")\n",
    "df.describe()\n",
    "df.info()"
   ]
  },
  {
   "cell_type": "code",
   "execution_count": 5,
   "id": "2aef7fc2",
   "metadata": {},
   "outputs": [
    {
     "name": "stderr",
     "output_type": "stream",
     "text": [
      "c:\\Users\\user\\anaconda3\\envs\\data_analysis\\Lib\\site-packages\\openpyxl\\styles\\stylesheet.py:237: UserWarning: Workbook contains no default style, apply openpyxl's default\n",
      "  warn(\"Workbook contains no default style, apply openpyxl's default\")\n"
     ]
    },
    {
     "data": {
      "text/html": [
       "<div>\n",
       "<style scoped>\n",
       "    .dataframe tbody tr th:only-of-type {\n",
       "        vertical-align: middle;\n",
       "    }\n",
       "\n",
       "    .dataframe tbody tr th {\n",
       "        vertical-align: top;\n",
       "    }\n",
       "\n",
       "    .dataframe thead th {\n",
       "        text-align: right;\n",
       "    }\n",
       "</style>\n",
       "<table border=\"1\" class=\"dataframe\">\n",
       "  <thead>\n",
       "    <tr style=\"text-align: right;\">\n",
       "      <th></th>\n",
       "      <th>에너지원별(1)</th>\n",
       "      <th>에너지원별(2)</th>\n",
       "      <th>에너지원별(3)</th>\n",
       "      <th>에너지원별(4)</th>\n",
       "      <th>2020</th>\n",
       "      <th>2021</th>\n",
       "      <th>2022</th>\n",
       "      <th>2023</th>\n",
       "    </tr>\n",
       "  </thead>\n",
       "  <tbody>\n",
       "    <tr>\n",
       "      <th>0</th>\n",
       "      <td>총발전량 (MWh)</td>\n",
       "      <td>소계</td>\n",
       "      <td>소계</td>\n",
       "      <td>소계</td>\n",
       "      <td>579999196</td>\n",
       "      <td>611015325</td>\n",
       "      <td>626448138</td>\n",
       "      <td>624883407</td>\n",
       "    </tr>\n",
       "    <tr>\n",
       "      <th>1</th>\n",
       "      <td>NaN</td>\n",
       "      <td>양수발전</td>\n",
       "      <td>소계</td>\n",
       "      <td>소계</td>\n",
       "      <td>3271019</td>\n",
       "      <td>3682932</td>\n",
       "      <td>3715049</td>\n",
       "      <td>3783877</td>\n",
       "    </tr>\n",
       "    <tr>\n",
       "      <th>2</th>\n",
       "      <td>신재생에너지 공급비중 (%)</td>\n",
       "      <td>소계</td>\n",
       "      <td>소계</td>\n",
       "      <td>소계</td>\n",
       "      <td>7.44</td>\n",
       "      <td>8.29</td>\n",
       "      <td>9.22</td>\n",
       "      <td>9.67</td>\n",
       "    </tr>\n",
       "    <tr>\n",
       "      <th>3</th>\n",
       "      <td>NaN</td>\n",
       "      <td>재생에너지</td>\n",
       "      <td>소계</td>\n",
       "      <td>소계</td>\n",
       "      <td>6.41</td>\n",
       "      <td>7.15</td>\n",
       "      <td>8.05</td>\n",
       "      <td>8.5</td>\n",
       "    </tr>\n",
       "    <tr>\n",
       "      <th>4</th>\n",
       "      <td>NaN</td>\n",
       "      <td>신에너지</td>\n",
       "      <td>소계</td>\n",
       "      <td>소계</td>\n",
       "      <td>1.02</td>\n",
       "      <td>1.14</td>\n",
       "      <td>1.18</td>\n",
       "      <td>1.16</td>\n",
       "    </tr>\n",
       "    <tr>\n",
       "      <th>...</th>\n",
       "      <td>...</td>\n",
       "      <td>...</td>\n",
       "      <td>...</td>\n",
       "      <td>...</td>\n",
       "      <td>...</td>\n",
       "      <td>...</td>\n",
       "      <td>...</td>\n",
       "      <td>...</td>\n",
       "    </tr>\n",
       "    <tr>\n",
       "      <th>76</th>\n",
       "      <td>② 신에너지</td>\n",
       "      <td>연료전지 (MWh)</td>\n",
       "      <td>소계</td>\n",
       "      <td>소계</td>\n",
       "      <td>3544354</td>\n",
       "      <td>4798120</td>\n",
       "      <td>5409625</td>\n",
       "      <td>6257348</td>\n",
       "    </tr>\n",
       "    <tr>\n",
       "      <th>77</th>\n",
       "      <td>NaN</td>\n",
       "      <td>NaN</td>\n",
       "      <td>사업용</td>\n",
       "      <td>소계</td>\n",
       "      <td>3485608</td>\n",
       "      <td>4727370</td>\n",
       "      <td>5329684</td>\n",
       "      <td>6164458</td>\n",
       "    </tr>\n",
       "    <tr>\n",
       "      <th>78</th>\n",
       "      <td>NaN</td>\n",
       "      <td>NaN</td>\n",
       "      <td>자가용</td>\n",
       "      <td>소계</td>\n",
       "      <td>58746</td>\n",
       "      <td>70750</td>\n",
       "      <td>79942</td>\n",
       "      <td>92889</td>\n",
       "    </tr>\n",
       "    <tr>\n",
       "      <th>79</th>\n",
       "      <td>NaN</td>\n",
       "      <td>IGCC (MWh)</td>\n",
       "      <td>소계</td>\n",
       "      <td>소계</td>\n",
       "      <td>2377374</td>\n",
       "      <td>2190755</td>\n",
       "      <td>1964827</td>\n",
       "      <td>996517</td>\n",
       "    </tr>\n",
       "    <tr>\n",
       "      <th>80</th>\n",
       "      <td>NaN</td>\n",
       "      <td>NaN</td>\n",
       "      <td>사업용</td>\n",
       "      <td>소계</td>\n",
       "      <td>2377374</td>\n",
       "      <td>2190755</td>\n",
       "      <td>1964827</td>\n",
       "      <td>996517</td>\n",
       "    </tr>\n",
       "  </tbody>\n",
       "</table>\n",
       "<p>81 rows × 8 columns</p>\n",
       "</div>"
      ],
      "text/plain": [
       "           에너지원별(1)    에너지원별(2) 에너지원별(3) 에너지원별(4)       2020       2021  \\\n",
       "0        총발전량 (MWh)          소계       소계       소계  579999196  611015325   \n",
       "1               NaN        양수발전       소계       소계    3271019    3682932   \n",
       "2   신재생에너지 공급비중 (%)          소계       소계       소계       7.44       8.29   \n",
       "3               NaN       재생에너지       소계       소계       6.41       7.15   \n",
       "4               NaN        신에너지       소계       소계       1.02       1.14   \n",
       "..              ...         ...      ...      ...        ...        ...   \n",
       "76           ② 신에너지  연료전지 (MWh)       소계       소계    3544354    4798120   \n",
       "77              NaN         NaN      사업용       소계    3485608    4727370   \n",
       "78              NaN         NaN      자가용       소계      58746      70750   \n",
       "79              NaN  IGCC (MWh)       소계       소계    2377374    2190755   \n",
       "80              NaN         NaN      사업용       소계    2377374    2190755   \n",
       "\n",
       "         2022       2023  \n",
       "0   626448138  624883407  \n",
       "1     3715049    3783877  \n",
       "2        9.22       9.67  \n",
       "3        8.05        8.5  \n",
       "4        1.18       1.16  \n",
       "..        ...        ...  \n",
       "76    5409625    6257348  \n",
       "77    5329684    6164458  \n",
       "78      79942      92889  \n",
       "79    1964827     996517  \n",
       "80    1964827     996517  \n",
       "\n",
       "[81 rows x 8 columns]"
      ]
     },
     "execution_count": 5,
     "metadata": {},
     "output_type": "execute_result"
    }
   ],
   "source": [
    "df = pd.read_excel(\"dataset/dataset2.xlsx\")\n",
    "df"
   ]
  }
 ],
 "metadata": {
  "kernelspec": {
   "display_name": "data_analysis",
   "language": "python",
   "name": "python3"
  },
  "language_info": {
   "codemirror_mode": {
    "name": "ipython",
    "version": 3
   },
   "file_extension": ".py",
   "mimetype": "text/x-python",
   "name": "python",
   "nbconvert_exporter": "python",
   "pygments_lexer": "ipython3",
   "version": "3.13.5"
  }
 },
 "nbformat": 4,
 "nbformat_minor": 5
}
