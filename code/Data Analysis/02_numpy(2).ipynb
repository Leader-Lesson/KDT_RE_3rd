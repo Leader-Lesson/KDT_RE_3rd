{
 "cells": [
  {
   "cell_type": "markdown",
   "id": "6f8616d5",
   "metadata": {},
   "source": [
    "## NumPy(2)"
   ]
  },
  {
   "cell_type": "markdown",
   "id": "b12f030e",
   "metadata": {},
   "source": [
    "### 2-1. NumPy 배열 연산"
   ]
  },
  {
   "cell_type": "code",
   "execution_count": null,
   "id": "9fd3260d",
   "metadata": {},
   "outputs": [],
   "source": [
    "import numpy as np"
   ]
  },
  {
   "cell_type": "code",
   "execution_count": null,
   "id": "271f0c1e",
   "metadata": {},
   "outputs": [],
   "source": [
    "# 배열 간 연산(1차원)\n",
    "a1 = np.array([1,2,3])\n",
    "a2 = np.array([4,5,6])\n",
    "\n",
    "print(a1 + a2)\n",
    "print(a1 - a2)"
   ]
  },
  {
   "cell_type": "code",
   "execution_count": null,
   "id": "5bde1c92",
   "metadata": {},
   "outputs": [],
   "source": [
    "# 배열 간 연산(2차원)\n",
    "a1 = np.arange(1,5).reshape(2,2)\n",
    "a2 = np.arange(11,15).reshape(2,2)\n",
    "print(a1)\n",
    "print(a2)\n",
    "print(a1 + a2)\n",
    "print(a2 - a1)"
   ]
  },
  {
   "cell_type": "code",
   "execution_count": null,
   "id": "5589cb47",
   "metadata": {},
   "outputs": [],
   "source": [
    "# 배열과 스칼라 연산(1차원)\n",
    "a1 = np.array([1,2,3,4])\n",
    "print(a1 + 10)\n",
    "print(a1 * 2)"
   ]
  },
  {
   "cell_type": "code",
   "execution_count": null,
   "id": "0ad90679",
   "metadata": {},
   "outputs": [],
   "source": [
    "# 배열과 스칼라 연산(2차원)\n",
    "a1 = np.arange(1,5).reshape(2,2)\n",
    "a2 = np.arange(11,15).reshape(2,2)\n",
    "print(a1)\n",
    "print(a2)\n",
    "print(a1 + 5)\n",
    "print(a2 * 3)\n",
    "print(a2 / 2)"
   ]
  },
  {
   "cell_type": "code",
   "execution_count": null,
   "id": "192fa628",
   "metadata": {},
   "outputs": [],
   "source": [
    "# 배열의 구조가 다를 경우\n",
    "a1 = np.array([1,2])\n",
    "a2 = np.array([1,2,3])\n",
    "print(a1+a2)"
   ]
  },
  {
   "cell_type": "code",
   "execution_count": null,
   "id": "69bb0800",
   "metadata": {},
   "outputs": [],
   "source": [
    "# 브로드캐스팅 \n",
    "# 자동으로 배열의 크기를 확장 → 서로 다른 크기의 배열 간 연산을 가능하게 하는 기능\n",
    "# 1. 두 배열의 차원을 뒤(낮은 차원)에서부터 비교\n",
    "# 2. 크기가 같거나\n",
    "# 3. 한쪽이 1인 경우 확장이 가능\n",
    "\n",
    "a1 = np.array([[1,2,3],\n",
    "              [4,5,6]]) # 2x3 배열\n",
    "a2 = np.array([10,20,30]) # 길이가 3인 1차원 배열\n",
    "\n",
    "# 1차원 길이3\n",
    "[10,20,30]\n",
    "\n",
    "# 2차원으로 변형 (1,3)\n",
    "[[10,20,30]]\n",
    "\n",
    "# 2차원의 행이 2로 확장\n",
    "[[10,20,30],\n",
    "[10,20,30]]\n",
    "\n",
    "print(a1 + a2)"
   ]
  },
  {
   "cell_type": "code",
   "execution_count": null,
   "id": "4c5f8c48",
   "metadata": {},
   "outputs": [],
   "source": [
    "# 브로드캐스팅 예제\n",
    "a1 = np.array([[1], [2], [3]]) # (3, 1)\n",
    "a2 = np.array([10, 20, 30]) # (3,)\n",
    "print(\"a1 shape:\", a1.shape)\n",
    "print(\"a2 shape:\", a2.shape)\n",
    "\n",
    "# a2 : (3,) → (1, 3)로 변형\n",
    "[[10, 20, 30]]\n",
    "\n",
    "# a1과 a2비교: a1 = (3, 1), a2 = (1, 3)\n",
    "# 2차원의 경우 : 3 vs 1 → a2의 2차원이 3으로 확장\n",
    "[[10, 20, 30], [10, 20, 30], [10, 20, 30]]\n",
    "\n",
    "# 1차원의 경우 : 1 vs 3 → a1의 1차원이 3으로 확장\n",
    "[[1, 1, 1], [2, 2, 2], [3, 3, 3]]\n",
    "\n",
    "# a1\n",
    "[[1, 1, 1], [2, 2, 2], [3, 3, 3]]\n",
    "              # +\n",
    "# a2\n",
    "[[10, 20, 30], [10, 20, 30], [10, 20, 30]]\n",
    "\n",
    "print(a1 + a2)"
   ]
  },
  {
   "cell_type": "code",
   "execution_count": null,
   "id": "1742c4c4",
   "metadata": {},
   "outputs": [],
   "source": [
    "# 브로드캐스팅 불가능한 경우\n",
    "a1 = np.ones((2,3))\n",
    "a2 = np.ones((3,2))\n",
    "a1 + a2"
   ]
  },
  {
   "cell_type": "code",
   "execution_count": null,
   "id": "72a9b60d",
   "metadata": {},
   "outputs": [],
   "source": [
    "# 실습1\n",
    "# 문제1. 다음 배열을 생성하고, 모든 요소에 3을 더하세요.\n",
    "arr = np.array([1, 2, 3, 4])\n",
    "print(arr + 3)"
   ]
  },
  {
   "cell_type": "code",
   "execution_count": null,
   "id": "4c81b216",
   "metadata": {},
   "outputs": [],
   "source": [
    "# 문제2. 아래 2차원 배열에서 각 요소를 -1로 곱한 새로운 배열을 만드세요.\n",
    "arr = np.array([[5, 10], [15, 20]])\n",
    "print(arr * -1)"
   ]
  },
  {
   "cell_type": "code",
   "execution_count": null,
   "id": "a706a302",
   "metadata": {},
   "outputs": [],
   "source": [
    "# 문제3. 아래 두 배열의 요소별 곱셈과 나눗셈 결과를 각각 출력하세요.\n",
    "arr1 = np.array([2, 4, 6])\n",
    "arr2 = np.array([1, 2, 3])\n",
    "\n",
    "print(arr1 * arr2)\n",
    "print(arr1 / arr2)"
   ]
  },
  {
   "cell_type": "code",
   "execution_count": null,
   "id": "07e26ca3",
   "metadata": {},
   "outputs": [],
   "source": [
    "# 문제4. 아래 배열에서 모든 요소를 최대값 100으로 만들기 위해\n",
    "# 필요한 값을 더한 결과 배열을 만드세요.\n",
    "arr = np.array([[95, 97], [80, 85]])\n",
    "add_values = 100 - arr\n",
    "print(add_values)\n",
    "print(arr + add_values)"
   ]
  },
  {
   "cell_type": "code",
   "execution_count": null,
   "id": "57a9c762",
   "metadata": {},
   "outputs": [],
   "source": [
    "# 문제5. 아래 2차원 배열에서 각 행에 다른 값을 곱하여 새로운 배열을 만드세요.(브로드캐스팅 이용)\n",
    "# 첫 번째 행은 10을 곱하고\n",
    "# 두 번째 행은 100을 곱해야 합니다.\n",
    "arr = np.array([[1, 2, 3], [4, 5, 6]])\n",
    "arr2 = np.array([[10], [100]])\n",
    "\n",
    "print(arr * arr2)"
   ]
  },
  {
   "cell_type": "code",
   "execution_count": null,
   "id": "c81b6251",
   "metadata": {},
   "outputs": [],
   "source": [
    "# 문제6. 아래 배열에서 각 행마다 다른 스칼라 값을 더하기 위해\n",
    "# 첫 번째 행에 100, 두 번째 행에 200, 세 번째 행에 300을 더하세요.\n",
    "arr = np.array([10, 20, 30, 40, 50, 60]).reshape(3,2) # (3,2)\n",
    "# arr2 = np.array([[100],[200],[300]])\n",
    "arr2 = np.array([100,200,300]).reshape(3,1)\n",
    "print(arr + arr2)"
   ]
  },
  {
   "cell_type": "markdown",
   "id": "9e486fd0",
   "metadata": {},
   "source": [
    "### 2-2. 통계 함수 및 집계 연산"
   ]
  },
  {
   "cell_type": "code",
   "execution_count": null,
   "id": "24dca6b2",
   "metadata": {},
   "outputs": [],
   "source": [
    "a = np.array([[1,2,3],[4,5,6]])\n",
    "\n",
    "print(\"원소의합:\", np.sum(a))\n",
    "print(\"원소의평균:\", np.mean(a))\n",
    "print(\"표준편차:\", np.std(a))\n",
    "print(\"최대값:\", np.max(a))\n",
    "print(\"최소값:\", np.min(a))\n",
    "print(\"최대값의 인덱스:\", np.argmax(a))\n",
    "print(\"최소값의 인덱스:\", np.argmin(a))"
   ]
  },
  {
   "cell_type": "code",
   "execution_count": null,
   "id": "052c8ae7",
   "metadata": {},
   "outputs": [],
   "source": [
    "# 축(axis) 단위 연산\n",
    "# axis = 0 → 가장 높은 차원 기준 → 행기준\n",
    "  # 행기준 = 행을 따라 연산 = 행을 증가시키며 연산\n",
    "# axis = 1 → 그 다음 차원 기준 → 열기준\n",
    "  # 열기준 = 열을 따라 연산 = 열을 증가시키며 연산\n",
    "\n",
    "a = np.array([[1,2,3],\n",
    "              [4,5,6],\n",
    "              [7,8,9]])\n",
    "print(\"행기준합\", np.sum(a, axis=0))\n",
    "print(\"열기준합\", np.sum(a, axis=1))\n",
    "print(\"행기준평균\", np.mean(a, axis=0))\n",
    "print(\"열기준평균\", np.mean(a, axis=1))"
   ]
  },
  {
   "cell_type": "code",
   "execution_count": null,
   "id": "bdd41a0f",
   "metadata": {},
   "outputs": [],
   "source": [
    "# 누적 연산\n",
    "arr = np.array([1,2,3,4])\n",
    "print(np.cumsum(arr))\n",
    "print(np.cumprod(arr))"
   ]
  },
  {
   "cell_type": "code",
   "execution_count": null,
   "id": "c56dd7d2",
   "metadata": {},
   "outputs": [],
   "source": [
    "# 실습2.\n",
    "# 아래 배열의 전체 합계와 평균을 각각 구하세요.\n",
    "arr = np.array([5, 10, 15, 20])\n",
    "print(\"합\", np.sum(arr))\n",
    "print(\"평균\", np.mean(arr))"
   ]
  },
  {
   "cell_type": "code",
   "execution_count": null,
   "id": "7beb0e83",
   "metadata": {},
   "outputs": [],
   "source": [
    "# 문제2. 다음 2차원 배열에서 전체 최소값과 최대값을 구하세요.\n",
    "arr = np.array([[3, 7, 1], [9, 2, 8]])\n",
    "print(\"최대값\", np.max(arr))\n",
    "print(\"최소값\", np.min(arr))"
   ]
  },
  {
   "cell_type": "code",
   "execution_count": null,
   "id": "9a0142bb",
   "metadata": {},
   "outputs": [],
   "source": [
    "# 아래 배열에서 각 열의 합계와 각 행의 합계를 각각 구하세요.\n",
    "arr = np.array([[1, 2, 3],\n",
    "                [4, 5, 6],\n",
    "                [7, 8, 9]])\n",
    "print(\"각 열의 합계:\", np.sum(arr, axis=0))\n",
    "print(\"각 행의 합계:\", np.sum(arr, axis=1))"
   ]
  },
  {
   "cell_type": "code",
   "execution_count": null,
   "id": "c6d6a9be",
   "metadata": {},
   "outputs": [],
   "source": [
    "# 아래 배열에서 행별 평균과 열별 평균을 각각 구하세요.\n",
    "arr = np.array([[10, 20],[30, 40],[50, 60]])\n",
    "print(\"행별 평균:\", np.mean(arr, axis=1))\n",
    "print(\"열별 평균:\", np.mean(arr, axis=0))"
   ]
  },
  {
   "cell_type": "code",
   "execution_count": null,
   "id": "5a2bc01e",
   "metadata": {},
   "outputs": [],
   "source": [
    "# 1차원 배열에서 전체 표준편차를 구하고,\n",
    "# 각 요소가 평균으로부터 얼마나 떨어져 있는지 편차 배열을 만드세요. (값 - 평균)\n",
    "arr = np.array([2, 4, 4, 4, 5, 5, 7, 9])\n",
    "arr_std = np.std(arr)\n",
    "arr_mean = np.mean(arr)\n",
    "deviation = arr - arr_mean\n",
    "print(\"평균\", arr_mean)\n",
    "print(\"표준편차\", arr_std)\n",
    "print(\"편차배열\", deviation)"
   ]
  },
  {
   "cell_type": "code",
   "execution_count": null,
   "id": "0ace499f",
   "metadata": {},
   "outputs": [],
   "source": [
    "# 아래 2차원 배열에서 행 단위 누적 합과 열 단위 누적 곱을 각각 구하세요.\n",
    "arr = np.array([[1, 2, 3],\n",
    "                [4, 5, 6]])\n",
    "print(\"행 단위 누적 합\\n\", np.cumsum(arr, axis=1))\n",
    "print(\"열 단위 누적 곱\\n\", np.cumprod(arr, axis=0))"
   ]
  },
  {
   "cell_type": "markdown",
   "id": "da8bd809",
   "metadata": {},
   "source": [
    "## 2-3. 논리 연산과 조건 연산"
   ]
  },
  {
   "cell_type": "code",
   "execution_count": null,
   "id": "5c919eb5",
   "metadata": {},
   "outputs": [],
   "source": [
    "# np.where()\n",
    "# 조건 기반 선택 함수\n",
    "arr = np.array([10,20,30,40,50])\n",
    "result = np.where(arr > 30, \"High\", \"Low\")\n",
    "print(result)"
   ]
  },
  {
   "cell_type": "code",
   "execution_count": null,
   "id": "d7ae186c",
   "metadata": {},
   "outputs": [],
   "source": [
    "arr = np.array([10,20,30,40,50])\n",
    "# 조건만 넣을 경우 조건을 만족하는 원소의 인덱스를 반환\n",
    "result = np.where(arr > 30)\n",
    "print(result)\n",
    "print(arr[result]) # 원본 배열에 Fancy indexing"
   ]
  },
  {
   "cell_type": "code",
   "execution_count": null,
   "id": "d49dc541",
   "metadata": {},
   "outputs": [],
   "source": [
    "# 논리 연산\n",
    "# and : & - 모든 조건이 True여야 True\n",
    "# or : | - 조건중 하나라도 True면 True\n",
    "# not : ~ - True를 False로, False를 True\n",
    "\n",
    "# and연산(&)\n",
    "arr = np.array([10,20,30,40,50])\n",
    "mask = (arr > 10) & (arr < 50)\n",
    "print(mask)\n",
    "print(\"&연산\", arr[mask])\n",
    "\n",
    "# or연산(|)\n",
    "mask_or = (arr < 20) | (arr > 40)\n",
    "print(\"|연산\", arr[mask_or])\n",
    "\n",
    "# not연산(~)\n",
    "mask_not = ~(arr > 30)\n",
    "print(\"~연산\", arr[mask_not])"
   ]
  },
  {
   "cell_type": "code",
   "execution_count": null,
   "id": "847d06c6",
   "metadata": {},
   "outputs": [],
   "source": [
    "arr = np.arange(0,100)\n",
    "mask = (arr % 2 == 0) & (arr > 50)\n",
    "print(arr[mask])"
   ]
  },
  {
   "cell_type": "code",
   "execution_count": null,
   "id": "367b76ae",
   "metadata": {},
   "outputs": [],
   "source": [
    "# 실습3.\n",
    "# 문제1. 1차원 배열 [5, 12, 18, 7, 30, 25]에서 10보다 크고 20보다 작은 값만 필터링하세요.\n",
    "arr1 = np.array([5, 12, 18, 7, 30, 25])\n",
    "print(arr1[(arr1 > 10) & (arr1 < 20)])"
   ]
  },
  {
   "cell_type": "code",
   "execution_count": null,
   "id": "12bb621a",
   "metadata": {},
   "outputs": [],
   "source": [
    "# 문제2. 배열 [10, 15, 20, 25, 30, 35]에서 15 이하이거나 30 이상인 값만 선택하세요.\n",
    "arr2 = np.array([10, 15, 20, 25, 30, 35])\n",
    "print(arr2[(arr2 <= 15) | (arr2 >= 30)])"
   ]
  },
  {
   "cell_type": "code",
   "execution_count": null,
   "id": "2453b77f",
   "metadata": {},
   "outputs": [],
   "source": [
    "# 문제3. 배열 [3, 8, 15, 6, 2, 20]에서 10 이상인 값을 모두 0으로 변경하세요.\n",
    "arr3 = np.array([3, 8, 15, 6, 2, 20])\n",
    "# print(np.where(arr3 >= 10, 0, arr3))\n",
    "arr3[arr3 >= 10] = 0\n",
    "print(arr3)"
   ]
  },
  {
   "cell_type": "code",
   "execution_count": null,
   "id": "9959b4de",
   "metadata": {},
   "outputs": [],
   "source": [
    "# 문제4. 배열 [7, 14, 21, 28, 35]에서 20 이상인 값은 \"High\",\n",
    "# 나머지는 \"Low\"로 표시하는 새로운 배열을 생성하세요.\n",
    "arr4 = np.array([7, 14, 21, 28, 35])\n",
    "print(np.where(arr4 >= 20, \"High\", \"Low\"))"
   ]
  },
  {
   "cell_type": "code",
   "execution_count": null,
   "id": "0f46c790",
   "metadata": {},
   "outputs": [],
   "source": [
    "# 문제5. 0~9 범위의 배열에서 짝수는 그대로 두고, 홀수는 홀수 값 × 10으로 변환한 배열을 만드세요\n",
    "arr5 = np.arange(10)\n",
    "print(np.where(arr5 % 2 == 0, arr5, arr5 * 10))"
   ]
  },
  {
   "cell_type": "code",
   "execution_count": null,
   "id": "0e1c15f6",
   "metadata": {},
   "outputs": [],
   "source": [
    "# 문제6. 아래 2차원 배열 에서 20 이상 40 이하인 값만 선택하세요.\n",
    "arr6 = np.array([[10, 25, 30],\n",
    "      [40, 5, 15],\n",
    "      [20, 35, 50]])\n",
    "\n",
    "mask = (arr6 >= 20) & (arr6 <= 40)\n",
    "print(arr6[mask])"
   ]
  },
  {
   "cell_type": "code",
   "execution_count": null,
   "id": "c8356cc8",
   "metadata": {},
   "outputs": [],
   "source": [
    "# 문제7. 배열 [1, 2, 3, 4, 5, 6]에서 3의 배수가 아닌 값만 선택하세요.\n",
    "arr7 = np.array([1, 2, 3, 4, 5, 6])\n",
    "mask = ~(arr7 % 3 == 0)\n",
    "print(arr7[mask])"
   ]
  },
  {
   "cell_type": "code",
   "execution_count": null,
   "id": "c4a4d520",
   "metadata": {},
   "outputs": [],
   "source": [
    "# 문제8. 랜덤 정수(0~100) 10개 배열에서 아래와 같이 새로운 배열을 만드세요.\n",
    "# 50 이상인 값은 그대로\n",
    "# 50 미만인 값은 50으로 변경\n",
    "arr8 = np.random.randint(0, 101, size=10)\n",
    "print(arr8)\n",
    "print(np.where(arr8 >= 50, arr8, 50))"
   ]
  },
  {
   "cell_type": "code",
   "execution_count": null,
   "id": "a17a063b",
   "metadata": {},
   "outputs": [],
   "source": [
    "# 문제9. 2차원 배열에서 아래와 같이 분류된 문자열 배열을 생성하세요.\n",
    "# 70 이상 → \"A\"\n",
    "# 30 이상 70 미만 → \"B\"\n",
    "# 30 미만 → \"C“\n",
    "arr9 =np.array([[5, 50, 95],\n",
    "              [20, 75, 10],\n",
    "              [60, 30, 85]])\n",
    "\n",
    "result = np.where(arr9 >= 70, \"A\", \n",
    "                  np.where(arr9 >= 30, \"B\", \"C\"))\n",
    "\n",
    "print(result)"
   ]
  },
  {
   "cell_type": "markdown",
   "id": "ae30656d",
   "metadata": {},
   "source": [
    "### 2-4. 행렬 곱셈\n",
    "- 두 행렬을 곱해서 새로운 행렬을 생성하는 연산\n",
    "- 첫번째 행렬의 열수와 두번째 행렬의 행수가 같아야 곱셈이 가능\n",
    "- np.dot(), np.matmul() → 행렬의 곱셈의 경우 matmul을 사용을 권장"
   ]
  },
  {
   "cell_type": "code",
   "execution_count": null,
   "id": "09982a8b",
   "metadata": {},
   "outputs": [],
   "source": [
    "# np.dot(a,b) : 배열의 내적 연산\n",
    "# 스칼라 연산(OD)\n",
    "a = np.array(3)\n",
    "b = np.array(4)\n",
    "\n",
    "print(np.dot(a,b))"
   ]
  },
  {
   "cell_type": "code",
   "execution_count": null,
   "id": "c5d69c31",
   "metadata": {},
   "outputs": [],
   "source": [
    "# 1차원 배열간 연산 → 내적\n",
    "a = np.array([1,2,3])\n",
    "b = np.array([4,5,6])\n",
    "print(np.dot(a,b))\n",
    "\n",
    "# 물건 구매\n",
    "# 데이터분석에서 벡터란 배열\n",
    "c = [1000, 2000, 5000, 10000]\n",
    "d = [10, 3, 5, 7]\n",
    "print(np.dot(c,d))"
   ]
  },
  {
   "cell_type": "code",
   "execution_count": null,
   "id": "881ddf3f",
   "metadata": {},
   "outputs": [],
   "source": [
    "# 2차원 배열간 연산 → 행렬 곱셈\n",
    "a = np.array([[1,2,3],[4,5,6]])\n",
    "b = np.array([[1,2],[3,4],[5,6]])\n",
    "print(np.dot(a,b))"
   ]
  },
  {
   "cell_type": "code",
   "execution_count": null,
   "id": "60281cfc",
   "metadata": {},
   "outputs": [],
   "source": [
    "# np.matmul(a,b)\n",
    "# Matrix Multiplication\n",
    "# 스칼라 연산 시도시 에러\n",
    "a = np.array(3)\n",
    "a = np.array(4)\n",
    "print(np.matmul(a,b))"
   ]
  },
  {
   "cell_type": "code",
   "execution_count": null,
   "id": "6b7525ef",
   "metadata": {},
   "outputs": [],
   "source": [
    "# 1차원 배열간 연산 → 내적\n",
    "a = np.array([1,2])\n",
    "b = np.array([3,4])\n",
    "print(np.matmul(a,b))"
   ]
  },
  {
   "cell_type": "code",
   "execution_count": null,
   "id": "98fffb9d",
   "metadata": {},
   "outputs": [],
   "source": [
    "# 2차원 배열간 연산 → 행렬 곱셈\n",
    "a = np.array([[1,2,3],[4,5,6]])\n",
    "b = np.array([[1,2],[3,4],[5,6]])\n",
    "print(np.matmul(a,b))\n",
    "\n",
    "# 2d * 1d 간 연산 \n",
    "c = np.array([[1,2],[3,4]])\n",
    "d = np.array([5,6])\n",
    "print(np.matmul(c,d))\n",
    "print(np.matmul(d,c))\n",
    "\n",
    "# @ 연산자\n",
    "e = np.array([[1,2,3]])\n",
    "f = np.array([[1,2],[3,4],[5,6]])\n",
    "# print(np.matmul(e,f))\n",
    "print(e @ f)"
   ]
  },
  {
   "cell_type": "code",
   "execution_count": null,
   "id": "940a1c07",
   "metadata": {},
   "outputs": [],
   "source": [
    "# 실습4.\n",
    "# 문제1. 1부터 9까지의 정수로 채워진 (3, 3) 배열 A와,\n",
    "# 모두 2로 채워진 (3, 2) 배열 B를 만들고 곱하세요.\n",
    "a = np.arange(1,10).reshape(3,3)\n",
    "print(a)\n",
    "b = np.full((3,2),2)\n",
    "print(b)\n",
    "print(np.matmul(a,b))\n",
    "print(a @ b)"
   ]
  },
  {
   "cell_type": "code",
   "execution_count": null,
   "id": "50997e78",
   "metadata": {},
   "outputs": [],
   "source": [
    "# 문제2. 4×4 단위행렬 I와, 4×4 난수 행렬 M(0~9 사이 정수) 간의 곱을 구하고,\n",
    "# 결과와 M이 동일한지 확인하세요.\n",
    "I = np.eye(4)\n",
    "print(I)\n",
    "M = np.random.randint(0, 10, (4, 4))\n",
    "print(M)\n",
    "\n",
    "print(I @ M)\n",
    "print(M @ I)\n",
    "\n",
    "# 같은 위치에 있는 원소끼리 곱함\n",
    "M * I"
   ]
  },
  {
   "cell_type": "code",
   "execution_count": null,
   "id": "8eac5c20",
   "metadata": {},
   "outputs": [],
   "source": [
    "# 문제3. 모든 값이 1인 (2, 5) 배열 X와,\n",
    "# 5부터 14까지의 연속된 정수로 채워진 (5, 2) 배열 Y를 만들어 곱하세요.\n",
    "X = np.ones((2,5))\n",
    "print(X)\n",
    "Y = np.arange(5,15).reshape(5,2)\n",
    "print(Y)\n",
    "print(X @ Y)"
   ]
  },
  {
   "cell_type": "code",
   "execution_count": null,
   "id": "14f44b1c",
   "metadata": {},
   "outputs": [],
   "source": [
    "# 문제4. 0 이상 5 미만의 임의의 정수로 채워진 (3, 2) 배열 C와\n",
    "# (2, 3) 배열 D를 각각 만들어 곱한 결과의 shape와 값을 출력하세요.\n",
    "a = np.random.randint(0, 5, (3, 2))\n",
    "b = np.random.randint(0, 5, (2, 3))\n",
    "\n",
    "print(a)\n",
    "print(b)\n",
    "result = a @ b\n",
    "print(result)\n",
    "print(result.shape)"
   ]
  }
 ],
 "metadata": {
  "kernelspec": {
   "display_name": "data_analysis",
   "language": "python",
   "name": "python3"
  },
  "language_info": {
   "codemirror_mode": {
    "name": "ipython",
    "version": 3
   },
   "file_extension": ".py",
   "mimetype": "text/x-python",
   "name": "python",
   "nbconvert_exporter": "python",
   "pygments_lexer": "ipython3",
   "version": "3.13.5"
  }
 },
 "nbformat": 4,
 "nbformat_minor": 5
}
