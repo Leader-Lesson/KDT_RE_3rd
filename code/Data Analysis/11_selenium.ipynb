{
 "cells": [
  {
   "cell_type": "markdown",
   "id": "62b4844b",
   "metadata": {},
   "source": [
    "## 11. Selenium\n",
    "- 웹 자동화를 위한 라이브러리"
   ]
  },
  {
   "cell_type": "code",
   "execution_count": null,
   "id": "e215b4e1",
   "metadata": {},
   "outputs": [],
   "source": [
    "from selenium import webdriver\n",
    "from webdriver_manager.chrome import ChromeDriverManager\n",
    "from selenium.webdriver.chrome.service import Service"
   ]
  },
  {
   "cell_type": "code",
   "execution_count": null,
   "id": "72eb9a4b",
   "metadata": {},
   "outputs": [],
   "source": [
    "import time\n",
    "\n",
    "# Chrome 브라우저 실행\n",
    "driver = webdriver.Chrome(service=Service(ChromeDriverManager().install()))\n",
    "\n",
    "# 원하는 페이지로 이동\n",
    "driver.get(\"https://www.google.com\")\n",
    "time.sleep(3)\n",
    "driver.get(\"https://www.naver.com\")\n",
    "time.sleep(3)\n",
    "\n",
    "# 페이지 이동\n",
    "driver.back()\n",
    "time.sleep(3)\n",
    "driver.forward()\n",
    "time.sleep(3)\n",
    "driver.refresh()\n",
    "time.sleep(1)\n",
    "\n",
    "# 크기변경\n",
    "driver.set_window_size(1200, 800)\n",
    "time.sleep(2)\n",
    "\n",
    "# 최대화\n",
    "driver.maximize_window()\n",
    "time.sleep(2)\n",
    "\n",
    "# 최소화\n",
    "driver.minimize_window()\n",
    "time.sleep(2)\n",
    "\n",
    "# 창 배치\n",
    "driver.set_window_position(50, 50)\n",
    "\n",
    "# 스크린샷 찍기\n",
    "driver.save_screenshot(\"naver.png\")\n",
    "\n",
    "time.sleep(3)\n",
    "driver.quit()"
   ]
  },
  {
   "cell_type": "code",
   "execution_count": null,
   "id": "0b687efa",
   "metadata": {},
   "outputs": [],
   "source": [
    "from selenium.webdriver.common.by import By\n",
    "from selenium.webdriver.common.keys import Keys\n",
    "\n",
    "driver = webdriver.Chrome(service=Service(ChromeDriverManager().install()))\n",
    "driver.get(\"https://www.selenium.dev/selenium/web/web-form.html\")\n",
    "\n",
    "# 웹페이지의 요소 선택과 제어\n",
    "text_input = driver.find_element(By.ID, \"my-text-id\")\n",
    "\n",
    "time.sleep(5)\n",
    "\n",
    "# 요소 제어\n",
    "text_input.send_keys(\"Hello Selenium!!\")\n",
    "time.sleep(3)\n",
    "text_input.clear()\n",
    "time.sleep(3)\n",
    "text_input.send_keys(\"코딩은 재밌어ㅋㅋ\")\n",
    "time.sleep(3)\n",
    "# text_input.send_keys(Keys.RETURN)\n",
    "\n",
    "submit_btn = driver.find_element(By.TAG_NAME, \"button\")\n",
    "submit_btn.click()\n",
    "\n",
    "msg = driver.find_element(By.ID, \"message\")\n",
    "print(\"제출 결과:\", msg)\n",
    "print(\"제출 내용:\", msg.text)\n",
    "\n",
    "time.sleep(5)\n",
    "driver.quit()"
   ]
  },
  {
   "cell_type": "code",
   "execution_count": 19,
   "id": "6633e453",
   "metadata": {},
   "outputs": [],
   "source": [
    "driver = webdriver.Chrome(service=Service(ChromeDriverManager().install()))\n",
    "driver.get(\"https://www.google.com\")\n",
    "\n",
    "time.sleep(3)\n",
    "search_box = driver.find_element(By.NAME, \"q\")\n",
    "search_box.send_keys(\"Python\", Keys.RETURN)\n",
    "\n",
    "time.sleep(10)\n",
    "\n",
    "driver.quit()"
   ]
  }
 ],
 "metadata": {
  "kernelspec": {
   "display_name": "data_analysis",
   "language": "python",
   "name": "python3"
  },
  "language_info": {
   "codemirror_mode": {
    "name": "ipython",
    "version": 3
   },
   "file_extension": ".py",
   "mimetype": "text/x-python",
   "name": "python",
   "nbconvert_exporter": "python",
   "pygments_lexer": "ipython3",
   "version": "3.13.5"
  }
 },
 "nbformat": 4,
 "nbformat_minor": 5
}
