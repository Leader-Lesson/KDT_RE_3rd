{
 "cells": [
  {
   "cell_type": "markdown",
   "id": "20ef4984",
   "metadata": {},
   "source": [
    "## NumPy(3)"
   ]
  },
  {
   "cell_type": "markdown",
   "id": "c0afc116",
   "metadata": {},
   "source": [
    "### 3-1. 배열의 형태 변형과 차원 확장/축소"
   ]
  },
  {
   "cell_type": "code",
   "execution_count": null,
   "id": "29c6e1ea",
   "metadata": {},
   "outputs": [],
   "source": [
    "import numpy as np"
   ]
  },
  {
   "cell_type": "code",
   "execution_count": null,
   "id": "4b0ddd95",
   "metadata": {},
   "outputs": [],
   "source": [
    "# array.ravel() \n",
    "# 다차원 배열을 1차원 배열로 펼침\n",
    "# 결과를 view로 반환(view를 변경시 원본도 변경)\n",
    "a = np.array([[1,2,3],[4,5,6]])\n",
    "print(a)\n",
    "\n",
    "flat = a.ravel()\n",
    "print(flat)\n",
    "\n",
    "flat[2] = 100\n",
    "print(flat)\n",
    "print(a)"
   ]
  },
  {
   "cell_type": "code",
   "execution_count": null,
   "id": "453b2d8c",
   "metadata": {},
   "outputs": [],
   "source": [
    "# array.flatten()\n",
    "# 다차원 배열을 1차원 배열로 펼침\n",
    "# 결과를 복사본으로 반환(복사본 변경시 원본은 변경되 않음)\n",
    "a = np.array([[[1,2],[3,4]],[[5,6],[7,8]]])\n",
    "print(a)\n",
    "\n",
    "flat = a.flatten()\n",
    "print(flat)\n",
    "\n",
    "flat[4] = 0\n",
    "print(flat)\n",
    "print(a)"
   ]
  },
  {
   "cell_type": "code",
   "execution_count": null,
   "id": "bbb15f1f",
   "metadata": {},
   "outputs": [],
   "source": [
    "# np.expand_dims(a, axis)\n",
    "# 지정한 위치에 차원 추가(차원 확장)\n",
    "# 추가되는 차원은 1\n",
    "a = np.array([[1,2,3],[4,5,6]]) # 2 x 3\n",
    "print(\"원본:\", a.shape)\n",
    "\n",
    "# axis=0\n",
    "a0 = np.expand_dims(a, axis=0)\n",
    "print(\"a0\", a0.shape)\n",
    "print(\"a0\", a0)\n",
    "\n",
    "# axis=1\n",
    "a1 = np.expand_dims(a, axis=1)\n",
    "print(\"a1\", a1.shape)\n",
    "print(\"a1\", a1)\n",
    "\n",
    "# axis=2\n",
    "a2 = np.expand_dims(a, axis=2)\n",
    "print(\"a1\", a2.shape)\n",
    "print(\"a1\", a2)"
   ]
  },
  {
   "cell_type": "code",
   "execution_count": null,
   "id": "01f0ede8",
   "metadata": {},
   "outputs": [],
   "source": [
    "# np.squeeze(a, axis)\n",
    "# 배열에서 크기가 1인 차원을 제거해주는 함수(차원 축소)\n",
    "a = np.array([[[[1],[2],[3]]], [[[1],[2],[3]]]])\n",
    "print(a.shape)\n",
    "s = np.squeeze(a)\n",
    "print(s)\n",
    "print(s.shape)"
   ]
  },
  {
   "cell_type": "code",
   "execution_count": null,
   "id": "b491af36",
   "metadata": {},
   "outputs": [],
   "source": [
    "# axis 지정하는 경우\n",
    "a2 = np.zeros((1,4,1,2))\n",
    "print(a2.shape)\n",
    "\n",
    "s1 = np.squeeze(a2, axis=0)\n",
    "print(s1.shape)\n",
    "\n",
    "s2 = np.squeeze(a2, axis=2)\n",
    "print(s2.shape)\n",
    "\n",
    "# 차원의 크기가 1이 아닌 차원은 제거할 수 X\n",
    "s3 = np.squeeze(a2, axis=1)"
   ]
  },
  {
   "cell_type": "code",
   "execution_count": null,
   "id": "1ce19c43",
   "metadata": {},
   "outputs": [],
   "source": [
    "# np.unique() \n",
    "# 배열에서 중복된 요소를 제거\n",
    "a = np.array([1,1,1,5,5,2,2,2,2,4,4,4,3,3,3])\n",
    "u1 = np.unique(a) # 고유값의 오름차순 배열 반환\n",
    "print(u1)\n",
    "\n",
    "u2, idx, inv, cnt = np.unique(a, return_index=True, return_inverse=True, return_counts=True)\n",
    "print(\"인덱스:\", idx) # 고유값이 원본에서 처음 나타나는 인덱스\n",
    "print(\"원본의 고유값 인덱스:\", inv) \n",
    "print(\"값의 등장 횟수:\", cnt)"
   ]
  },
  {
   "cell_type": "code",
   "execution_count": null,
   "id": "8a1a7a60",
   "metadata": {},
   "outputs": [],
   "source": [
    "# 실습1.\n",
    "# 문제1. 아래의 배열을 사용해서\n",
    "# ravel과 flatten을 각각 사용해 1차원 배열로 변환하고,\n",
    "# arr의 첫 번째 원소(arr[0,0])를 999로 바꾼 뒤 ravel 결과와 flatten 결과에 어떤 변화가 있는지 확인하세요\n",
    "arr = np.array([[10, 20], [30, 40], [50, 60]])\n",
    "\n",
    "r = arr.ravel()\n",
    "f = arr.flatten()\n",
    "print(\"r:\",r)\n",
    "print(\"f:\",f)\n",
    "\n",
    "arr[0,0] = 999\n",
    "print(\"r:\",r)\n",
    "print(\"f:\",f)"
   ]
  },
  {
   "cell_type": "code",
   "execution_count": null,
   "id": "f5eda2d4",
   "metadata": {},
   "outputs": [],
   "source": [
    "# 문제2. 크기가 32x32인 이미지 데이터를 가정하고,\n",
    "# 이 배열에 대해 expand_dims를 사용하여 shape (1, 32, 32)로 바꾸는 코드를 작성하세요.\n",
    "img = np.random.rand(32, 32)\n",
    "img2 = np.expand_dims(img, axis=0)\n",
    "print(img2)\n",
    "print(img2.shape)"
   ]
  },
  {
   "cell_type": "code",
   "execution_count": null,
   "id": "84e6f768",
   "metadata": {},
   "outputs": [],
   "source": [
    "# 문제3.아래 배열에서 불필요한 1차원을 모두 제거하여 shape이 (28, 28)이 되도록 만드세요.\n",
    "img = np.random.randint(0, 255, (1, 28, 28, 1))\n",
    "result = np.squeeze(img)\n",
    "print(result)\n",
    "print(result.shape)"
   ]
  },
  {
   "cell_type": "code",
   "execution_count": null,
   "id": "3776525b",
   "metadata": {},
   "outputs": [],
   "source": [
    "# 문제4. 아래 2차원 배열을 \n",
    "# 1) 1차원 배열로 만든 후\n",
    "# 2) 중복값을 제거한 뒤 shape (1, n)으로 재구성하세요.\n",
    "arr = np.array([[3, 1, 2, 2],\n",
    "                [1, 2, 3, 1],\n",
    "                [2, 2, 1, 4]])\n",
    "flat = arr.flatten()\n",
    "print(flat)\n",
    "uniq = np.unique(flat)\n",
    "print(uniq)\n",
    "result = uniq.reshape(1,-1) # -1을 입력할시 자동으로 계산해줌\n",
    "print(result)"
   ]
  },
  {
   "cell_type": "code",
   "execution_count": null,
   "id": "452d0d04",
   "metadata": {},
   "outputs": [],
   "source": [
    "# 문제5. 다음 배열을 shape (10,)로 만든 뒤 고유값 배열을 구하세요.\n",
    "arr = np.array([[[1], [3], [2], [1], [3], [2], [3], [1], [2], [3]]])  # shape (1, 10, 1)\n",
    "s = np.squeeze(arr)\n",
    "print(s)\n",
    "u = np.unique(s)\n",
    "print(u)"
   ]
  },
  {
   "cell_type": "code",
   "execution_count": null,
   "id": "c3dddaf4",
   "metadata": {},
   "outputs": [],
   "source": [
    "# 문제6. 다음 배열을 1차원 배열로 만든 후 고유값만 추출해서\n",
    "# shape (고유값 개수, 1)인 2차원 배열로 변환하세요.\n",
    "arr = np.array([ [[0, 1, 2, 3], [1, 2, 3, 4], [2, 3, 4, 5]],\n",
    "                [[3, 4, 5, 6], [4, 5, 6, 7], [5, 6, 7, 8]] ])  # shape (2, 3, 4)\n",
    "flat = arr.flatten()\n",
    "uniq = np.unique(flat)\n",
    "print(uniq)\n",
    "print(uniq.shape)\n",
    "reshaped = np.expand_dims(uniq, axis=1)\n",
    "print(reshaped)\n",
    "print(reshaped.shape)"
   ]
  },
  {
   "cell_type": "markdown",
   "id": "b70b85a8",
   "metadata": {},
   "source": [
    "### 3-2. 배열의 결합과 분리"
   ]
  },
  {
   "cell_type": "code",
   "execution_count": null,
   "id": "da67613f",
   "metadata": {},
   "outputs": [],
   "source": [
    "# np.concatenate()\n",
    "# 배열 시퀀스를 결합\n",
    "# 기존 구조 안에서 결합\n",
    "a = np.array([[1,2],[3,4]]) # (2, 2)\n",
    "b = np.array([[5,6]])\n",
    "\n",
    "result1 = np.concatenate((a, b), axis=0)\n",
    "print(result1)\n",
    "print(result1.shape)\n",
    "\n",
    "# 결합이 불가 → 겳합하는 axis를 제외한 나머지 차원이 같아야 함\n",
    "# result2 = np.concatenate((a, b), axis=1)\n",
    "\n",
    "c = np.array([[7],[8],[9]])\n",
    "result3 = np.concatenate((result1, c), axis=1)\n",
    "print(result3)\n",
    "print(result3.shape)"
   ]
  },
  {
   "cell_type": "code",
   "execution_count": null,
   "id": "cf9201e6",
   "metadata": {},
   "outputs": [],
   "source": [
    "# np.stack()\n",
    "# 새로운 차원을 추가하면서 결합\n",
    "a = np.array([1,2,3]) # (3,)\n",
    "b = np.array([4,5,6])\n",
    "\n",
    "# axis=0\n",
    "s1 = np.stack((a, b), axis=0)\n",
    "print(s1)\n",
    "print(s1.shape)\n",
    "\n",
    "# axis=1\n",
    "s2 = np.stack((a, b), axis=1)\n",
    "print(s2)\n",
    "print(s2.shape)"
   ]
  },
  {
   "cell_type": "code",
   "execution_count": null,
   "id": "4d3ee341",
   "metadata": {},
   "outputs": [],
   "source": [
    "# np.split()\n",
    "# 배열을 여러개의 하위배열로 분할\n",
    "a = np.arange(9)\n",
    "s = np.split(a, 3)\n",
    "print(a)\n",
    "print(s)\n",
    "print(s[0])\n",
    "print(s[1])\n",
    "print(s[2])"
   ]
  },
  {
   "cell_type": "code",
   "execution_count": null,
   "id": "4174d315",
   "metadata": {},
   "outputs": [],
   "source": [
    "# 배열을 같은 크기로만 나눌 수 있음\n",
    "a = np.arange(9)\n",
    "s = np.split(a, 4)"
   ]
  },
  {
   "cell_type": "code",
   "execution_count": null,
   "id": "83935771",
   "metadata": {},
   "outputs": [],
   "source": [
    "a = np.arange(16).reshape(4,4)\n",
    "print(a)\n",
    "\n",
    "s1 = np.split(a, [1,3])\n",
    "for part in s1:\n",
    "  print(part)\n",
    "\n",
    "s2 = np.split(a, 2, axis=1)\n",
    "for part in s2:\n",
    "  print(part)"
   ]
  },
  {
   "cell_type": "code",
   "execution_count": null,
   "id": "d5e426c9",
   "metadata": {},
   "outputs": [],
   "source": [
    "# 실습2.\n",
    "# 문제1. 다음 두 배열을 행 방향으로 이어붙이세요.\n",
    "a = np.array([[1, 2], [3, 4]])\n",
    "b = np.array([[5, 6]])\n",
    "print(np.concatenate((a,b)))"
   ]
  },
  {
   "cell_type": "code",
   "execution_count": null,
   "id": "747467db",
   "metadata": {},
   "outputs": [],
   "source": [
    "# 문제2. 아래 배열을 3개로 같은 크기로 분할하세요.\n",
    "a = np.arange(12)\n",
    "result = np.split(a,3)\n",
    "for part in result:\n",
    "  print(part) "
   ]
  },
  {
   "cell_type": "code",
   "execution_count": null,
   "id": "c7051309",
   "metadata": {},
   "outputs": [],
   "source": [
    "# 문제3. 다음 배열들을 새로운 축에 쌓아 shape이 (3, 2)인 배열을 만드세요.\n",
    "a = np.array([1, 2])\n",
    "b = np.array([3, 4])\n",
    "c = np.array([5, 6])\n",
    "\n",
    "result = np.stack((a,b,c), axis=0)\n",
    "print(result)\n",
    "print(result.shape)"
   ]
  },
  {
   "cell_type": "markdown",
   "id": "7f4252d0",
   "metadata": {},
   "source": [
    "## 3-3. 배열의 정렬"
   ]
  },
  {
   "cell_type": "code",
   "execution_count": null,
   "id": "297cf14b",
   "metadata": {},
   "outputs": [],
   "source": [
    "# np.sort(array)\n",
    "# 정렬된 복사본 반환\n",
    "# array.sort()\n",
    "# 원본 배열을 정렬\n",
    "\n",
    "# 1차원 배열\n",
    "a = np.array([3,1,4,2])\n",
    "\n",
    "# 정렬한 배열을 반환\n",
    "s = np.sort(a)\n",
    "print(s)\n",
    "print(a)\n",
    "\n",
    "# 원본을 정렬\n",
    "a.sort()\n",
    "print(a)\n",
    "\n",
    "# 내림차순 : sort한 후 배열을 뒤집어야 함\n",
    "print(a[::-1])"
   ]
  },
  {
   "cell_type": "code",
   "execution_count": null,
   "id": "c3090d90",
   "metadata": {},
   "outputs": [],
   "source": [
    "# 2차원 배열 정렬\n",
    "a = [[6,5,4],[3,1,2]]\n",
    "s1 = np.sort(a, axis=0)\n",
    "print(s1)\n",
    "s2 = np.sort(a, axis=1)\n",
    "print(s2)"
   ]
  },
  {
   "cell_type": "code",
   "execution_count": null,
   "id": "245031ed",
   "metadata": {},
   "outputs": [],
   "source": [
    "# np.argsort()\n",
    "# 정렬 인덱스를 반환\n",
    "a = np.array([3,5,1,2,4])\n",
    "idx = np.argsort(a)\n",
    "print(idx)\n",
    "print(a[idx])"
   ]
  },
  {
   "cell_type": "code",
   "execution_count": 79,
   "id": "d5e614d3",
   "metadata": {},
   "outputs": [
    {
     "name": "stdout",
     "output_type": "stream",
     "text": [
      "[2 4 5 7 9]\n",
      "[9 7 5 4 2]\n"
     ]
    }
   ],
   "source": [
    "# 실습3.\n",
    "# 문제1.아래의 1차원 배열을 오름차순과 내림차순으로 각각 정렬하는 코드를 작성하세요.\n",
    "arr = np.array([7, 2, 9, 4, 5])\n",
    "asc = np.sort(arr)\n",
    "desc = np.sort(arr)[::-1]\n",
    "print(asc)\n",
    "print(desc)"
   ]
  },
  {
   "cell_type": "code",
   "execution_count": 80,
   "id": "44bf6cb9",
   "metadata": {},
   "outputs": [
    {
     "name": "stdout",
     "output_type": "stream",
     "text": [
      "[[2 5 9]\n",
      " [1 3 8]]\n"
     ]
    }
   ],
   "source": [
    "# 문제2. 아래의 2차원 배열에서 각 행(row) 별로 오름차순 정렬된 배열을 구하세요.\n",
    "arr = np.array([[9, 2, 5],\n",
    "                [3, 8, 1]])\n",
    "print(np.sort(arr, axis=1))"
   ]
  },
  {
   "cell_type": "code",
   "execution_count": 81,
   "id": "3211c7c0",
   "metadata": {},
   "outputs": [
    {
     "name": "stdout",
     "output_type": "stream",
     "text": [
      "[3 1 2 4 0]\n",
      "[ 1  3  7  9 10]\n"
     ]
    }
   ],
   "source": [
    "# 문제3. 아래의 1차원 배열에서 정렬 결과(오름차순)가 되는 인덱스 배열을 구하고,\n",
    "# 그 인덱스를 이용해 원본 배열을 직접 재정렬하는 코드를 작성하세요.\n",
    "arr = np.array([10, 3, 7, 1, 9])\n",
    "idx = np.argsort(arr)\n",
    "s = arr[idx]\n",
    "print(idx)\n",
    "print(s)"
   ]
  },
  {
   "cell_type": "code",
   "execution_count": 82,
   "id": "0cb8db5f",
   "metadata": {},
   "outputs": [
    {
     "name": "stdout",
     "output_type": "stream",
     "text": [
      "[[4 1 2]\n",
      " [6 7 3]\n",
      " [9 8 5]]\n"
     ]
    }
   ],
   "source": [
    "# 문제4. 아래 2차원 배열을 열(column) 기준(axis=0)으로 오름차순 정렬된 배열을 구하세요.\n",
    "arr = np.array([[4, 7, 2],\n",
    "\t\t\t\t\t\t\t\t[9, 1, 5],\n",
    "\t\t\t\t\t\t\t\t[6, 8, 3]])\n",
    "\n",
    "s = np.sort(arr, axis=0)\n",
    "print(s)"
   ]
  }
 ],
 "metadata": {
  "kernelspec": {
   "display_name": "data_analysis",
   "language": "python",
   "name": "python3"
  },
  "language_info": {
   "codemirror_mode": {
    "name": "ipython",
    "version": 3
   },
   "file_extension": ".py",
   "mimetype": "text/x-python",
   "name": "python",
   "nbconvert_exporter": "python",
   "pygments_lexer": "ipython3",
   "version": "3.13.5"
  }
 },
 "nbformat": 4,
 "nbformat_minor": 5
}
