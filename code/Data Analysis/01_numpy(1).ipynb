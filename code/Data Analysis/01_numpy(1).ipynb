{
 "cells": [
  {
   "cell_type": "markdown",
   "id": "ea6ded8a",
   "metadata": {},
   "source": [
    "## 01. NumPy\n",
    "- 다차원 배열을 쉽고 효율적으로 사용할 수 있도록 지원하는 파이썬 라이브러리\n",
    "- 데이터 분석 라이브러리의 근본!!"
   ]
  },
  {
   "cell_type": "markdown",
   "id": "43afdfa8",
   "metadata": {},
   "source": [
    "### 1-1. ndarray\n",
    "- NumPy의 핵심 데이터 구조\n",
    "- 동일한 자료형의 다차원 배열"
   ]
  },
  {
   "cell_type": "code",
   "execution_count": null,
   "id": "33a726cc",
   "metadata": {},
   "outputs": [],
   "source": [
    "import numpy as np"
   ]
  },
  {
   "cell_type": "code",
   "execution_count": null,
   "id": "926b35d3",
   "metadata": {},
   "outputs": [],
   "source": [
    "# ndarray의 생성\n",
    "a = np.array([[1,2,3],[4,5,6]])\n",
    "b = np.array([1.0, 3.14, 1.24])\n",
    "\n",
    "# 배열의 구조\n",
    "print(f\"배열의 구조: {a.shape}\")\n",
    "\n",
    "# 배열의 차원 수\n",
    "print(f\"배열의 차원: {a.ndim}\")\n",
    "\n",
    "# 데이터 타입\n",
    "print(f\"배열의 데이터타입: {a.dtype}\")\n",
    "print(f\"배열의 데이터타입: {b.dtype}\")\n",
    "\n",
    "# 형변환\n",
    "new_a = a.astype(np.float64)\n",
    "print(f\"수정한 배열의 데이터타입: {new_a.dtype}\")\n"
   ]
  },
  {
   "cell_type": "code",
   "execution_count": null,
   "id": "3eae32e1",
   "metadata": {},
   "outputs": [],
   "source": [
    "# 3차원 행렬\n",
    "a = np.array([[[1,2,3],[4,5,6]],\n",
    "              [[1,2,3],[4,5,6]],\n",
    "              [[1,2,3],[4,5,6]]])\n",
    "print(f\"배열의 구조: {a.shape}\")\n",
    "print(f\"배열의 차원: {a.ndim}\")"
   ]
  },
  {
   "cell_type": "code",
   "execution_count": null,
   "id": "0ba1f430",
   "metadata": {},
   "outputs": [],
   "source": [
    "# 4차원 행렬\n",
    "a = np.array([[[[1,2,3],[4,5,6]],\n",
    "              [[1,2,3],[4,5,6]],\n",
    "              [[1,2,3],[4,5,6]]],\n",
    "              [[[1,2,3],[4,5,6]],\n",
    "              [[1,2,3],[4,5,6]],\n",
    "              [[1,2,3],[4,5,6]]]])\n",
    "print(f\"배열의 구조: {a.shape}\")\n",
    "print(f\"배열의 차원: {a.ndim}\")"
   ]
  },
  {
   "cell_type": "code",
   "execution_count": null,
   "id": "20c8be68",
   "metadata": {},
   "outputs": [],
   "source": [
    "# 만들 수 없는 배열\n",
    "# 내부 배열의 구조가 같아야 함\n",
    "a = np.array([[1],[2,3]])"
   ]
  },
  {
   "cell_type": "markdown",
   "id": "126a8933",
   "metadata": {},
   "source": [
    "### 1-2. 배열 초기화"
   ]
  },
  {
   "cell_type": "code",
   "execution_count": null,
   "id": "48c6ee17",
   "metadata": {},
   "outputs": [],
   "source": [
    "# 모든 요소가 0인 배열 생성\n",
    "np.zeros((3, 4)) # 2차원\n",
    "np.zeros((2, 3, 4), dtype=np.int64) # 3차원"
   ]
  },
  {
   "cell_type": "code",
   "execution_count": null,
   "id": "235e58a0",
   "metadata": {},
   "outputs": [],
   "source": [
    "# 모든 요소가 1인 배열 생성\n",
    "np.ones((5, 6))"
   ]
  },
  {
   "cell_type": "code",
   "execution_count": null,
   "id": "f736f060",
   "metadata": {},
   "outputs": [],
   "source": [
    "# (원소의 값이) 초기화 되지 않은 배열 생성\n",
    "np.empty((2, 3))"
   ]
  },
  {
   "cell_type": "code",
   "execution_count": null,
   "id": "f5728569",
   "metadata": {},
   "outputs": [],
   "source": [
    "# 주어진 값으로 채운 배열\n",
    "np.full((3,3), 7)"
   ]
  },
  {
   "cell_type": "code",
   "execution_count": null,
   "id": "fe5e4752",
   "metadata": {},
   "outputs": [],
   "source": [
    "# 단위 행렬\n",
    "np.eye(3, 3)\n",
    "np.eye(3, 5, 1) # 3번째 인자를 입력 → 1이 오른쪽으로 이동"
   ]
  },
  {
   "cell_type": "markdown",
   "id": "424ce772",
   "metadata": {},
   "source": [
    "### 1-3. 범위 기반 배열 생성"
   ]
  },
  {
   "cell_type": "code",
   "execution_count": null,
   "id": "1a9eff3e",
   "metadata": {},
   "outputs": [],
   "source": [
    "# arange : range()와 유사한 기능을 제공\n",
    "# 시작 이상 끝 미만의 정수 배열을 지정한 간격으로 생성\n",
    "np.arange(0, 10)\n",
    "np.arange(0, 10, 2) # 간격 지정"
   ]
  },
  {
   "cell_type": "code",
   "execution_count": null,
   "id": "a74d97f9",
   "metadata": {},
   "outputs": [],
   "source": [
    "# linspace : 시작~끝까지 균일 간격으로 지정한 개수만큼 숫자를 생성\n",
    "# 끝을 포함\n",
    "np.linspace(10, 100, 10)\n",
    "np.linspace(0.1, 1, 10)"
   ]
  },
  {
   "cell_type": "code",
   "execution_count": null,
   "id": "49396d91",
   "metadata": {},
   "outputs": [],
   "source": [
    "# reshape : 배열의 구조를 재배치\n",
    "# np.linspace(1,10,10).reshape((2,3)) # 원소의 개수가 같아야 함\n",
    "np.linspace(5,100,20).reshape((4,5)) "
   ]
  },
  {
   "cell_type": "markdown",
   "id": "d8820cf7",
   "metadata": {},
   "source": [
    "### 1-4. 랜덤 배열 생성"
   ]
  },
  {
   "cell_type": "code",
   "execution_count": null,
   "id": "581ed03b",
   "metadata": {},
   "outputs": [],
   "source": [
    "# random.rand(m, n) : 0~1 사이의 난수로 초기화\n",
    "np.random.rand(2,3)"
   ]
  },
  {
   "cell_type": "code",
   "execution_count": null,
   "id": "4179009a",
   "metadata": {},
   "outputs": [],
   "source": [
    "# random.randn(m, n) : 표준정규분포를 따르는 난수로 초기화\n",
    "# 표준정규분포 : 평균 0, 분산 1인 정규분포\n",
    "np.random.randn(2,4,5)\n",
    "\n",
    "# random.normal(평균, 분산, 사이즈)\n",
    "# 정규분포\n",
    "np.random.normal(10, 20, (2,4))"
   ]
  },
  {
   "cell_type": "code",
   "execution_count": null,
   "id": "9d404b95",
   "metadata": {},
   "outputs": [],
   "source": [
    "# random.randint(low, high, (size))\n",
    "print(np.random.randint(0, 101, (3 ,3)))"
   ]
  },
  {
   "cell_type": "code",
   "execution_count": null,
   "id": "128e7032",
   "metadata": {},
   "outputs": [],
   "source": [
    "# random.seed() : 난수 생성시 시작값 제공\n",
    "np.random.seed(42)\n",
    "print(np.random.rand(2,3))\n",
    "print(np.random.randn(2,2))\n",
    "print(np.random.randint(0, 101, (3 ,3)))"
   ]
  },
  {
   "cell_type": "code",
   "execution_count": null,
   "id": "5ec58be1",
   "metadata": {},
   "outputs": [],
   "source": [
    "# RNG(Random Number Generator)\n",
    "# 최근 NumPy 사용에서 권장되는 방식\n",
    "from numpy.random import default_rng\n",
    "\n",
    "rng = default_rng(seed=42)\n",
    "rng2 = default_rng(seed=10)\n",
    "rng3 = default_rng()\n",
    "\n",
    "print(rng.random((3,2))) # 0~1사이의 난수\n",
    "print(rng2.normal(0, 1, (4,5))) # 정규분포\n",
    "print(rng3.integers(0, 100, (2,2))) # 정수 난수\n",
    "print(rng.uniform(0, 100, (4,4))) # 균등 분포"
   ]
  },
  {
   "cell_type": "code",
   "execution_count": null,
   "id": "d62da43e",
   "metadata": {},
   "outputs": [],
   "source": [
    "# 실습1. 배열 초기화 및 생성(1)\n",
    "# 1. 0으로 채워진 크기 (3, 4) 배열을 생성한 후, 모든 값을 5로 채우는 새로운 배열을 만드세요. \n",
    "a1 = np.zeros((3,4))\n",
    "a1_2 = np.full((3,4),5)\n",
    "print(\"문제1:\", a1, a1_2, sep=\"\\n\")\n",
    "\n",
    "# 2. 0부터 20까지 2씩 증가하는 1차원 배열을 생성하세요.\n",
    "a2 = np.arange(0, 21, 2)\n",
    "print(\"\\n문제2:\", a2)\n",
    "\n",
    "# 3. 0~1 사이의 실수 난수를 가지는 (2, 3) 크기의 배열을 생성하세요.\n",
    "a3 = np.random.rand(2,3)\n",
    "print(\"\\n문제3:\", a3)\n",
    "\n",
    "# 4. 평균이 100, 표준편차가 20인 정규분포 난수 6개를 생성하세요.\n",
    "a4 = np.random.normal(100, 20, 6)\n",
    "print(\"\\n문제4:\", a4)\n",
    "\n",
    "# 5. 1부터 20까지의 정수를 포함하는 1차원 배열을 만들고, 이 배열을 (4, 5) 크기의 2차원 배열로 변환하세요.\n",
    "a5 = np.arange(1,21).reshape(4,5)\n",
    "print(\"\\n문제5:\", a5)\n",
    "\n",
    "# 6. 0부터 1까지 균등 간격으로 나눈 12개의 값을 가지는 배열을 생성하고, 이를 (3, 4) 크기로 변환하세요. \n",
    "a6 = np.linspace(0, 1, 12).reshape(3,4)\n",
    "print(\"\\n문제6:\", a6)\n",
    "\n",
    "# 7. 0~99 사이의 정수 난수로 이루어진 (10, 10) 배열을 생성한 뒤,\n",
    "# np.eye()로 만든 단위 행렬을 더하여 대각선 요소가 1씩 증가된 배열을 만드세요.\n",
    "a7 = np.random.randint(0, 100, (10, 10))\n",
    "a7_eye = np.eye(10)\n",
    "a7_added = a7 + a7_eye\n",
    "print(\"\\n문제7:\", a7_added)\n",
    "\n",
    "# 8. 0~9 사이의 정수 난수로 이루어진 (2, 3, 4) 3차원 배열을 생성하세요.\n",
    "a8 = np.random.randint(0, 10, (2, 3, 4))\n",
    "print(\"\\n문제8:\", a8)\n"
   ]
  },
  {
   "cell_type": "markdown",
   "id": "a35c239c",
   "metadata": {},
   "source": [
    "### 1-5. 인덱싱과 슬라이싱\n",
    "- 다차원 배열을 다루는 편의 기능 제공\n",
    "- Python의 시퀀스보다 빠름"
   ]
  },
  {
   "cell_type": "code",
   "execution_count": null,
   "id": "f8f29f44",
   "metadata": {},
   "outputs": [],
   "source": [
    "# 인덱싱\n",
    "a = np.array([10, 20, 30, 40, 50])\n",
    "print(a[2])\n",
    "print(a[-1])"
   ]
  },
  {
   "cell_type": "code",
   "execution_count": null,
   "id": "67f9a41d",
   "metadata": {},
   "outputs": [],
   "source": [
    "# 다차원 인덱싱\n",
    "# 파이썬 리스트\n",
    "matrix = [[1,2,4],[4,5,6]]\n",
    "print(\"파이썬 인덱싱:\", matrix[1][1])\n",
    "\n",
    "# NumPy 배열\n",
    "a2 = np.array([[1,2,4],[4,5,6]])\n",
    "print(a2.shape)\n",
    "print(\"numpy 인덱싱:\", a2[1, 2])"
   ]
  },
  {
   "cell_type": "code",
   "execution_count": null,
   "id": "e8ddca17",
   "metadata": {},
   "outputs": [],
   "source": [
    "# 3차원 배열 인덱싱\n",
    "a3 = np.arange(24).reshape(2, 3, 4)\n",
    "print(a3)\n",
    "print(a3.shape)\n",
    "print(\"17\", a3[1,1,1])\n",
    "print(\"11\", a3[0,2,3])\n",
    "print(\"23\", a3[1,2,3])"
   ]
  },
  {
   "cell_type": "code",
   "execution_count": null,
   "id": "8f4c8df8",
   "metadata": {},
   "outputs": [],
   "source": [
    "# 슬라이싱\n",
    "# arr[행_슬라이스, 열_슬라이스]\n",
    "# arr[..., 4차원슬라이스, 3차원슬라이스, 2차원슬라이스, 1차원슬라이스]\n",
    "a1 = np.array([10, 20, 30, 40, 50])\n",
    "\n",
    "print(a1[1:3])\n",
    "print(a1[2:])\n",
    "print(a1[:2])\n",
    "print(a1[:])\n",
    "print(a1[::2])\n",
    "print(a1[::-1])"
   ]
  },
  {
   "cell_type": "code",
   "execution_count": null,
   "id": "e4b0ff37",
   "metadata": {},
   "outputs": [],
   "source": [
    "# 파이썬 리스트와의 차이\n",
    "# 파이썬 리스트\n",
    "py_list = [10, 20, 30, 40, 50]\n",
    "sliced = py_list[1:4]\n",
    "sliced[1] = 100\n",
    "print(\"py원본:\", py_list)\n",
    "print(\"py슬라이싱:\", sliced)\n",
    "print()\n",
    "\n",
    "# numpy 배열\n",
    "a1 = np.array([10, 20, 30, 40, 50])\n",
    "a1_sliced = a1[1:4]\n",
    "a1_sliced[1] = 100\n",
    "print(\"numpy원본:\", a1)\n",
    "print(\"numpy슬라이싱:\", a1_sliced)"
   ]
  },
  {
   "cell_type": "code",
   "execution_count": null,
   "id": "561c9da0",
   "metadata": {},
   "outputs": [],
   "source": [
    "# 2차원 배열 슬라이싱\n",
    "a2 = np.arange(1, 21).reshape(4, 5)\n",
    "print(a2)\n",
    "print()\n",
    "\n",
    "# 행 슬라이싱(2차원 슬라이싱)\n",
    "# print(a2[0])\n",
    "# print(a2[1])\n",
    "# print(a2[1:3])\n",
    "# print(a2[2:])\n",
    "# print()\n",
    "\n",
    "# 열 슬라이싱(1차원 슬라이싱)\n",
    "# print(a2[:, 2])\n",
    "# print(a2[:, -1])\n",
    "# print(a2[:, 1:3])\n",
    "# print()\n",
    "\n",
    "# 행과 열 슬라이싱\n",
    "print(a2[1:3, 2:4])\n",
    "print(a2[2:, 3:])\n",
    "print(a2[::2, ::2])"
   ]
  },
  {
   "cell_type": "code",
   "execution_count": null,
   "id": "0cbd5b8b",
   "metadata": {},
   "outputs": [],
   "source": [
    "# 3차원 슬라이싱\n",
    "a3 = np.arange(36).reshape(3, 3, 4)\n",
    "print(a3)\n",
    "print(a3[1, 1, 1:3])"
   ]
  },
  {
   "cell_type": "code",
   "execution_count": null,
   "id": "97c94896",
   "metadata": {},
   "outputs": [],
   "source": [
    "# 얕은 복사 : 복사본이 원본과 메모리를 공유 → 변경사항이 서로에게 영향을 줌\n",
    "a1 = np.array([1,2,3])\n",
    "a1_copied = a1.view()\n",
    "a1_copied[1] = 10\n",
    "print(\"원본\", a1)\n",
    "print(\"복사본\", a1_copied)\n",
    "print()\n",
    "\n",
    "# 깊은 복사 : 복사본이 원본과 독립적으로 복사됨 → 서로 영향을 주지X\n",
    "a2 = np.array([1,2,3])\n",
    "a2_copied = a2.copy()\n",
    "a2_copied[1] = 10\n",
    "print(\"원본2\", a2)\n",
    "print(\"복사본2\", a2_copied)"
   ]
  },
  {
   "cell_type": "code",
   "execution_count": null,
   "id": "38d66ece",
   "metadata": {},
   "outputs": [],
   "source": [
    "# Fancy indexing\n",
    "# 정수 배열을 사용하여 여러 인덱스로 여러 요소를 한번에 선택\n",
    "af = np.arange(1,21)\n",
    "# print(af)\n",
    "# print(af[[4,7,11]])\n",
    "\n",
    "af2 = np.arange(1, 21).reshape(4, 5)\n",
    "print(af2)\n",
    "print(af2[[1,3],[2,4]])"
   ]
  },
  {
   "cell_type": "code",
   "execution_count": null,
   "id": "57c52873",
   "metadata": {},
   "outputs": [],
   "source": [
    "# Boolean indexing\n",
    "ab = np.linspace(10,100,10)\n",
    "print(ab)\n",
    "print(ab[ab > 40])\n",
    "print()\n",
    "\n",
    "# Boolean masking\n",
    "ab2 = np.arange(0,21)\n",
    "print(ab2)\n",
    "mask = ab2 % 2 == 0\n",
    "print(mask)\n",
    "print(ab2[mask])"
   ]
  },
  {
   "cell_type": "code",
   "execution_count": null,
   "id": "fc44ae41",
   "metadata": {},
   "outputs": [],
   "source": [
    "# 실습2\n",
    "# 1. 다음 배열에서 2, 4, 6번째 요소를 Fancy Indexing으로 선택하세요.\n",
    "arr = np.arange(10, 30, 2)\n",
    "print(arr)\n",
    "answer = arr[[1,3,5]]\n",
    "print(answer)"
   ]
  },
  {
   "cell_type": "code",
   "execution_count": null,
   "id": "057b6880",
   "metadata": {},
   "outputs": [],
   "source": [
    "\n",
    "# 2. 3x3 배열에서 왼쪽 위 → 오른쪽 아래 대각선의 요소만 인덱싱으로 추출하세요.\n",
    "arr = np.arange(1, 10).reshape(3, 3)\n",
    "print(arr)\n",
    "arr[[0,1,2],[0,1,2]]"
   ]
  },
  {
   "cell_type": "code",
   "execution_count": null,
   "id": "7e7549ec",
   "metadata": {},
   "outputs": [],
   "source": [
    "# 3. 3x4 배열에서 마지막 열만 선택해 모두 -1로 변경하세요.\n",
    "arr = np.arange(1, 13).reshape(3, 4)\n",
    "print(arr)\n",
    "arr[:, -1] = -1\n",
    "arr"
   ]
  },
  {
   "cell_type": "code",
   "execution_count": null,
   "id": "12b29b28",
   "metadata": {},
   "outputs": [],
   "source": [
    "# 4. 4x4 배열에서 행을 역순, 열을 역순으로 각각 슬라이싱해 출력하세요.\n",
    "arr = np.arange(1, 17).reshape(4, 4)\n",
    "print(arr)\n"
   ]
  },
  {
   "cell_type": "code",
   "execution_count": null,
   "id": "c814bed9",
   "metadata": {},
   "outputs": [],
   "source": [
    "# 5. 4x5 배열에서 가운데 2x3 부분을 슬라이싱한 뒤 copy()를 이용해 독립 배열을 만드세요.\n",
    "arr = np.arange(1, 21).reshape(4, 5)\n",
    "print(arr)\n",
    "print(\"행을 역순\\n\", arr[::-1])\n",
    "print(\"열을 역순\\n\", arr[:,::-1])"
   ]
  },
  {
   "cell_type": "code",
   "execution_count": null,
   "id": "26372325",
   "metadata": {},
   "outputs": [],
   "source": [
    "# 6. 3x4 배열에서 짝수이면서 10 이상인 값만 선택하세요.\n",
    "arr = np.array([[ 4,  9, 12,  7],\n",
    "                [10, 15, 18,  3],\n",
    "                [ 2, 14,  6, 20]])\n",
    "arr[(arr % 2 == 0) & (arr >= 10)]"
   ]
  },
  {
   "cell_type": "code",
   "execution_count": null,
   "id": "226fac91",
   "metadata": {},
   "outputs": [],
   "source": [
    "# 7. 5x5 배열에서 2, 4번째 행을 선택하고, 선택된 행에서 열 순서를 [4, 0, 2]로 재배치하세요.\n",
    "arr = np.arange(1, 26).reshape(5, 5)\n",
    "print(arr)\n",
    "result = arr[[1,3]]\n",
    "print(result)\n",
    "\n",
    "# 방법1.\n",
    "# answer = []\n",
    "# for i in result:\n",
    "#   answer.append([i[4],i[0],i[2]])\n",
    "# print(np.array(answer))\n",
    "\n",
    "# 방법2.\n",
    "result[:, [4,0,2]]"
   ]
  },
  {
   "cell_type": "code",
   "execution_count": null,
   "id": "40d6e248",
   "metadata": {},
   "outputs": [],
   "source": [
    "# 8. 5x3 배열에서 각 행의 첫 번째 값이 50 이상인 행만 Boolean Indexing으로 선택하세요.\n",
    "arr = np.array([[10, 20, 30],\n",
    "                [55, 65, 75],\n",
    "                [40, 45, 50],\n",
    "                [70, 80, 90],\n",
    "                [15, 25, 35]])\n",
    "\n",
    "arr[arr[:,0] >= 50]"
   ]
  },
  {
   "cell_type": "code",
   "execution_count": null,
   "id": "3eee72c4",
   "metadata": {},
   "outputs": [],
   "source": [
    "# 9. 4x4 배열에서 (0,1), (1,3), (2,0), (3,2) 위치의 요소를 한 번에 선택하세요.\n",
    "arr = np.arange(1, 17).reshape(4, 4)\n",
    "arr[[0,1,2,3],[1,3,0,2]]"
   ]
  },
  {
   "cell_type": "code",
   "execution_count": null,
   "id": "e4fc3544",
   "metadata": {},
   "outputs": [],
   "source": [
    "# 10. 3차원 배열 (2, 3, 4)에서 모든 블록에서 두 번째 열만 추출해 새로운 2차원 배열 (2, 3)을 만드세요.\n",
    "arr3d = np.arange(24).reshape(2, 3, 4)\n",
    "print(arr3d)\n",
    "arr3d[:,:,1]"
   ]
  },
  {
   "cell_type": "code",
   "execution_count": null,
   "id": "e49faf69",
   "metadata": {},
   "outputs": [],
   "source": [
    "# 실습3.\n",
    "# 문제1. 0부터 24까지 정수를 가진 배열을 만들고,\n",
    "# (5, 5) 배열로 변환한 뒤 가운데 행(3번째 행)과 가운데 열(3번째 열)을 각각 1차원 배열로 출력하세요.\n",
    "a1 = np.arange(25).reshape(5,5)\n",
    "print(a1)\n",
    "print(a1[2])\n",
    "print(a1[:,2])"
   ]
  },
  {
   "cell_type": "code",
   "execution_count": null,
   "id": "c2906793",
   "metadata": {},
   "outputs": [],
   "source": [
    "# 문제2. 0~99 정수난수로 이루어진 (10, 10) 배열을 생성하고,\n",
    "# 짝수 인덱스의 행만 선택하여 출력하세요.\n",
    "a2 = np.random.randint(0, 100, (10, 10))\n",
    "print(a2)\n",
    "print(a2[::2])"
   ]
  },
  {
   "cell_type": "code",
   "execution_count": null,
   "id": "88a3fc6b",
   "metadata": {},
   "outputs": [],
   "source": [
    "# 문제3. 0부터 49까지 정수를 가진 배열을 (5, 10) 배열로 변환한 후,\n",
    "# 2행 3열부터 4행 7열까지의 부분 배열을 추출하세요.\n",
    "a3 = np.arange(50).reshape(5,10)\n",
    "print(a3)\n",
    "print(a3[1:4, 2:7])"
   ]
  },
  {
   "cell_type": "code",
   "execution_count": null,
   "id": "e8085abb",
   "metadata": {},
   "outputs": [],
   "source": [
    "# 문제4. \n",
    "# 0~9 난수로 이루어진 (4, 4) 배열을 생성하고, 각각 인덱싱으로 추출해 출력하세요.(for 이용)\n",
    "# 주대각선 요소 (왼쪽 위 → 오른쪽 아래)\n",
    "# 부대각선 요소 (오른쪽 위 → 왼쪽 아래)\n",
    "a4 = np.random.randint(0,10,(4,4))\n",
    "print(a4)\n",
    "print(a4[[0,1,2,3],[0,1,2,3]])\n",
    "print(a4[[0,1,2,3],[3,2,1,0]])"
   ]
  },
  {
   "cell_type": "code",
   "execution_count": null,
   "id": "52261c05",
   "metadata": {},
   "outputs": [],
   "source": [
    "# 문제5.\n",
    "# 0~9 난수로 이루어진 (3, 4, 5) 3차원 배열을 생성하고,\n",
    "# 두 번째 층에서 첫 번째 행과 마지막 열의 값을 출력하세요.\n",
    "a5 = np.random.randint(0,10,(3,4,5))\n",
    "print(a5)\n",
    "print(a5[1, 0, -1])"
   ]
  },
  {
   "cell_type": "code",
   "execution_count": null,
   "id": "4eaea614",
   "metadata": {},
   "outputs": [],
   "source": [
    "# 문제6. 35부터 74까지의 순차적인 정수로 이루어진 1차원 배열을 만들고\n",
    "# 10x4 행렬로 변환 후 출력해주세요.\n",
    "a6 = np.arange(35,75).reshape(10,4)\n",
    "print(\"문제6\\n\", a6)\n",
    "\n",
    "# 문제7. 6번에서 만든 배열을 맨 끝의 행부터 역순으로 출력해주세요.\n",
    "a7 = a6[::-1]\n",
    "print(\"문제7\\n\", a7)\n",
    "\n",
    "# 문제8. 6번에서 만든 배열 중 두 번째 행부터 마지막 직전 행까지,\n",
    "# 세번째 열부터 마지막 열까지 슬라이싱해서 출력해주세요.\n",
    "a8 = a6[1:-1, 2:]\n",
    "print(\"문제8\\n\", a8)\n"
   ]
  },
  {
   "cell_type": "code",
   "execution_count": null,
   "id": "a71f3960",
   "metadata": {},
   "outputs": [],
   "source": [
    "# 문제9. 1부터 50까지의 정수 난수로 된 5x6 배열을 만들고, 배열에서 짝수만 선택하여 출력하는 코드를 작성하세요.\n",
    "arr = np.random.randint(1, 51, (5, 6))\n",
    "print(arr)\n",
    "mask = arr % 2 == 0\n",
    "print(mask)\n",
    "a9 = arr[mask]\n",
    "print(a9)"
   ]
  },
  {
   "cell_type": "code",
   "execution_count": null,
   "id": "63ae37b3",
   "metadata": {},
   "outputs": [],
   "source": [
    "# 문제10. 0부터 99까지의 정수로 이루어진 (10, 10) 배열을 생성한 후,\n",
    "# [1, 3, 5]번째 행과 [2, 4, 6]번째 열의 교차하는 원소들만 선택하여 출력하세요.\n",
    "arr = np.arange(100).reshape(10,10)\n",
    "print(arr)\n",
    "\n",
    "# seleted_row = arr[[1,3,5]]\n",
    "# seleted_row = arr[1:6:2]\n",
    "# print(seleted_row)\n",
    "\n",
    "# selected_col = seleted_row[:, [2,4,6]]\n",
    "# selected_col = seleted_row[:, 2:7:2]\n",
    "# print(selected_col)\n",
    "\n",
    "a10 = arr[[1,3,5]][:, [2,4,6]]\n",
    "print(a10)"
   ]
  },
  {
   "cell_type": "code",
   "execution_count": 17,
   "id": "6088e1e0",
   "metadata": {},
   "outputs": [
    {
     "name": "stdout",
     "output_type": "stream",
     "text": [
      "[3 2 3 8 6 9 1 5 0 6 0 6 4 1 5]\n",
      "[3 3 6 1 0 0 4 5]\n",
      "[False False  True False False False False  True]\n",
      "[6 5]\n"
     ]
    }
   ],
   "source": [
    "# 문제11.\n",
    "# 0~9 정수 난수로 이루어진 1차원 배열(길이 15)을 생성하고,\n",
    "# 짝수 인덱스 위치에 있는 값들 중에서 5 이상인 값만 선택해 출력하세요.\n",
    "arr = np.random.randint(0, 10, 15)\n",
    "print(arr)\n",
    "even_idx_values = arr[::2]\n",
    "print(even_idx_values)\n",
    "mask = even_idx_values >= 5\n",
    "print(mask)\n",
    "a11 = even_idx_values[mask]\n",
    "print(a11)"
   ]
  }
 ],
 "metadata": {
  "kernelspec": {
   "display_name": "data_analysis",
   "language": "python",
   "name": "python3"
  },
  "language_info": {
   "codemirror_mode": {
    "name": "ipython",
    "version": 3
   },
   "file_extension": ".py",
   "mimetype": "text/x-python",
   "name": "python",
   "nbconvert_exporter": "python",
   "pygments_lexer": "ipython3",
   "version": "3.13.5"
  }
 },
 "nbformat": 4,
 "nbformat_minor": 5
}
