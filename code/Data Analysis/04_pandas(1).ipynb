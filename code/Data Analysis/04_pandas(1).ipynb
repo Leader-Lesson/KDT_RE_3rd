{
 "cells": [
  {
   "cell_type": "markdown",
   "id": "efd8b645",
   "metadata": {},
   "source": [
    "## 04. Pandas(1)\n",
    "- 파이썬 기반의 강력하고 사용하기 쉬운 데이터 분석 및 조작 라이브러리!!"
   ]
  },
  {
   "cell_type": "code",
   "execution_count": null,
   "id": "4ead98f8",
   "metadata": {},
   "outputs": [],
   "source": [
    "import pandas as pd\n",
    "import numpy as np\n",
    "\n",
    "print(pd.__version__)"
   ]
  },
  {
   "cell_type": "markdown",
   "id": "858fb2b6",
   "metadata": {},
   "source": [
    "### Pandas의 핵심 자료구조\n",
    "- Series\n",
    "- DataFrame"
   ]
  },
  {
   "cell_type": "markdown",
   "id": "c18da835",
   "metadata": {},
   "source": [
    "### Series\n",
    "- 인덱스(라벨)이 붙은 1차원 배열\n",
    "- 인덱스 이름을 직접 지정할 수 있음"
   ]
  },
  {
   "cell_type": "code",
   "execution_count": null,
   "id": "c7b9bc83",
   "metadata": {},
   "outputs": [],
   "source": [
    "# 시리즈 생성\n",
    "# 1. 리스트로 생성\n",
    "data = [10,20,30,40]\n",
    "s = pd.Series(data)\n",
    "print(s)"
   ]
  },
  {
   "cell_type": "code",
   "execution_count": null,
   "id": "34c93ae5",
   "metadata": {},
   "outputs": [],
   "source": [
    "# 2. 인덱스를 직접 지정\n",
    "data = [10,20,30,40]\n",
    "s = pd.Series(data, index=[\"a\",\"b\",\"c\",\"d\"])\n",
    "print(s)"
   ]
  },
  {
   "cell_type": "code",
   "execution_count": null,
   "id": "807db893",
   "metadata": {},
   "outputs": [],
   "source": [
    "# 3. 딕셔너리로 생성\n",
    "data = {\"서울\":100, \"부산\":200, \"대구\":300}\n",
    "s = pd.Series(data)\n",
    "print(s)"
   ]
  },
  {
   "cell_type": "code",
   "execution_count": null,
   "id": "dc3bbab8",
   "metadata": {},
   "outputs": [],
   "source": [
    "# 4. 하나의 값으로 시리즈 생성\n",
    "s = pd.Series(7, index=[\"가\",\"나\",\"다\"])\n",
    "print(s)"
   ]
  },
  {
   "cell_type": "code",
   "execution_count": null,
   "id": "cf2b3561",
   "metadata": {},
   "outputs": [],
   "source": [
    "# 시리즈의 주요 속성\n",
    "data = [10,20,30,40]\n",
    "s = pd.Series(data, index=[\"a\",\"b\",\"c\",\"d\"], name=\"test data\")\n",
    "\n",
    "print(\"values:\", s.values)  # 실제 데이터 배열\n",
    "print(\"index:\", s.index)    # 인덱스 객체\n",
    "print(\"dtype:\", s.dtype)    # 실제 데이터의 타입\n",
    "print(\"size:\", s.size)      # 데이터의 개수\n",
    "print(\"shape:\", s.shape)    # 배열의 형태\n",
    "print(\"name:\", s.name)      # 시리즈의 이름"
   ]
  },
  {
   "cell_type": "code",
   "execution_count": null,
   "id": "17bc44f8",
   "metadata": {},
   "outputs": [],
   "source": [
    "# 시리즈의 연산\n",
    "s1 = pd.Series([10,20,30], index=[\"a\",\"b\",\"c\"])\n",
    "s2 = pd.Series([5,6,7], index=[\"b\",\"c\",\"d\"])\n",
    "\n",
    "result = s1 + s2\n",
    "print(result)"
   ]
  },
  {
   "cell_type": "code",
   "execution_count": null,
   "id": "fc004068",
   "metadata": {},
   "outputs": [],
   "source": [
    "# 정렬되지 않은 인덱스 간 연산\n",
    "# 인덱스 기준로 연산후 정렬해줌\n",
    "s1 = pd.Series([10,20,30], index=[\"b\", \"a\", \"c\"])\n",
    "s2 = pd.Series([5,6,7], index=[\"c\",\"b\",\"a\"])\n",
    "\n",
    "result = s1 + s2\n",
    "print(result)"
   ]
  },
  {
   "cell_type": "code",
   "execution_count": null,
   "id": "af8a1232",
   "metadata": {},
   "outputs": [],
   "source": [
    "# 브로드 캐스팅\n",
    "s = pd.Series([5,10,15], index=[\"a\",\"b\",\"c\"])\n",
    "\n",
    "print(s + 3)\n",
    "print(s * 2)"
   ]
  },
  {
   "cell_type": "code",
   "execution_count": null,
   "id": "3fe516ea",
   "metadata": {},
   "outputs": [],
   "source": [
    "# 불리언 연산 및 인덱싱\n",
    "s = pd.Series([50,60,70,80,90,100], index=[\"a\",\"b\",\"c\",\"d\",\"e\",\"f\"])\n",
    "\n",
    "# 불리언 연산(조건식)\n",
    "mask = s > 70\n",
    "print(mask)\n",
    "print(s[mask])"
   ]
  },
  {
   "cell_type": "code",
   "execution_count": null,
   "id": "79d28c05",
   "metadata": {},
   "outputs": [],
   "source": [
    "# 시리즈와 NumPy 배열 연산 / 파이썬 리스트 연산\n",
    "s = pd.Series([10,20,30], index=[\"a\", \"b\", \"c\"])\n",
    "a = np.array([1,2,3])\n",
    "l = [100,200,300]\n",
    "\n",
    "print(s + a)\n",
    "print(s + l)"
   ]
  },
  {
   "cell_type": "code",
   "execution_count": null,
   "id": "4c829ae0",
   "metadata": {},
   "outputs": [],
   "source": [
    "# 실습1.\n",
    "# 문제1. 파이썬 리스트 [5, 10, 15, 20]을 이용해 Series를 생성하세요. \n",
    "data = [5, 10, 15, 20]\n",
    "s = pd.Series(data)\n",
    "print(s)"
   ]
  },
  {
   "cell_type": "code",
   "execution_count": null,
   "id": "0d10975a",
   "metadata": {},
   "outputs": [],
   "source": [
    "# 문제2. 값 [90, 80, 85, 70]에 대해\n",
    "# 인덱스를 각각 '국어', '영어', '수학', '과학'으로 지정한 Series를 만드세요.\n",
    "data = [90, 80, 85, 70]\n",
    "idx = ['국어', '영어', '수학', '과학']\n",
    "s = pd.Series(data, index=idx)\n",
    "print(s)"
   ]
  },
  {
   "cell_type": "code",
   "execution_count": null,
   "id": "5dec21e1",
   "metadata": {},
   "outputs": [],
   "source": [
    "# 문제3. {'서울': 950, '부산': 340, '인천': 520} 딕셔너리를 이용해 Series를 만들고,\n",
    "# 인천의 값을 출력하세요.\n",
    "data = {'서울': 950, '부산': 340, '인천': 520}\n",
    "s = pd.Series(data)\n",
    "print(s)\n",
    "print(s[\"인천\"])"
   ]
  },
  {
   "cell_type": "code",
   "execution_count": null,
   "id": "9303c618",
   "metadata": {},
   "outputs": [],
   "source": [
    "# 문제4. Series [1, 2, 3, 4]를 만들고, 데이터 타입(dtype)을 출력하세요.\n",
    "data = [1, 2, 3, 4]\n",
    "s = pd.Series(data)\n",
    "print(s)\n",
    "print(s.dtype)"
   ]
  },
  {
   "cell_type": "code",
   "execution_count": null,
   "id": "f49edd39",
   "metadata": {},
   "outputs": [],
   "source": [
    "# 문제5. 아래 두 Series의 합을 구하세요.\n",
    "s1 = pd.Series([3, 5, 7], index=['a', 'b', 'c'])\n",
    "s2 = pd.Series([10, 20, 30], index=['b', 'c', 'd'])\n"
   ]
  },
  {
   "cell_type": "code",
   "execution_count": null,
   "id": "d95c2438",
   "metadata": {},
   "outputs": [],
   "source": [
    "# 문제6. Series [1, 2, 3, 4, 5]의 각 값에 10을 더한 Series를 만드세요.\n",
    "data = [1, 2, 3, 4, 5]\n",
    "s = pd.Series(data)\n",
    "\n",
    "print(s + 10)\n"
   ]
  },
  {
   "cell_type": "markdown",
   "id": "924b3e64",
   "metadata": {},
   "source": [
    "### DataFrame \n",
    "- 2차원 라벨 데이터 구조\n",
    "- 시리즈를 모아놓은 것\n",
    "- 행과 열이 있고, 행과 열에 대해 라벨을 부여할 수 있음"
   ]
  },
  {
   "cell_type": "code",
   "execution_count": null,
   "id": "0bce6c57",
   "metadata": {},
   "outputs": [],
   "source": [
    "# DataFrame 생성\n",
    "# 1. 딕셔너리로 생성\n",
    "data = {\n",
    "  \"이름\" : [\"이안\",\"안태현\",\"이민정\"],\n",
    "  \"나이\" : [15, 25, 23],\n",
    "  \"도시\" : [\"창동\", \"연신내\", \"응암\"]\n",
    "}\n",
    "\n",
    "df = pd.DataFrame(data)\n",
    "df"
   ]
  },
  {
   "cell_type": "code",
   "execution_count": null,
   "id": "339d9abc",
   "metadata": {},
   "outputs": [],
   "source": [
    "# 2. 리스트의 리스트(2차원 리스트)로 생성\n",
    "data = [[1, \"a\"], [2, \"b\"], [3, \"c\"]]\n",
    "df = pd.DataFrame(data, columns=[\"번호\", \"코드\"])\n",
    "df"
   ]
  },
  {
   "cell_type": "code",
   "execution_count": null,
   "id": "b06e79d0",
   "metadata": {},
   "outputs": [
    {
     "data": {
      "text/plain": [
       "a     이안\n",
       "b    최하연\n",
       "c    김진선\n",
       "d    오왕경\n",
       "Name: 이름, dtype: object"
      ]
     },
     "execution_count": 32,
     "metadata": {},
     "output_type": "execute_result"
    }
   ],
   "source": [
    "# 3. 딕셔너리의 리스트로 생성\n",
    "data = [\n",
    "  {\"이름\":\"이안\",\"나이\":15,\"사는곳\":\"창동\"},\n",
    "  {\"이름\":\"최하연\",\"나이\":25,\"사는곳\":\"전주\"},\n",
    "  {\"이름\":\"김진선\",\"나이\":26,\"사는곳\":\"동탄\"},\n",
    "  {\"이름\":\"오왕경\",\"나이\":25,\"사는곳\":\"춘천\"},\n",
    "]\n",
    "\n",
    "df = pd.DataFrame(data, index=[\"a\",\"b\",\"c\",\"d\"])\n",
    "df"
   ]
  },
  {
   "cell_type": "code",
   "execution_count": null,
   "id": "ce568772",
   "metadata": {},
   "outputs": [],
   "source": [
    "# 4. 시리즈의 딕셔너리로 생성\n",
    "s1 = pd.Series([\"국어\",\"수학\",\"영어\"], index=[\"a\",\"b\",\"c\"])\n",
    "s2 = pd.Series([100,90,85], index=[\"a\",\"b\",\"c\"])\n",
    "df = pd.DataFrame({\"과목\": s1, \"점수\": s2})\n",
    "df"
   ]
  },
  {
   "cell_type": "code",
   "execution_count": null,
   "id": "deec008b",
   "metadata": {},
   "outputs": [],
   "source": [
    "# 데이터 프레임 기본 속성\n",
    "data = [\n",
    "  {\"이름\":\"이안\",\"나이\":15,\"사는곳\":\"창동\"},\n",
    "  {\"이름\":\"최하연\",\"나이\":25,\"사는곳\":\"전주\"},\n",
    "  {\"이름\":\"김진선\",\"나이\":26,\"사는곳\":\"동탄\"},\n",
    "  {\"이름\":\"오왕경\",\"나이\":25,\"사는곳\":\"춘천\"},\n",
    "]\n",
    "\n",
    "df = pd.DataFrame(data)\n",
    "\n",
    "print(\"shape:\", df.shape)\n",
    "print(\"columns:\", df.columns)\n",
    "print(\"index:\", df.index)\n",
    "print(\"dtypes:\", df.dtypes)\n",
    "print(\"values:\", df.values)\n",
    "print(\"info\")\n",
    "df.info()"
   ]
  },
  {
   "cell_type": "code",
   "execution_count": null,
   "id": "a6832fcf",
   "metadata": {},
   "outputs": [],
   "source": [
    "# 실습2.\n",
    "# 문제1. 다음 데이터로 DataFrame을 생성하고, 컬럼명을 '이름', '나이', '도시'로 지정하세요.\n",
    "data = [['홍길동', 28, '서울'],\n",
    "        ['김철수', 33, '부산'],\n",
    "        ['이영희', 25, '대구']] \n",
    "df = pd.DataFrame(data, columns=['이름', '나이', '도시'])\n",
    "df"
   ]
  },
  {
   "cell_type": "code",
   "execution_count": null,
   "id": "61fd5030",
   "metadata": {},
   "outputs": [],
   "source": [
    "# 문제2. 아래와 같은 딕셔너리로 DataFrame을 생성하세요.\n",
    "data = {'A': [1, 2, 3], 'B': [4, 5, 6]}\n",
    "df = pd.DataFrame(data)\n",
    "df"
   ]
  },
  {
   "cell_type": "code",
   "execution_count": null,
   "id": "204fdb57",
   "metadata": {},
   "outputs": [],
   "source": [
    "# 문제3. 아래 데이터를 사용해 DataFrame을 만드세요.\n",
    "data = [{'과목': '수학', '점수': 90}, {'과목': '영어', '점수': 85}, {'과목': '과학', '점수': 95}]\n",
    "df = pd.DataFrame(data)\n",
    "df"
   ]
  },
  {
   "cell_type": "code",
   "execution_count": null,
   "id": "20b853ff",
   "metadata": {},
   "outputs": [],
   "source": [
    "# 문제4. 아래 데이터를 사용해 DataFrame을 생성하되,\n",
    "# 인덱스를 ['학생1', '학생2', '학생3']으로 지정하세요.\n",
    "data = {'이름': ['민수', '영희', '철수'], '점수': [80, 92, 77]}\n",
    "\n",
    "df = pd.DataFrame(data, index=['학생1', '학생2', '학생3'])\n",
    "df"
   ]
  },
  {
   "cell_type": "code",
   "execution_count": null,
   "id": "bcd4f843",
   "metadata": {},
   "outputs": [],
   "source": [
    "# 문제5. 아래 Series 객체 2개를 이용해 DataFrame을 만드세요.\n",
    "kor = pd.Series([90, 85, 80], index=['a', 'b', 'c'])\n",
    "eng = pd.Series([95, 88, 82], index=['a', 'b', 'c']) \n",
    "data = {\"국어\": kor, \"영어\":eng}\n",
    "df = pd.DataFrame(data)\n",
    "df"
   ]
  },
  {
   "cell_type": "code",
   "execution_count": null,
   "id": "8ca081ec",
   "metadata": {},
   "outputs": [],
   "source": [
    "# 문제6. 아래 딕셔너리로 DataFrame을 만들고, 컬럼 순서를 ['B', 'A']로 지정해 출력하세요.\n",
    "data = {'A': [1, 2], 'B': [3, 4]}\n",
    "\n",
    "df = pd.DataFrame(data, columns=['B', 'A'])\n",
    "df"
   ]
  },
  {
   "cell_type": "code",
   "execution_count": null,
   "id": "0f6f5735",
   "metadata": {},
   "outputs": [],
   "source": [
    "# 문제7. 데이터를 DataFrame으로 만들고, 컬럼명을 ['product', 'price', 'stock']으로 변경하세요.\n",
    "data = [['펜', 1000, 50],\n",
    "        ['노트', 2000, 30]]\n",
    "column_name = ['product', 'price', 'stock']\n",
    "df = pd.DataFrame(data, columns=column_name)\n",
    "df"
   ]
  },
  {
   "cell_type": "code",
   "execution_count": null,
   "id": "49674ec1",
   "metadata": {},
   "outputs": [],
   "source": [
    "# 문제8. 아래 DataFrame을 생성한 뒤, '국가' 컬럼만 추출하세요.\n",
    "data = {'국가': ['한국', '일본', '미국'], '수도': ['서울', '도쿄', '워싱턴']}\n",
    "df = pd.DataFrame(data)\n",
    "df[\"국가\"]"
   ]
  },
  {
   "cell_type": "code",
   "execution_count": null,
   "id": "ef50c070",
   "metadata": {},
   "outputs": [
    {
     "data": {
      "text/plain": [
       "0    홍길동\n",
       "1    이순신\n",
       "2    김유신\n",
       "3    강감찬\n",
       "4    장보고\n",
       "5    이방원\n",
       "Name: 이름, dtype: object"
      ]
     },
     "execution_count": 30,
     "metadata": {},
     "output_type": "execute_result"
    }
   ],
   "source": [
    "# 데이터 탐색과 요약\n",
    "data = {\n",
    "    \"이름\": [\"홍길동\", \"이순신\", \"김유신\", \"강감찬\", \"장보고\", \"이방원\"],\n",
    "    \"나이\": [23, 35, 31, 40, 28, 34],\n",
    "    \"직업\": [\"학생\", \"군인\", \"장군\", \"장군\", \"상인\", \"왕자\"]\n",
    "}\n",
    "df = pd.DataFrame(data)\n",
    "df"
   ]
  },
  {
   "cell_type": "code",
   "execution_count": null,
   "id": "586f268f",
   "metadata": {},
   "outputs": [],
   "source": [
    "# 데이터 앞부분 미리 보기 : head(n)\n",
    "# 기본값 n = 5\n",
    "df.head()\n",
    "df.head(3)"
   ]
  },
  {
   "cell_type": "code",
   "execution_count": null,
   "id": "9b63800d",
   "metadata": {},
   "outputs": [],
   "source": [
    "# 데이터 뒷부분 미리 보기 : tail(n)\n",
    "# 기본값 n = 5\n",
    "df.tail()\n",
    "df.tail(2)"
   ]
  },
  {
   "cell_type": "code",
   "execution_count": null,
   "id": "e7cdb286",
   "metadata": {},
   "outputs": [],
   "source": [
    "# info() 함수\n",
    "df.info()"
   ]
  },
  {
   "cell_type": "code",
   "execution_count": null,
   "id": "96e30d66",
   "metadata": {},
   "outputs": [],
   "source": [
    "# describe() 함수\n",
    "df.describe()                 # 기본적으로 수치형 컬럼만 요약\n",
    "df.describe(include=\"object\") # 문자열 컬럼만 요약\n",
    "df.describe(include=\"all\")    # 모든 컬럼 요약"
   ]
  },
  {
   "cell_type": "markdown",
   "id": "16b671e4",
   "metadata": {},
   "source": [
    "### 인덱싱과 슬라이싱"
   ]
  },
  {
   "cell_type": "code",
   "execution_count": null,
   "id": "aa6bd1f5",
   "metadata": {},
   "outputs": [],
   "source": [
    "# 인덱싱 : 컬럼에 대해 인덱싱 적용\n",
    "# 특정 컬럼(시리즈) 선택\n",
    "df[\"이름\"]\n",
    "\n",
    "# 여러 컬럼을 리스트로 선택\n",
    "df[[\"이름\", \"나이\"]]"
   ]
  },
  {
   "cell_type": "code",
   "execution_count": null,
   "id": "96d3fa47",
   "metadata": {},
   "outputs": [],
   "source": [
    "df = pd.DataFrame({\n",
    "    'name': ['Tom', 'Jane', 'Mike'],\n",
    "    'age': [20, 25, 30]\n",
    "})\n",
    "\n",
    "df[\"name\"]\n",
    "# .으로도 조회가 가능함\n",
    "# 변수명 규칙을 지켜야 함\n",
    "df.name"
   ]
  },
  {
   "cell_type": "code",
   "execution_count": null,
   "id": "388b14d5",
   "metadata": {},
   "outputs": [],
   "source": [
    "# 슬라이싱\n",
    "df[1:4]\n",
    "df[-3:]\n",
    "\n",
    "# 슬라이싱 후 인덱싱\n",
    "df[1:4][\"이름\"]"
   ]
  },
  {
   "cell_type": "code",
   "execution_count": null,
   "id": "bafd8f0e",
   "metadata": {},
   "outputs": [],
   "source": [
    "# 슬라이싱은 행 기준으로 작동, 열 기준은 별도의 방법을 사용\n",
    "df[:, 0:2] # 에러"
   ]
  },
  {
   "cell_type": "markdown",
   "id": "9d3ab190",
   "metadata": {},
   "source": [
    "### iloc, loc"
   ]
  },
  {
   "cell_type": "code",
   "execution_count": null,
   "id": "27da4b02",
   "metadata": {},
   "outputs": [],
   "source": [
    "# iloc \n",
    "# Interger Location\n",
    "# 정수 위치 기반의 인덱싱, 슬라이싱\n",
    "# NumPy의 슬라이싱과 유사함(거의 같음)!!!\n",
    "\n",
    "# 단일 행/열 선택\n",
    "df.iloc[0] # 첫번째 행\n",
    "df.iloc[:, 1] # 두번째 열"
   ]
  },
  {
   "cell_type": "code",
   "execution_count": null,
   "id": "6601f840",
   "metadata": {},
   "outputs": [],
   "source": [
    "# 여러 행/열 동시 선택\n",
    "df.iloc[1:4]\n",
    "df.iloc[:, 0:2]\n",
    "df.iloc[1:4, 0:2]"
   ]
  },
  {
   "cell_type": "code",
   "execution_count": null,
   "id": "95d47246",
   "metadata": {},
   "outputs": [],
   "source": [
    "# fancy indexing\n",
    "df.iloc[[0,2,4]]\n",
    "df.iloc[:,[1,2]]\n",
    "df.iloc[[0,2,4],[1,2]]"
   ]
  },
  {
   "cell_type": "code",
   "execution_count": null,
   "id": "6bd097e9",
   "metadata": {},
   "outputs": [],
   "source": [
    "# 음수 인덱스 슬라이싱\n",
    "df.iloc[-1]\n",
    "df.iloc[:,-2:]"
   ]
  },
  {
   "cell_type": "code",
   "execution_count": null,
   "id": "431d1e9e",
   "metadata": {},
   "outputs": [],
   "source": [
    "# loc\n",
    "# location의 약자\n",
    "# 라벨의 이름 기준으로 인덱싱/슬라이싱\n",
    "# 단일 행/열 선택\n",
    "# 시작과 끝을 모두 포함\n",
    "# 음수 인덱스 사용X\n",
    "df.loc[0]\n",
    "df.loc[:,\"이름\"]"
   ]
  },
  {
   "cell_type": "code",
   "execution_count": null,
   "id": "1e572f39",
   "metadata": {},
   "outputs": [],
   "source": [
    "# 여러 행/열 선택\n",
    "df.loc[2:4, [\"이름\",\"직업\"]]\n",
    "df.loc[2:4, \"이름\":\"직업\"]"
   ]
  },
  {
   "cell_type": "code",
   "execution_count": null,
   "id": "ee6c5a5c",
   "metadata": {},
   "outputs": [],
   "source": [
    "# 조건식\n",
    "mask = df[\"나이\"] >= 30\n",
    "df.loc[mask, [\"이름\",\"나이\"]]"
   ]
  },
  {
   "cell_type": "code",
   "execution_count": null,
   "id": "c881d02c",
   "metadata": {},
   "outputs": [],
   "source": [
    "# 컬럼을 인덱스로 지정\n",
    "df2 = df.set_index(\"이름\")\n",
    "df2\n",
    "\n",
    "# df2.loc[\"이순신\"]\n",
    "# df2.loc[[\"이순신\",\"강감찬\",\"장보고\"]]"
   ]
  },
  {
   "cell_type": "code",
   "execution_count": null,
   "id": "aec52a46",
   "metadata": {},
   "outputs": [],
   "source": [
    "s1 = pd.Series([\"국어\",\"수학\",\"영어\"], index=[\"a\",\"b\",\"c\"])\n",
    "s2 = pd.Series([100,90,85], index=[\"a\",\"b\",\"c\"])\n",
    "df = pd.DataFrame({\"과목\": s1, \"점수\": s2})\n",
    "df"
   ]
  },
  {
   "cell_type": "code",
   "execution_count": null,
   "id": "a7c17c94",
   "metadata": {},
   "outputs": [],
   "source": [
    "# 행에 라벨이 있을 경우 라벨을 이용해서 인덱싱/슬라이싱 가능\n",
    "df.loc[[\"a\",\"c\"],[\"과목\"]]"
   ]
  },
  {
   "cell_type": "code",
   "execution_count": null,
   "id": "a935e9d0",
   "metadata": {},
   "outputs": [],
   "source": [
    "data = {\n",
    "    \"이름\": [\"홍길동\", \"이순신\", \"김유신\", \"강감찬\", \"장보고\", \"이방원\", \"최무선\", \"정도전\"],\n",
    "    \"나이\": [23, 35, 31, 40, 28, 34, 42, 29],\n",
    "    \"직업\": [\"학생\", \"군인\", \"장군\", \"장군\", \"상인\", \"왕자\", \"과학자\", \"정치가\"],\n",
    "    \"점수\": [85, 90, 75, 88, 92, 95, 87, 83]\n",
    "}\n",
    "df = pd.DataFrame(data)\n",
    "df"
   ]
  },
  {
   "cell_type": "code",
   "execution_count": null,
   "id": "889cb714",
   "metadata": {},
   "outputs": [],
   "source": [
    "# 실습3.\n",
    "# 문제1. iloc을 사용해 인덱스 2~5(포함 안함) 행, 1~3(포함 안함) 열만 선택해 출력하세요.\n",
    "df.iloc[2:5, 1:3]"
   ]
  },
  {
   "cell_type": "code",
   "execution_count": null,
   "id": "934e2c64",
   "metadata": {},
   "outputs": [],
   "source": [
    "# 문제2. loc을 사용해 인덱스 3~6(포함!) 행, '이름'과 '점수' 컬럼만 출력하세요.\n",
    "df.loc[3:6, [\"이름\",\"점수\"]]"
   ]
  },
  {
   "cell_type": "code",
   "execution_count": null,
   "id": "d9c31804",
   "metadata": {},
   "outputs": [],
   "source": [
    "# 문제3. iloc을 사용해, 마지막 3개 행의 '직업'과 '점수' 컬럼만 선택해 출력하세요.\n",
    "df.iloc[-3:,-2:]\n",
    "df.loc[5:,[\"직업\",\"점수\"]]"
   ]
  },
  {
   "cell_type": "code",
   "execution_count": null,
   "id": "0df3d82f",
   "metadata": {},
   "outputs": [],
   "source": [
    "# 문제4. iloc을 사용해, 홀수번째(1, 3, 5, 7번 인덱스) 행, 모든 열을 선택하세요.\n",
    "df.iloc[[1,3,5,7]]"
   ]
  },
  {
   "cell_type": "code",
   "execution_count": null,
   "id": "9e4579e7",
   "metadata": {},
   "outputs": [],
   "source": [
    "# 문제5. loc을 사용해, 인덱스 4~7번 행, '나이', '점수' 컬럼만 출력하세요.\n",
    "df.loc[4:7, [\"나이\",\"점수\"]]"
   ]
  },
  {
   "cell_type": "code",
   "execution_count": null,
   "id": "e4c52d52",
   "metadata": {},
   "outputs": [],
   "source": [
    "# 문제6. iloc을 사용해, 짝수번째(0,2,4,6) 행과 짝수번째(0,2) 열만 선택하세요.\n",
    "df.iloc[[0,2,4,6],[0,2]]"
   ]
  },
  {
   "cell_type": "markdown",
   "id": "70cd3b9a",
   "metadata": {},
   "source": [
    "### 통계함수(집계함수)"
   ]
  },
  {
   "cell_type": "code",
   "execution_count": null,
   "id": "e7541608",
   "metadata": {},
   "outputs": [],
   "source": [
    "data = {\n",
    "    \"상품명\": [\"무선 이어폰\", \"스마트 워치\", \"텀블러\", \"노트북\", \"블루투스 스피커\", \"무드등\"],\n",
    "    \"가격\": [129000, 250000, 15000, 1200000, 85000, 22000],\n",
    "    \"재고\": [23, 12, 54, 5, 17, 31]\n",
    "}\n",
    "df = pd.DataFrame(data)\n",
    "df"
   ]
  },
  {
   "cell_type": "code",
   "execution_count": null,
   "id": "b343abb0",
   "metadata": {},
   "outputs": [],
   "source": [
    "df.describe(include=\"all\")\n",
    "# df[\"가격\"].describe()"
   ]
  },
  {
   "cell_type": "code",
   "execution_count": null,
   "id": "5f2cacde",
   "metadata": {},
   "outputs": [],
   "source": [
    "# 평균\n",
    "df[\"가격\"].mean()\n",
    "\n",
    "# 중앙값\n",
    "df[\"재고\"].median()\n",
    "\n",
    "# 표준편차\n",
    "df[\"가격\"].std()\n",
    "\n",
    "# 분산\n",
    "df[\"재고\"].var()\n",
    "\n",
    "# 값의 개수\n",
    "df[\"상품명\"].count()\n",
    "\n",
    "# 최대값\n",
    "df[\"가격\"].max()\n",
    "\n",
    "# 최소값\n",
    "df[\"재고\"].min()\n",
    "\n",
    "# 합계\n",
    "df[\"가격\"].sum()"
   ]
  },
  {
   "cell_type": "code",
   "execution_count": null,
   "id": "8e9e9c74",
   "metadata": {},
   "outputs": [],
   "source": [
    "# 최대값의 위치와 최소값의 위치\n",
    "df.idxmax()\n",
    "df[\"재고\"].idxmax()\n",
    "\n",
    "df.idxmin()\n",
    "df[\"가격\"].idxmin()"
   ]
  },
  {
   "cell_type": "markdown",
   "id": "698b5a17",
   "metadata": {},
   "source": [
    "### 결측값 처리\n",
    "- 결측값 : 값이 기록되지 않은 상태의 데이터\n",
    "- NaN : Not a Number"
   ]
  },
  {
   "cell_type": "code",
   "execution_count": null,
   "id": "2317291c",
   "metadata": {},
   "outputs": [],
   "source": [
    "data = {\n",
    "    \"이름\": [\"서준\", \"하은\", \"민준\", \"서연\", \"이안\", \"지민\"],\n",
    "    \"나이\": [22, 28, np.nan, 31, 27, 24],\n",
    "    \"점수\": [89, np.nan, 83, 90, 88, 93]\n",
    "}\n",
    "df = pd.DataFrame(data)\n",
    "df"
   ]
  },
  {
   "cell_type": "code",
   "execution_count": null,
   "id": "4f548cc9",
   "metadata": {},
   "outputs": [],
   "source": [
    "# 결측값 탐지\n",
    "# isnull 결측값이 맞으면 True 아니면 False\n",
    "df.isnull()\n",
    "\n",
    "# 각 컬럼의 결측값의 수 계산\n",
    "df.isnull().sum()\n",
    "\n",
    "# 데이터의 전체 결측값 수 계산\n",
    "df.isnull().sum().sum()"
   ]
  },
  {
   "cell_type": "code",
   "execution_count": null,
   "id": "b020f7b6",
   "metadata": {},
   "outputs": [],
   "source": [
    "# notnull 결측값이 아니면 True, 맞으면 False\n",
    "df.notnull()"
   ]
  },
  {
   "cell_type": "code",
   "execution_count": null,
   "id": "dbf59597",
   "metadata": {},
   "outputs": [],
   "source": [
    "# dropna 결측값이 있는 행 삭제\n",
    "df2 = df.dropna()\n",
    "df2"
   ]
  },
  {
   "cell_type": "code",
   "execution_count": null,
   "id": "f74c14cf",
   "metadata": {},
   "outputs": [],
   "source": [
    "# 결측값이 있는 열 삭제\n",
    "df3 = df.dropna(axis=1)\n",
    "df3"
   ]
  },
  {
   "cell_type": "code",
   "execution_count": null,
   "id": "fa3b4ab4",
   "metadata": {},
   "outputs": [],
   "source": [
    "# fillna 결측값을 0으로 대체\n",
    "df4 = df.fillna(0)\n",
    "df4"
   ]
  },
  {
   "cell_type": "code",
   "execution_count": null,
   "id": "81408bbd",
   "metadata": {},
   "outputs": [],
   "source": [
    "avg_age = df[\"나이\"].mean()\n",
    "df[\"나이\"] = df[\"나이\"].fillna(avg_age)\n",
    "df"
   ]
  },
  {
   "cell_type": "code",
   "execution_count": null,
   "id": "e29c1117",
   "metadata": {},
   "outputs": [],
   "source": [
    "# 이전 값으로 결측값 채우기(forward fill)\n",
    "df5 = df.fillna(method=\"ffill\")\n",
    "df5"
   ]
  },
  {
   "cell_type": "code",
   "execution_count": null,
   "id": "c51dc086",
   "metadata": {},
   "outputs": [],
   "source": [
    "# 뒤의 값으로 결측값 채우기(backward fill)\n",
    "df6 = df.fillna(method=\"bfill\")\n",
    "df6"
   ]
  },
  {
   "cell_type": "code",
   "execution_count": null,
   "id": "8075e462",
   "metadata": {},
   "outputs": [],
   "source": [
    "# 실습4.\n",
    "data = {\n",
    "    \"도시\": [\"서울\", \"부산\", \"광주\", \"대구\", np.nan, \"춘천\"],\n",
    "    \"미세먼지\": [45, 51, np.nan, 38, 49, np.nan],\n",
    "    \"초미세먼지\": [20, np.nan, 17, 18, 22, 19],\n",
    "    \"강수량\": [0.0, 2.5, 1.0, np.nan, 3.1, 0.0]\n",
    "}\n",
    "df = pd.DataFrame(data)\n",
    "df"
   ]
  },
  {
   "cell_type": "code",
   "execution_count": null,
   "id": "2f2bb937",
   "metadata": {},
   "outputs": [],
   "source": [
    "# 문제1. ‘미세먼지’ 컬럼의 평균과 중앙값을 구하세요.\n",
    "print(df[\"미세먼지\"].mean())\n",
    "print(df[\"미세먼지\"].median())"
   ]
  },
  {
   "cell_type": "code",
   "execution_count": null,
   "id": "444d5072",
   "metadata": {},
   "outputs": [],
   "source": [
    "# 문제2. ‘초미세먼지’ 컬럼의 최댓값과 최솟값을 구하세요.\n",
    "print(df[\"초미세먼지\"].max())\n",
    "print(df[\"초미세먼지\"].min())"
   ]
  },
  {
   "cell_type": "code",
   "execution_count": null,
   "id": "38fcac38",
   "metadata": {},
   "outputs": [],
   "source": [
    "# 문제3. 각 컬럼별 결측값 개수를 구하세요.\n",
    "df.isnull().sum()"
   ]
  },
  {
   "cell_type": "code",
   "execution_count": null,
   "id": "cbc93234",
   "metadata": {},
   "outputs": [],
   "source": [
    "# 문제4. 결측값이 하나라도 있는 행을 모두 삭제한 뒤, 남은 데이터의 ‘초미세먼지’ 평균을 구하세요.\n",
    "df2 = df.dropna()\n",
    "print(df2)\n",
    "df2[\"초미세먼지\"].mean()"
   ]
  },
  {
   "cell_type": "code",
   "execution_count": null,
   "id": "98c27992",
   "metadata": {},
   "outputs": [],
   "source": [
    "# 문제5. 결측값을 모두 0으로 채운 뒤, ‘미세먼지’와 ‘초미세먼지’의 합계를 각각 구하세요.\n",
    "df3 = df.fillna(0)\n",
    "print(df[\"미세먼지\"].sum())\n",
    "print(df[\"초미세먼지\"].sum())"
   ]
  },
  {
   "cell_type": "code",
   "execution_count": null,
   "id": "8e772f19",
   "metadata": {},
   "outputs": [],
   "source": [
    "# 문제6. ‘미세먼지’ 컬럼의 결측값을 평균값으로 채운 뒤, 그 표준편차를 구하세요.\n",
    "fd_mean = df[\"미세먼지\"].mean()\n",
    "\n",
    "# 원본을 변경시키지 않는 복사본\n",
    "df4 = df.copy()\n",
    "df4[\"미세먼지\"] = df[\"미세먼지\"].fillna(fd_mean)\n",
    "df4[\"미세먼지\"].std()"
   ]
  }
 ],
 "metadata": {
  "kernelspec": {
   "display_name": "data_analysis",
   "language": "python",
   "name": "python3"
  },
  "language_info": {
   "codemirror_mode": {
    "name": "ipython",
    "version": 3
   },
   "file_extension": ".py",
   "mimetype": "text/x-python",
   "name": "python",
   "nbconvert_exporter": "python",
   "pygments_lexer": "ipython3",
   "version": "3.13.5"
  }
 },
 "nbformat": 4,
 "nbformat_minor": 5
}
