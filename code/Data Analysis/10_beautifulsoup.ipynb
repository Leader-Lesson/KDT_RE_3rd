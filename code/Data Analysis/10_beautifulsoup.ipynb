{
 "cells": [
  {
   "cell_type": "markdown",
   "id": "f550935c",
   "metadata": {},
   "source": [
    "### 09. BeutifulSoup\n",
    "- HTML과 XML파일에서 데이터를 추출하기 위한 라이브러리"
   ]
  },
  {
   "cell_type": "code",
   "execution_count": 5,
   "id": "4c210f84",
   "metadata": {},
   "outputs": [],
   "source": [
    "from bs4 import BeautifulSoup\n",
    "import requests"
   ]
  },
  {
   "cell_type": "code",
   "execution_count": null,
   "id": "c562fe89",
   "metadata": {},
   "outputs": [],
   "source": [
    "with open(\"test.html\", \"r\", encoding=\"utf-8\") as f:\n",
    "  html_data = f.read()\n",
    "\n",
    "# soup객체 생성\n",
    "# soup = BeautifulSoup(html_data, \"html.parser\") # 내장 파서\n",
    "soup = BeautifulSoup(html_data, \"lxml\")\n",
    "# print(soup)\n",
    "print(soup.prettify())"
   ]
  },
  {
   "cell_type": "code",
   "execution_count": null,
   "id": "6ede0749",
   "metadata": {},
   "outputs": [],
   "source": [
    "# 데이터 선택\n",
    "# find() - 첫번째 매칭 요소 선택\n",
    "# 태그를 기준으로 탐색\n",
    "result = soup.find(\"h1\")\n",
    "print(result)\n",
    "print(result.text)\n",
    "print(result.get_text(strip=True))"
   ]
  },
  {
   "cell_type": "code",
   "execution_count": null,
   "id": "fea60ab2",
   "metadata": {},
   "outputs": [],
   "source": [
    "# find() - 속성 조건으로 검색 가능\n",
    "result = soup.find(\"h1\", class_=\"sub_title\")\n",
    "print(result.text)"
   ]
  },
  {
   "cell_type": "code",
   "execution_count": null,
   "id": "fbf28a25",
   "metadata": {},
   "outputs": [],
   "source": [
    "# find_all() - 모든 매칭된 요소 선택\n",
    "result = soup.find_all(\"h1\")\n",
    "# print(result)\n",
    "\n",
    "for i in result:\n",
    "  print(i.text)"
   ]
  },
  {
   "cell_type": "code",
   "execution_count": null,
   "id": "0c5251af",
   "metadata": {},
   "outputs": [],
   "source": [
    "# select() - 모든 매칭 요소 선택\n",
    "# CSS 선택자로 탐색\n",
    "result = soup.select(\"ul.items\")\n",
    "print(result)\n",
    "for i in result:\n",
    "  print(i.text)"
   ]
  },
  {
   "cell_type": "code",
   "execution_count": null,
   "id": "8b746b40",
   "metadata": {},
   "outputs": [],
   "source": [
    "# select_one() - 첫번째 매칭 요소 선택\n",
    "result = soup.select_one(\"ul.items\")\n",
    "print(result)"
   ]
  },
  {
   "cell_type": "code",
   "execution_count": null,
   "id": "bc827582",
   "metadata": {},
   "outputs": [],
   "source": [
    "# requests와 함께 사용\n",
    "# requests : 웹 사이트에서 데이터를 송수신 할 수 있는 라이브러리\n",
    "# 멜론에서 Top10의 노래 제목의 받아오기\n",
    "url = \"https://www.melon.com/chart/index.htm\"\n",
    "headers = {\n",
    "  \"User-Agent\": \"Mozilla/5.0\"\n",
    "}\n",
    "\n",
    "response = requests.get(url, headers=headers)\n",
    "soup = BeautifulSoup(response.text, \"lxml\")\n",
    "\n",
    "songs = soup.select(\"div.ellipsis.rank01 a\")[:10]\n",
    "\n",
    "for idx, song in enumerate(songs):\n",
    "  print(f\"{idx+1}. {song.text}\")"
   ]
  },
  {
   "cell_type": "code",
   "execution_count": null,
   "id": "4e9702fa",
   "metadata": {},
   "outputs": [],
   "source": [
    "# 실습2. 사용자로부터 입력을 받아 크롤링\n",
    "import datetime\n",
    "\n",
    "word = input(\"검색어를 입력하세요.\")\n",
    "\n",
    "headers = { \n",
    "  \"User-Agent\" : \"Mozilla/5.0\"\n",
    "}\n",
    "\n",
    "response = requests.get(f\"https://search.naver.com/search.naver?query={word}\",\n",
    "                        headers=headers)\n",
    "soup = BeautifulSoup(response.text, \"lxml\")\n",
    "\n",
    "news_list = soup.select(\"a.BxOYkTUC7zH9xrtyOwDx.a2OpSM_aSvFbHwpL_f8N\")\n",
    "\n",
    "print(f\"== {datetime.date.today()} 오늘의 축구 뉴스 ==\")\n",
    "for a in news_list:\n",
    "  print(f\"{a.get_text()} / 링크: {a.get(\"href\")}\")"
   ]
  },
  {
   "cell_type": "code",
   "execution_count": 2,
   "id": "61d14e6b",
   "metadata": {},
   "outputs": [],
   "source": [
    "# 크롤링한 자료를 엑셀로 저장\n",
    "import openpyxl\n",
    "\n",
    "# 엑셀 파일 만들기\n",
    "wb = openpyxl.Workbook()\n",
    "\n",
    "# 시트 만들기\n",
    "ws = wb.create_sheet(\"codingon\")\n",
    "\n",
    "ws[\"A1\"] = \"이름\"\n",
    "ws[\"B1\"] = \"영어이름\"\n",
    "\n",
    "ws[\"A2\"] = \"코딩오울\"\n",
    "ws[\"B2\"] = \"CodingOwl\"\n",
    "\n",
    "wb.save(\"codingon.xlsx\")"
   ]
  },
  {
   "cell_type": "code",
   "execution_count": 3,
   "id": "2312c884",
   "metadata": {},
   "outputs": [],
   "source": [
    "import pandas as pd\n",
    "\n",
    "data = {\n",
    "  \"이름\":[\"이안\"],\n",
    "  \"영어이름\":[\"Ian\"]\n",
    "}\n",
    "\n",
    "df = pd.DataFrame(data)\n",
    "\n",
    "df.to_excel(\"condingon2.xlsx\", index=False, sheet_name=\"list\")"
   ]
  },
  {
   "cell_type": "code",
   "execution_count": 4,
   "id": "83c459ae",
   "metadata": {},
   "outputs": [],
   "source": [
    "# 파일 불러오기\n",
    "wb = openpyxl.load_workbook(\"codingon.xlsx\")\n",
    "\n",
    "# 시트 선택\n",
    "ws = wb[\"codingon\"]\n",
    "\n",
    "ws[\"A3\"] = \"김코딩\"\n",
    "ws[\"B3\"] = \"CodingKim\"\n",
    "\n",
    "# 여러자료 추가\n",
    "data = [\n",
    "  [\"안태현\", \"Ahn\"],\n",
    "  [\"이민정\", \"Lee\"],\n",
    "  [\"최하연\", \"Choi\"],\n",
    "  [\"윤태훈\", \"Yun\"],\n",
    "  [\"오왕경\", \"Oh\"],\n",
    "  [\"김진선\", \"Kim\"],\n",
    "]\n",
    "\n",
    "for row in data:\n",
    "  ws.append(row)\n",
    "\n",
    "wb.save(\"codingon.xlsx\")"
   ]
  },
  {
   "cell_type": "code",
   "execution_count": null,
   "id": "77e90d58",
   "metadata": {},
   "outputs": [
    {
     "name": "stdout",
     "output_type": "stream",
     "text": [
      "[['USD', '1,391.70'], ['JPY(100엔)', '938.34'], ['EUR', '1,617.09'], ['CNY', '193.49']]\n"
     ]
    }
   ],
   "source": [
    "# 실습3.\n",
    "import pandas as pd\n",
    "\n",
    "res = requests.get(\"https://finance.naver.com/marketindex/\")\n",
    "soup = BeautifulSoup(res.text, \"lxml\")\n",
    "result = soup.select(\"div.market1 a.head\")\n",
    "\n",
    "data = []\n",
    "for a in result:\n",
    "  exchange = a.select_one(\"span.blind\").get_text().split()[1]\n",
    "  value = a.select_one(\"span.value\")\n",
    "  # print(exchange, value.get_text())\n",
    "  data.append([exchange, value.get_text()])\n",
    "\n",
    "df = pd.DataFrame(data, columns=[\"통화\",\"환율\"])\n",
    "df.to_excel(\"exchange.xlsx\", index=False)"
   ]
  }
 ],
 "metadata": {
  "kernelspec": {
   "display_name": "data_analysis",
   "language": "python",
   "name": "python3"
  },
  "language_info": {
   "codemirror_mode": {
    "name": "ipython",
    "version": 3
   },
   "file_extension": ".py",
   "mimetype": "text/x-python",
   "name": "python",
   "nbconvert_exporter": "python",
   "pygments_lexer": "ipython3",
   "version": "3.13.5"
  }
 },
 "nbformat": 4,
 "nbformat_minor": 5
}
