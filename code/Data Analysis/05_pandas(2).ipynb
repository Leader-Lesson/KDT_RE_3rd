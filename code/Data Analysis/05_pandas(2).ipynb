{
 "cells": [
  {
   "cell_type": "markdown",
   "id": "ef3dfa91",
   "metadata": {},
   "source": [
    "## 05. pandas(2)"
   ]
  },
  {
   "cell_type": "code",
   "execution_count": null,
   "id": "cfaf6410",
   "metadata": {},
   "outputs": [],
   "source": [
    "import pandas as pd\n",
    "import numpy as np"
   ]
  },
  {
   "cell_type": "markdown",
   "id": "d3d166bd",
   "metadata": {},
   "source": [
    "### 조건 필터링"
   ]
  },
  {
   "cell_type": "code",
   "execution_count": null,
   "id": "131e69e6",
   "metadata": {},
   "outputs": [],
   "source": [
    "data = {\n",
    "    '이름': ['홍길동', '김철수', '이영희', '박민수'],\n",
    "    '점수': [90, 70, 95, 95],\n",
    "    '반': [2, 1, 1, 2]\n",
    "}\n",
    "df = pd.DataFrame(data)\n",
    "df"
   ]
  },
  {
   "cell_type": "code",
   "execution_count": null,
   "id": "8f718012",
   "metadata": {},
   "outputs": [],
   "source": [
    "mask = df[\"점수\"] >= 80\n",
    "filtered = df[mask]\n",
    "filtered"
   ]
  },
  {
   "cell_type": "code",
   "execution_count": null,
   "id": "e18a78fa",
   "metadata": {},
   "outputs": [],
   "source": [
    "# 여러조건 결합\n",
    "# and : &\n",
    "# or : |\n",
    "# not : ~\n",
    "\n",
    "# & 예시\n",
    "df[(df[\"반\"] == 1) & (df[\"점수\"] >= 80)]"
   ]
  },
  {
   "cell_type": "code",
   "execution_count": null,
   "id": "da601618",
   "metadata": {},
   "outputs": [],
   "source": [
    "# | 예시\n",
    "mask = (df[\"반\"] == 2) | (df[\"점수\"] >= 90)\n",
    "df[mask]"
   ]
  },
  {
   "cell_type": "code",
   "execution_count": null,
   "id": "a323cd71",
   "metadata": {},
   "outputs": [],
   "source": [
    "# isin()\n",
    "# 여러 값 중에 하나에 해당하는지 여부를 판단할 때 사용\n",
    "\n",
    "# mask = (df[\"이름\"] == \"홍길동\") | (df[\"이름\"] == \"박민수\") | (df[\"이름\"] == \"이영희\") \n",
    "mask = df[\"이름\"].isin([\"홍길동\", \"박민수\"])\n",
    "df[mask]"
   ]
  },
  {
   "cell_type": "code",
   "execution_count": null,
   "id": "9fc56fd8",
   "metadata": {},
   "outputs": [],
   "source": [
    "# not 사용 예시\n",
    "mask = ~df[\"이름\"].isin([\"홍길동\", \"박민수\"])\n",
    "df[mask]"
   ]
  },
  {
   "cell_type": "code",
   "execution_count": null,
   "id": "11021652",
   "metadata": {},
   "outputs": [],
   "source": [
    "# reset_index\n",
    "# 조건 필터링, 행 삭제 등을 통해 인덱스가 변경됐을시\n",
    "# reset_index를 사용해서 인덱스를 초기화\n",
    "mask = (df[\"반\"] == 2) | (df[\"점수\"] >= 90)\n",
    "df2 = df[mask]\n",
    "print(df2)\n",
    "\n",
    "# 인덱스 리셋\n",
    "# df2 = df2.reset_index()\n",
    "# print(df2)\n",
    "\n",
    "# 기존 인덱스 삭제\n",
    "df2 = df2.reset_index(drop=True)\n",
    "print(df2)"
   ]
  },
  {
   "cell_type": "code",
   "execution_count": null,
   "id": "f8ca7026",
   "metadata": {},
   "outputs": [],
   "source": [
    "# 실습1.\n",
    "df = pd.DataFrame({\n",
    "    '이름': ['민준', '서연', '지후', '서준', '지민'],\n",
    "    '점수': [78, 92, 85, 60, 88],\n",
    "    '반': [1, 2, 1, 2, 1]\n",
    "})\n",
    "df"
   ]
  },
  {
   "cell_type": "code",
   "execution_count": null,
   "id": "fa78e145",
   "metadata": {},
   "outputs": [],
   "source": [
    "# 문제1. 점수(score)가 80점 이상인 학생만 추출하세요.\n",
    "mask = df[\"점수\"] >= 80\n",
    "df[mask]"
   ]
  },
  {
   "cell_type": "code",
   "execution_count": null,
   "id": "54ea0d89",
   "metadata": {},
   "outputs": [],
   "source": [
    "# 문제2. 1반(반==1) 학생들 중, 점수가 85점 이상인 학생만 추출하세요.\n",
    "mask = (df[\"반\"] == 1) & (df[\"점수\"] >= 85)\n",
    "df[mask]"
   ]
  },
  {
   "cell_type": "code",
   "execution_count": null,
   "id": "cc7f8c72",
   "metadata": {},
   "outputs": [],
   "source": [
    "# 문제3. 이름이 '서연' 또는 '지민'인 학생만 추출하세요.\n",
    "# mask = (df[\"이름\"] == \"서연\") | (df[\"이름\"] == \"지민\")\n",
    "mask = df[\"이름\"].isin([\"서연\", \"지민\"])\n",
    "df3 = df[mask]\n",
    "df3"
   ]
  },
  {
   "cell_type": "code",
   "execution_count": null,
   "id": "3475503d",
   "metadata": {},
   "outputs": [],
   "source": [
    "# 문제4. 문제 3에서 추출한 결과에서 인덱스를 0부터 재정렬하여 출력하세요.\n",
    "df4 = df3.reset_index(drop=True)\n",
    "df4"
   ]
  },
  {
   "cell_type": "code",
   "execution_count": null,
   "id": "17b7d843",
   "metadata": {},
   "outputs": [],
   "source": [
    "# 문제5. 점수가 80점 미만이거나 2반인 학생만 추출하세요.\n",
    "mask = (df[\"점수\"] < 80) | (df[\"반\"] == 2)\n",
    "df5 = df[mask]\n",
    "df5"
   ]
  },
  {
   "cell_type": "code",
   "execution_count": null,
   "id": "1825b5f2",
   "metadata": {},
   "outputs": [],
   "source": [
    "# 문제6. 문제 5의 결과에서 '점수' 컬럼이 70점 이상인 학생만 다시 추출하고,\n",
    "# 인덱스를 재정렬하여 출력하세요.\n",
    "mask = df5[\"점수\"] >= 70\n",
    "df6 = df5[mask].reset_index(drop=True)\n",
    "df6"
   ]
  },
  {
   "cell_type": "markdown",
   "id": "343b4c46",
   "metadata": {},
   "source": [
    "### 열 추가/수정/삭제"
   ]
  },
  {
   "cell_type": "code",
   "execution_count": null,
   "id": "db8ea6a0",
   "metadata": {},
   "outputs": [],
   "source": [
    "# 열 추가 및 수정\n",
    "# df[\"컬럼명\"] = \"값\"\n",
    "# 컬럼이 존재하면 수정 / 컬럼이 존재하지 않으면 추가\n",
    "df = pd.DataFrame({\n",
    "    '이름': ['김철수', '이영희', '박민수'],\n",
    "    '국어': [90, 80, 70],\n",
    "    '영어': [85, 78, 92]\n",
    "})\n",
    "df"
   ]
  },
  {
   "cell_type": "code",
   "execution_count": null,
   "id": "97ff99f2",
   "metadata": {},
   "outputs": [],
   "source": [
    "# 같은 값을 한번에 추가\n",
    "df[\"반\"] = \"1반\"\n",
    "df"
   ]
  },
  {
   "cell_type": "code",
   "execution_count": null,
   "id": "b33e755f",
   "metadata": {},
   "outputs": [],
   "source": [
    "# 조건문을 통한 추가\n",
    "df[\"국어_합격여부\"] = df[\"국어\"] >= 80\n",
    "df"
   ]
  },
  {
   "cell_type": "code",
   "execution_count": null,
   "id": "57bd156f",
   "metadata": {},
   "outputs": [],
   "source": [
    "# 리스트/시리즈를 통한 열 추가\n",
    "df[\"학번\"] = [101, 102, 103]\n",
    "df"
   ]
  },
  {
   "cell_type": "code",
   "execution_count": null,
   "id": "5f3fd5c4",
   "metadata": {},
   "outputs": [],
   "source": [
    "# 시리즈의 연산 결과로 새 열 추가\n",
    "df[\"총점\"] = df[\"국어\"] + df[\"영어\"]\n",
    "df"
   ]
  },
  {
   "cell_type": "code",
   "execution_count": null,
   "id": "f7f64c5d",
   "metadata": {},
   "outputs": [],
   "source": [
    "# 기존 값을 한번에 변경\n",
    "df[\"영어\"] = 100\n",
    "df"
   ]
  },
  {
   "cell_type": "code",
   "execution_count": null,
   "id": "9457996e",
   "metadata": {},
   "outputs": [],
   "source": [
    "# 새로운 컬럼 추가시, 행의 개수가 맞지 않으면 에러 발생!\n",
    "df[\"새로운열\"] = [1,2]"
   ]
  },
  {
   "cell_type": "code",
   "execution_count": null,
   "id": "d6bac247",
   "metadata": {},
   "outputs": [],
   "source": [
    "# 열 삭제: drop\n",
    "# 단일 열 삭제\n",
    "df2 = df.drop(\"반\", axis=1)\n",
    "df2"
   ]
  },
  {
   "cell_type": "code",
   "execution_count": null,
   "id": "9ddc388c",
   "metadata": {},
   "outputs": [],
   "source": [
    "# 여러 열 삭제\n",
    "df3 = df2.drop([\"총점\",\"국어_합격여부\"], axis=1)\n",
    "df3"
   ]
  },
  {
   "cell_type": "code",
   "execution_count": null,
   "id": "815076c3",
   "metadata": {},
   "outputs": [],
   "source": [
    "# 원본에서 삭제\n",
    "df.drop(\"반\", axis=1, inplace=True)\n",
    "df"
   ]
  },
  {
   "cell_type": "code",
   "execution_count": null,
   "id": "852a2153",
   "metadata": {},
   "outputs": [],
   "source": [
    "# 기타 삭제 방법(1)\n",
    "del df[\"총점\"]\n",
    "df"
   ]
  },
  {
   "cell_type": "code",
   "execution_count": null,
   "id": "f798d577",
   "metadata": {},
   "outputs": [],
   "source": [
    "# 기타 삭제 방법(2)\n",
    "deleted = df.pop(\"국어_합격여부\")\n",
    "deleted"
   ]
  },
  {
   "cell_type": "markdown",
   "id": "ac4e906b",
   "metadata": {},
   "source": [
    "### 행 추가/수정/삭제"
   ]
  },
  {
   "cell_type": "code",
   "execution_count": null,
   "id": "271aa7f6",
   "metadata": {},
   "outputs": [],
   "source": [
    "df = pd.DataFrame({\n",
    "    '이름': ['김철수', '이영희'],\n",
    "    '나이': [23, 25]\n",
    "})\n",
    "df"
   ]
  },
  {
   "cell_type": "code",
   "execution_count": null,
   "id": "2a84b457",
   "metadata": {},
   "outputs": [],
   "source": [
    "# 행추가 : concat\n",
    "# 새 행을 추가하기\n",
    "new_row = pd.DataFrame([{\"이름\": \"이안\", \"나이\":25}])\n",
    "\n",
    "# df = pd.concat([df, new_row])\n",
    "\n",
    "# 인덱스 재정렬\n",
    "df = pd.concat([df, new_row], ignore_index=True)\n",
    "df"
   ]
  },
  {
   "cell_type": "code",
   "execution_count": null,
   "id": "6056ef35",
   "metadata": {},
   "outputs": [],
   "source": [
    "# 여러 행 추가하기\n",
    "new_rows = pd.DataFrame([{\"이름\": \"안태현\", \"나이\":25},\n",
    "                        {\"이름\": \"이민정\", \"나이\":25}])\n",
    "df = pd.concat([df, new_rows], ignore_index=True)\n",
    "df"
   ]
  },
  {
   "cell_type": "code",
   "execution_count": null,
   "id": "fd94e821",
   "metadata": {},
   "outputs": [],
   "source": [
    "# 행 수정\n",
    "# loc, iloc을 활용\n",
    "df.loc[1] = [\"김영희\", 35]\n",
    "df"
   ]
  },
  {
   "cell_type": "code",
   "execution_count": null,
   "id": "ab680325",
   "metadata": {},
   "outputs": [],
   "source": [
    "df.loc[0, \"나이\"] = 18\n",
    "df"
   ]
  },
  {
   "cell_type": "code",
   "execution_count": null,
   "id": "a63fe0c8",
   "metadata": {},
   "outputs": [],
   "source": [
    "df.loc[1:3, \"나이\"] = 15\n",
    "df"
   ]
  },
  {
   "cell_type": "code",
   "execution_count": null,
   "id": "3ca1cd62",
   "metadata": {},
   "outputs": [],
   "source": [
    "df.loc[1:2, [\"이름\",\"나이\"]] = [[\"최하연\", 25], [\"오왕경\",25]]\n",
    "df"
   ]
  },
  {
   "cell_type": "code",
   "execution_count": null,
   "id": "3070bcf7",
   "metadata": {},
   "outputs": [],
   "source": [
    "# 행 삭제 : drop\n",
    "# axis 기본값 0\n",
    "# 단일 행 삭제\n",
    "df2 = df.drop(1).reset_index(drop=True)\n",
    "df2"
   ]
  },
  {
   "cell_type": "code",
   "execution_count": null,
   "id": "d5582c90",
   "metadata": {},
   "outputs": [],
   "source": [
    "# 여러 행 삭제\n",
    "df3 = df.drop([0,2])\n",
    "df3"
   ]
  },
  {
   "cell_type": "code",
   "execution_count": null,
   "id": "62fb85bd",
   "metadata": {},
   "outputs": [],
   "source": [
    "df = df[df[\"나이\"] >= 20]\n",
    "df"
   ]
  },
  {
   "cell_type": "code",
   "execution_count": null,
   "id": "64eea9f6",
   "metadata": {},
   "outputs": [],
   "source": [
    "# 실습2.\n",
    "df = pd.DataFrame({\n",
    "    '이름': ['김철수', '이영희', '박민수'],\n",
    "    '국어': [90, 80, 70]\n",
    "})\n",
    "# 문제1. '수학' 점수 [95, 100, 88]을 새 열로 추가하세요.\n",
    "df[\"수학\"] = [95,100,88]\n",
    "\n",
    "# 문제2. 1번 문제의 DataFrame에서 '이름' 열을 삭제하세요.\n",
    "df.drop(\"이름\", axis=1, inplace=True)\n",
    "df"
   ]
  },
  {
   "cell_type": "code",
   "execution_count": null,
   "id": "c268315d",
   "metadata": {},
   "outputs": [],
   "source": [
    "df = pd.DataFrame({\n",
    "    '제품': ['A', 'B'],\n",
    "    '가격': [1000, 2000]\n",
    "})\n",
    "# 문제3. 제품 'C', 가격 1500인 새 행을 추가하세요.\n",
    "new_row = pd.DataFrame([{\"제품\":\"C\", \"가격\":1500}])\n",
    "df = pd.concat([df, new_row], ignore_index=True)\n",
    "\n",
    "# 문제4. 3번 문제의 DataFrame에서 첫 번째 행(제품 'A')을 삭제하세요.\n",
    "df = df.drop(0).reset_index(drop=True)\n",
    "df"
   ]
  },
  {
   "cell_type": "code",
   "execution_count": null,
   "id": "fa625fd8",
   "metadata": {},
   "outputs": [],
   "source": [
    "df = pd.DataFrame({\n",
    "    '과목': ['국어', '영어', '수학'],\n",
    "    '점수': [85, 90, 78]\n",
    "})\n",
    "# 문제5. '점수'가 80 미만인 행을 모두 삭제하세요.\n",
    "df = df[df[\"점수\"] >= 80]\n",
    "\n",
    "# 문제6. '학년' 열(값은 모두 1)을 추가하세요.\n",
    "df[\"학년\"] = 1\n",
    "df"
   ]
  },
  {
   "cell_type": "code",
   "execution_count": null,
   "id": "d3752529",
   "metadata": {},
   "outputs": [],
   "source": [
    "df = pd.DataFrame({\n",
    "    '이름': ['A', 'B'],\n",
    "    '나이': [20, 22]\n",
    "})\n",
    "# 문제7. 이름이 'C', 나이가 25, 키가 NaN(결측값)인 새 행을 추가하세요.\n",
    "# (단, '키'라는 새 열이 자동으로 추가되어야 함)\n",
    "print(df)\n",
    "new_row = pd.DataFrame([{\"이름\":\"C\", \"나이\":25, \"키\":np.nan}])\n",
    "df = pd.concat([df, new_row], ignore_index=True)\n",
    "df\n"
   ]
  },
  {
   "cell_type": "code",
   "execution_count": null,
   "id": "d694872f",
   "metadata": {},
   "outputs": [],
   "source": [
    "df = pd.DataFrame({\n",
    "    '부서': ['영업', '기획', '개발', '디자인'],\n",
    "    '인원': [3, 2, 5, 1]\n",
    "})\n",
    "# 문제8. 인원이 2명 이하인 행을 모두 삭제하고,\n",
    "df = df[df[\"인원\"] > 2].reset_index(drop=True)\n",
    "\n",
    "# 문제9. '평가' 열을 새로 추가해 모든 값을 '미정'으로 채우세요.\n",
    "df[\"평가\"] = \"미정\"\n",
    "df"
   ]
  },
  {
   "cell_type": "markdown",
   "id": "98ff5d1b",
   "metadata": {},
   "source": [
    "### 정렬\n",
    "- 값 기준 정렬 : sort_values\n",
    "- 인덱스 기준 정렬 : sort_index"
   ]
  },
  {
   "cell_type": "code",
   "execution_count": null,
   "id": "5c16ed22",
   "metadata": {},
   "outputs": [],
   "source": [
    "# 값 기준 정렬 : sort_values\n",
    "data = {\n",
    "    '이름': ['홍길동', '김철수', '이영희', '박민수'],\n",
    "    '점수': [90, 70, 85, 95],\n",
    "    '반': [2, 1, 1, 2]\n",
    "}\n",
    "df = pd.DataFrame(data)\n",
    "df"
   ]
  },
  {
   "cell_type": "code",
   "execution_count": null,
   "id": "fed57fac",
   "metadata": {},
   "outputs": [],
   "source": [
    "# 오름차순 정렬\n",
    "df2 = df.sort_values(\"점수\").reset_index(drop=True)\n",
    "df2"
   ]
  },
  {
   "cell_type": "code",
   "execution_count": null,
   "id": "a764ef98",
   "metadata": {},
   "outputs": [],
   "source": [
    "# 내림차순 정렬\n",
    "# ascending = False\n",
    "df3 = df.sort_values(\"점수\", ascending=False).reset_index(drop=True)\n",
    "df3"
   ]
  },
  {
   "cell_type": "code",
   "execution_count": null,
   "id": "675fd2f4",
   "metadata": {},
   "outputs": [],
   "source": [
    "# 여러 기준으로 정렬\n",
    "df4 = df.sort_values([\"반\",\"점수\"], ascending=[True, False]).reset_index(drop=True)\n",
    "df4"
   ]
  },
  {
   "cell_type": "code",
   "execution_count": null,
   "id": "50095a39",
   "metadata": {},
   "outputs": [],
   "source": [
    "# 원본 변경\n",
    "df.sort_values([\"반\",\"점수\"], \n",
    "                ascending=[True, False],\n",
    "                inplace=True\n",
    "              )\n",
    "df.reset_index(drop=True)"
   ]
  },
  {
   "cell_type": "code",
   "execution_count": null,
   "id": "fe7fa86d",
   "metadata": {},
   "outputs": [],
   "source": [
    "# 인덱스 기준 정렬 : sort_index\n",
    "df_shuffled = df.sample(frac=1, random_state=42)\n",
    "df_shuffled\n",
    "\n",
    "# 행 인덱스 기준으로 정렬\n",
    "df5 = df_shuffled.sort_index() # 오름차순\n",
    "# df5 = df_shuffled.sort_index(ascending=False) # 내림차순\n",
    "df5\n",
    "\n",
    "# 열 이름 기준 정렬(알파벳순)\n",
    "df6 = df.sort_index(axis=1)\n",
    "df6"
   ]
  },
  {
   "cell_type": "code",
   "execution_count": null,
   "id": "745244d5",
   "metadata": {},
   "outputs": [],
   "source": [
    "# 실습3.\n",
    "df = pd.DataFrame({\n",
    "    'name': ['Alice', 'Bob', 'Charlie', 'David'],\n",
    "    'score': [88, 95, 70, 100]\n",
    "})\n",
    "# 문제1. 주어진 DataFrame에서, score 컬럼 기준으로 오름차순 정렬한 결과를 출력하세요.\n",
    "df1 = df.sort_values(\"score\").reset_index(drop=True)\n",
    "df1\n",
    "\n",
    "# 문제2. score 컬럼 기준 내림차순으로 정렬한 후, 정렬된 인덱스를 무시하고 0부터 재정렬한 결과를 출력하세요.\n",
    "df2 = df.sort_values(\"score\", ascending=False).reset_index(drop=True)\n",
    "df2\n"
   ]
  },
  {
   "cell_type": "code",
   "execution_count": null,
   "id": "1ab6718b",
   "metadata": {},
   "outputs": [],
   "source": [
    "df = pd.DataFrame({\n",
    "    '이름': ['가', '나', '다', '라', '마'],\n",
    "    '반': [2, 1, 1, 2, 1],\n",
    "    '점수': [90, 85, 80, 95, 85]\n",
    "})\n",
    "# 문제3. 주어진 DataFrame에서,반(class) 기준 오름차순,\n",
    "# 같은 반 내에서는 점수(score) 기준 내림차순으로 정렬한 결과를 출력하세요.\n",
    "df3 = df.sort_values([\"반\",\"점수\"], ascending=[True, False]).reset_index(drop=True)\n",
    "df3\n",
    "\n",
    "# 문제4. 열(컬럼) 이름을 알파벳순으로 정렬해서 출력하세요.\n",
    "df4 = df3.sort_index(axis=1)\n",
    "df4\n"
   ]
  },
  {
   "cell_type": "code",
   "execution_count": null,
   "id": "c6057645",
   "metadata": {},
   "outputs": [],
   "source": [
    "df = pd.DataFrame({\n",
    "    'value': [10, 20, 30, 40]\n",
    "}, index=[3, 1, 4, 2])\n",
    "\n",
    "print(df)\n",
    "\n",
    "# 문제5. 인덱스 기준으로 오름차순 정렬한 결과를 출력하세요.\n",
    "df5 = df.sort_index()\n",
    "df5\n",
    "\n",
    "# 문제6. 인덱스 기준 내림차순 정렬, value 컬럼 기준 오름차순 정렬 두 가지 정렬 결과를 각각 출력하세요.\n",
    "df6 = df.sort_index(ascending=False)\n",
    "df6\n",
    "d7 = df.sort_values(\"value\")"
   ]
  },
  {
   "cell_type": "markdown",
   "id": "05060eee",
   "metadata": {},
   "source": [
    "### groupby"
   ]
  },
  {
   "cell_type": "code",
   "execution_count": null,
   "id": "820b4e9c",
   "metadata": {},
   "outputs": [],
   "source": [
    "df = pd.DataFrame({\n",
    "    'team': ['A', 'A', 'B', 'B', 'B', 'C'],\n",
    "    'name': ['Kim', 'Lee', 'Park', 'Choi', 'Jung', 'Han'],\n",
    "    'score': [90, 85, 80, 70, 95, 88]\n",
    "})\n",
    "df"
   ]
  },
  {
   "cell_type": "code",
   "execution_count": null,
   "id": "2e96c270",
   "metadata": {},
   "outputs": [],
   "source": [
    "# 단일 컬럼 기준 그룹화\n",
    "grouped = df.groupby(\"team\")\n",
    "\n",
    "# 집계함수 적용\n",
    "result_sum = grouped[\"score\"].sum()\n",
    "print(result_sum)\n",
    "\n",
    "# 평균\n",
    "result_mean = grouped[\"score\"].mean()\n",
    "print(result_mean)\n",
    "\n",
    "# 개수\n",
    "result_count = grouped[\"score\"].count()\n",
    "print(result_count)"
   ]
  },
  {
   "cell_type": "code",
   "execution_count": null,
   "id": "fb332366",
   "metadata": {},
   "outputs": [],
   "source": [
    "df2 = pd.DataFrame({\n",
    "    'team': ['A', 'A', 'B', 'B', 'B', 'C'],\n",
    "    'gender': ['M', 'F', 'F', 'M', 'M', 'F'],\n",
    "    'score': [90, 85, 80, 70, 95, 88],\n",
    "    'age' : [21, 22, 23, 25, 20, 27]\n",
    "})\n",
    "df2"
   ]
  },
  {
   "cell_type": "code",
   "execution_count": null,
   "id": "cfcd3111",
   "metadata": {},
   "outputs": [],
   "source": [
    "# 여러 컬럼 기준 그룹화\n",
    "result = df2.groupby([\"team\", \"gender\"])[\"score\"].mean()\n",
    "result"
   ]
  },
  {
   "cell_type": "code",
   "execution_count": null,
   "id": "b0d02379",
   "metadata": {},
   "outputs": [],
   "source": [
    "# as_index=False 옵션\n",
    "# 그룹라벨이 인덱스로 설정됨\n",
    "result = df2.groupby(\"team\", as_index=False)[\"score\"].sum()\n",
    "result"
   ]
  },
  {
   "cell_type": "code",
   "execution_count": null,
   "id": "f2967762",
   "metadata": {},
   "outputs": [],
   "source": [
    "# 여러 집계 함수를 한번에 적용 : agg()\n",
    "result = df2.groupby(\"team\", as_index=False)[\"score\"].agg([\"sum\",\"mean\",\"count\"])\n",
    "result"
   ]
  },
  {
   "cell_type": "code",
   "execution_count": null,
   "id": "ad785b8f",
   "metadata": {},
   "outputs": [],
   "source": [
    "# 그룹별로 여러 컬럼에 다른 집계 함수 적용\n",
    "result = df2.groupby(\"team\").agg({\n",
    "  \"score\" : \"mean\",\n",
    "  \"age\" : \"max\"\n",
    "})\n",
    "result"
   ]
  },
  {
   "cell_type": "code",
   "execution_count": 156,
   "id": "68d41e98",
   "metadata": {},
   "outputs": [
    {
     "data": {
      "text/plain": [
       "grade\n",
       "1    85.0\n",
       "2    85.0\n",
       "3    75.0\n",
       "Name: kor, dtype: float64"
      ]
     },
     "execution_count": 156,
     "metadata": {},
     "output_type": "execute_result"
    }
   ],
   "source": [
    "# 실습4.\n",
    "# 문제1. 각 학년(grade)별 평균 국어 점수(kor)를 구하세요.\n",
    "df = pd.DataFrame({\n",
    "    'grade': [1, 2, 1, 2, 1, 3],\n",
    "    'name': ['Kim', 'Lee', 'Park', 'Choi', 'Jung', 'Han'],\n",
    "    'kor': [85, 78, 90, 92, 80, 75]\n",
    "})\n",
    "\n",
    "result = df.groupby(\"grade\")[\"kor\"].mean()\n",
    "result"
   ]
  },
  {
   "cell_type": "code",
   "execution_count": 158,
   "id": "748a0ced",
   "metadata": {},
   "outputs": [
    {
     "data": {
      "text/html": [
       "<div>\n",
       "<style scoped>\n",
       "    .dataframe tbody tr th:only-of-type {\n",
       "        vertical-align: middle;\n",
       "    }\n",
       "\n",
       "    .dataframe tbody tr th {\n",
       "        vertical-align: top;\n",
       "    }\n",
       "\n",
       "    .dataframe thead th {\n",
       "        text-align: right;\n",
       "    }\n",
       "</style>\n",
       "<table border=\"1\" class=\"dataframe\">\n",
       "  <thead>\n",
       "    <tr style=\"text-align: right;\">\n",
       "      <th></th>\n",
       "      <th></th>\n",
       "      <th>count</th>\n",
       "      <th>mean</th>\n",
       "    </tr>\n",
       "    <tr>\n",
       "      <th>class</th>\n",
       "      <th>subject</th>\n",
       "      <th></th>\n",
       "      <th></th>\n",
       "    </tr>\n",
       "  </thead>\n",
       "  <tbody>\n",
       "    <tr>\n",
       "      <th rowspan=\"2\" valign=\"top\">1</th>\n",
       "      <th>Eng</th>\n",
       "      <td>1</td>\n",
       "      <td>85.0</td>\n",
       "    </tr>\n",
       "    <tr>\n",
       "      <th>Math</th>\n",
       "      <td>2</td>\n",
       "      <td>85.0</td>\n",
       "    </tr>\n",
       "    <tr>\n",
       "      <th rowspan=\"2\" valign=\"top\">2</th>\n",
       "      <th>Eng</th>\n",
       "      <td>2</td>\n",
       "      <td>92.5</td>\n",
       "    </tr>\n",
       "    <tr>\n",
       "      <th>Math</th>\n",
       "      <td>1</td>\n",
       "      <td>70.0</td>\n",
       "    </tr>\n",
       "  </tbody>\n",
       "</table>\n",
       "</div>"
      ],
      "text/plain": [
       "               count  mean\n",
       "class subject             \n",
       "1     Eng          1  85.0\n",
       "      Math         2  85.0\n",
       "2     Eng          2  92.5\n",
       "      Math         1  70.0"
      ]
     },
     "execution_count": 158,
     "metadata": {},
     "output_type": "execute_result"
    }
   ],
   "source": [
    "# 문제2. 아래 DataFrame에서 반(class)별, 과목(subject)별로 시험에 응시한 학생 수(count)와\n",
    "# 평균 점수(avg)를 구하세요.\n",
    "df = pd.DataFrame({\n",
    "    'class': [1, 1, 1, 2, 2, 2],\n",
    "    'subject': ['Math', 'Math', 'Eng', 'Math', 'Eng', 'Eng'],\n",
    "    'score': [80, 90, 85, 70, 95, 90]\n",
    "})\n",
    "\n",
    "result = df.groupby([\"class\", \"subject\"])[\"score\"].agg([\"count\", \"mean\"])\n",
    "result"
   ]
  },
  {
   "cell_type": "code",
   "execution_count": 159,
   "id": "85e16aeb",
   "metadata": {},
   "outputs": [
    {
     "data": {
      "text/plain": [
       "region  seller\n",
       "Busan   A         150\n",
       "        B         120\n",
       "Daegu   A         130\n",
       "Seoul   A         100\n",
       "        B         200\n",
       "Name: sales, dtype: int64"
      ]
     },
     "execution_count": 159,
     "metadata": {},
     "output_type": "execute_result"
    }
   ],
   "source": [
    "# 문제3. 아래 DataFrame에서 지역(region)별 판매자(seller)별로\n",
    "# 판매액(sales)의 합계와 최대값을 구하세요.\n",
    "df = pd.DataFrame({\n",
    "    'region': ['Seoul', 'Seoul', 'Busan', 'Busan', 'Daegu'],\n",
    "    'seller': ['A', 'B', 'A', 'B', 'A'],\n",
    "    'sales': [100, 200, 150, 120, 130]\n",
    "})\n",
    "\n",
    "result = df.groupby([\"region\", \"seller\"])[\"sales\"].agg(\"sum\", \"max\")\n",
    "result"
   ]
  },
  {
   "cell_type": "code",
   "execution_count": 160,
   "id": "a70b26e7",
   "metadata": {},
   "outputs": [
    {
     "data": {
      "text/plain": [
       "team  position\n",
       "A     DF          3.0\n",
       "      FW          3.0\n",
       "B     DF          1.0\n",
       "      FW          2.0\n",
       "Name: score, dtype: float64"
      ]
     },
     "execution_count": 160,
     "metadata": {},
     "output_type": "execute_result"
    }
   ],
   "source": [
    "# 문제4. 아래 DataFrame에서 팀(team)별, 포지션(position)별로\n",
    "# 결측치(NaN)를 포함한 점수(score)의 평균을 구하세요.\n",
    "df = pd.DataFrame({\n",
    "    'team': ['A', 'A', 'B', 'B', 'A', 'B'],\n",
    "    'position': ['FW', 'DF', 'FW', 'DF', 'DF', 'FW'],\n",
    "    'score': [3, 2, None, 1, 4, 2]\n",
    "})\n",
    "result = df.groupby([\"team\",\"position\"])[\"score\"].mean()\n",
    "result"
   ]
  },
  {
   "cell_type": "code",
   "execution_count": 164,
   "id": "2cabf4da",
   "metadata": {},
   "outputs": [
    {
     "data": {
      "text/html": [
       "<div>\n",
       "<style scoped>\n",
       "    .dataframe tbody tr th:only-of-type {\n",
       "        vertical-align: middle;\n",
       "    }\n",
       "\n",
       "    .dataframe tbody tr th {\n",
       "        vertical-align: top;\n",
       "    }\n",
       "\n",
       "    .dataframe thead th {\n",
       "        text-align: right;\n",
       "    }\n",
       "</style>\n",
       "<table border=\"1\" class=\"dataframe\">\n",
       "  <thead>\n",
       "    <tr style=\"text-align: right;\">\n",
       "      <th></th>\n",
       "      <th></th>\n",
       "      <th>count</th>\n",
       "      <th>total_salary</th>\n",
       "    </tr>\n",
       "    <tr>\n",
       "      <th>dept</th>\n",
       "      <th>gender</th>\n",
       "      <th></th>\n",
       "      <th></th>\n",
       "    </tr>\n",
       "  </thead>\n",
       "  <tbody>\n",
       "    <tr>\n",
       "      <th rowspan=\"2\" valign=\"top\">HR</th>\n",
       "      <th>F</th>\n",
       "      <td>1</td>\n",
       "      <td>3200</td>\n",
       "    </tr>\n",
       "    <tr>\n",
       "      <th>M</th>\n",
       "      <td>1</td>\n",
       "      <td>3500</td>\n",
       "    </tr>\n",
       "    <tr>\n",
       "      <th rowspan=\"2\" valign=\"top\">IT</th>\n",
       "      <th>F</th>\n",
       "      <td>1</td>\n",
       "      <td>4000</td>\n",
       "    </tr>\n",
       "    <tr>\n",
       "      <th>M</th>\n",
       "      <td>1</td>\n",
       "      <td>4200</td>\n",
       "    </tr>\n",
       "    <tr>\n",
       "      <th>Sales</th>\n",
       "      <th>F</th>\n",
       "      <td>2</td>\n",
       "      <td>6100</td>\n",
       "    </tr>\n",
       "  </tbody>\n",
       "</table>\n",
       "</div>"
      ],
      "text/plain": [
       "              count  total_salary\n",
       "dept  gender                     \n",
       "HR    F           1          3200\n",
       "      M           1          3500\n",
       "IT    F           1          4000\n",
       "      M           1          4200\n",
       "Sales F           2          6100"
      ]
     },
     "execution_count": 164,
     "metadata": {},
     "output_type": "execute_result"
    }
   ],
   "source": [
    "# 문제5. 아래 DataFrame에서 부서(dept)별로 성별(gender)별 인원 수와,\n",
    "# 총 연봉(salary) 합계를 구하세요.\n",
    "df = pd.DataFrame({\n",
    "    'dept': ['HR', 'HR', 'IT', 'IT', 'Sales', 'Sales'],\n",
    "    'gender': ['M', 'F', 'F', 'M', 'F', 'F'],\n",
    "    'salary': [3500, 3200, 4000, 4200, 3000, 3100]\n",
    "})\n",
    "\n",
    "# result = df.groupby([\"dept\", \"gender\"])[\"salary\"].agg([\"count\", \"sum\"])\n",
    "result = df.groupby([\"dept\", \"gender\"]).agg(\n",
    "    count=(\"salary\", \"count\"),\n",
    "    total_salary=(\"salary\", \"sum\")\n",
    ")\n",
    "result"
   ]
  }
 ],
 "metadata": {
  "kernelspec": {
   "display_name": "data_analysis",
   "language": "python",
   "name": "python3"
  },
  "language_info": {
   "codemirror_mode": {
    "name": "ipython",
    "version": 3
   },
   "file_extension": ".py",
   "mimetype": "text/x-python",
   "name": "python",
   "nbconvert_exporter": "python",
   "pygments_lexer": "ipython3",
   "version": "3.13.5"
  }
 },
 "nbformat": 4,
 "nbformat_minor": 5
}
