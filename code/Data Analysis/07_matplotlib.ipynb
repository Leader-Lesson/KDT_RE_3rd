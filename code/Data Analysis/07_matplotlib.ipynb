{
 "cells": [
  {
   "cell_type": "markdown",
   "id": "4a0b4497",
   "metadata": {},
   "source": [
    "## 07. matplotlib\n",
    "- 파이썬에서 가장 널리 사용되는 데이터 시각화 라이브러리!!"
   ]
  },
  {
   "cell_type": "code",
   "execution_count": 1,
   "id": "63816d50",
   "metadata": {},
   "outputs": [],
   "source": [
    "import matplotlib\n",
    "import matplotlib.pyplot as plt\n",
    "import numpy as np\n",
    "\n",
    "matplotlib.__version__\n",
    "\n",
    "plt.rcParams['font.family'] = 'Malgun Gothic'  # '맑은 고딕'이 설치되어 있을 경우\n",
    "plt.rcParams['axes.unicode_minus'] = False     # 마이너스(-) 부호 깨짐 방지"
   ]
  },
  {
   "cell_type": "markdown",
   "id": "c55b523a",
   "metadata": {},
   "source": [
    "### 그래프 그리기"
   ]
  },
  {
   "cell_type": "code",
   "execution_count": null,
   "id": "f32a40fa",
   "metadata": {},
   "outputs": [],
   "source": [
    "x = [1,2,3,4,5]\n",
    "y = [10,13,17,19,24]\n",
    "\n",
    "# 선 그래프\n",
    "plt.plot(x,y)\n",
    "\n",
    "# 이미지를 파일로 저장\n",
    "plt.savefig(\"my_graph.png\")\n",
    "\n",
    "# 콘솔에 이미지 그리기\n",
    "plt.show()"
   ]
  },
  {
   "cell_type": "markdown",
   "id": "fa4d0806",
   "metadata": {},
   "source": [
    "### 그래프의 구성 요소(1)\n",
    "- figure : 여러 그래프가 그려지는 최상위 컨테이너\n",
    "- axes : 실제 그래프가 그려지는 공간\n",
    "- axis : 그래프의 축"
   ]
  },
  {
   "cell_type": "code",
   "execution_count": null,
   "id": "644a5b14",
   "metadata": {},
   "outputs": [],
   "source": [
    "# subplots()\n",
    "# fig, axs = plt.subplots(행, 열)\n",
    "fig, axs = plt.subplots() # 하나의 figure와 하나의 axes를 만듦"
   ]
  },
  {
   "cell_type": "code",
   "execution_count": null,
   "id": "a2b12d92",
   "metadata": {},
   "outputs": [],
   "source": [
    "# 1행 2열의 axes 생성\n",
    "fig, axs = plt.subplots(1,2)\n",
    "\n",
    "axs[0].plot([1,2,3], [1,2,3])\n",
    "axs[1].plot([1,2,3], [1,4,9])\n",
    "\n",
    "plt.show()"
   ]
  },
  {
   "cell_type": "code",
   "execution_count": null,
   "id": "2d33720e",
   "metadata": {},
   "outputs": [],
   "source": [
    "# 2행 2열의 axes 생성\n",
    "fig, axs = plt.subplots(2, 2)\n",
    "\n",
    "fig.suptitle(\"여러 함수 그래프\")\n",
    "\n",
    "axs[0, 0].plot([1,2,3], [1,2,3])\n",
    "axs[0, 0].set_title(\"1번 그래프\")\n",
    "\n",
    "axs[0, 1].plot([1,2,3], [1,4,9])\n",
    "axs[0, 1].set_title(\"2번 그래프\")\n",
    "\n",
    "axs[1, 0].plot([1,2,3], [3,2,1])\n",
    "axs[1, 0].set_title(\"3번 그래프\")\n",
    "\n",
    "axs[1, 1].plot([1,2,3], [9,4,1])\n",
    "axs[1, 1].set_title(\"4번 그래프\")\n",
    "\n",
    "plt.tight_layout() # 그래프 간격 자동 조정\n",
    "\n",
    "plt.show()"
   ]
  },
  {
   "cell_type": "markdown",
   "id": "19e58b68",
   "metadata": {},
   "source": [
    "### 그래프의 구성요소(2)\n",
    "- 제목, 레이블, 범례, 그리드"
   ]
  },
  {
   "cell_type": "code",
   "execution_count": null,
   "id": "0e75a2f8",
   "metadata": {},
   "outputs": [],
   "source": [
    "# title - 기본\n",
    "plt.plot([1,2,3,4,5], [1,4,9,16,25], \n",
    "        label=\"제곱 그래프\",\n",
    "        linestyle=\"--\",\n",
    "        color=\"c\",\n",
    "        marker=\"o\")\n",
    "plt.title(\"제곱 함수 그래프\", color=\"b\", fontsize=20)\n",
    "\n",
    "# xlabel, ylabel - 기본\n",
    "plt.xlabel(\"x 값\")\n",
    "plt.ylabel(\"y 값(x의 제곱)\")\n",
    "\n",
    "# xticks, yticks\n",
    "plt.xticks([1,2,3,4,5],[\"A\",\"B\",\"C\",\"D\",\"E\"])\n",
    "plt.yticks([1,5,10,15,20])\n",
    "\n",
    "# 범례(legend)\n",
    "plt.legend()\n",
    "\n",
    "# 격자(grid)\n",
    "plt.grid(linestyle=\"--\")\n",
    "\n",
    "plt.show()"
   ]
  },
  {
   "cell_type": "code",
   "execution_count": null,
   "id": "1c8d25a3",
   "metadata": {},
   "outputs": [],
   "source": [
    "# title - subplot\n",
    "fig, axs = plt.subplots()\n",
    "\n",
    "axs.plot([1,2,3],[1,4,9], \"bo--\", label=\"제곱그래프\")\n",
    "axs.set_title(\"제곱 함수 그래프\")\n",
    "\n",
    "# x라벨, y라벨 - subplot\n",
    "axs.set_xlabel(\"x값\")\n",
    "axs.set_ylabel(\"y값(x의 제곱)\")\n",
    "\n",
    "# 범례(legend)\n",
    "axs.legend()\n",
    "\n",
    "# 격자(grid)\n",
    "axs.grid()\n",
    "\n",
    "plt.show()"
   ]
  },
  {
   "cell_type": "code",
   "execution_count": null,
   "id": "c434c574",
   "metadata": {},
   "outputs": [],
   "source": [
    "# 하나의 axes에 여러개의 그래프 그리기\n",
    "x = np.arange(0,10)\n",
    "y1 = 2 * x + 1\n",
    "y2 = 3 * x - 5\n",
    "\n",
    "plt.plot(x, y1, marker=\"o\", label=\"y = 2x + 1\", color=\"c\")\n",
    "plt.plot(x, y2, marker=\"*\", label=\"y = 3x - 5\", color=\"m\")\n",
    "\n",
    "plt.title(\"두개의 선 그래프 비교\")\n",
    "plt.xlabel(\"x값\")\n",
    "plt.ylabel(\"y값\")\n",
    "plt.legend()\n",
    "plt.grid(linestyle=\":\", alpha=0.5)\n",
    "\n",
    "plt.show()"
   ]
  },
  {
   "cell_type": "code",
   "execution_count": null,
   "id": "39363d04",
   "metadata": {},
   "outputs": [],
   "source": [
    "# 실습1. 선 그래프 그리기\n",
    "months = ['Jan', 'Feb', 'Mar', 'Apr', 'May', 'Jun', 'Jul', 'Aug', 'Sep', 'Oct', 'Nov', 'Dec']\n",
    "sales_2019 = [100,120,140,110,130,150,160,170,180,200,190,210]\n",
    "sales_2020 = [90,110,130,120,140,160,170,160,150,180,200,190]\n",
    "\n",
    "plt.plot(sales_2019, label=\"2019 판매량\", linestyle=\"--\", marker=\"o\")\n",
    "plt.plot(sales_2020, label=\"2020 판매량\", linestyle=\"--\", marker=\"^\")\n",
    "\n",
    "plt.xlabel(\"월\", labelpad=15)\n",
    "plt.ylabel(\"판매량\", labelpad=15)\n",
    "\n",
    "x = np.arange(12)\n",
    "plt.xticks(x, months)\n",
    "\n",
    "plt.title(\"Monthly sales comparison(2019-2020)\")\n",
    "plt.grid(linestyle=\":\", alpha=0.5)\n",
    "plt.legend(loc=\"lower right\", title=\"판매 연도\")\n",
    "\n",
    "plt.show()"
   ]
  },
  {
   "cell_type": "code",
   "execution_count": null,
   "id": "a9b5884c",
   "metadata": {},
   "outputs": [],
   "source": [
    "# 막대 그래프\n",
    "labels = [\"A\",\"B\",\"C\",\"D\"]\n",
    "values = [10, 24, 15, 32]\n",
    "\n",
    "plt.bar(labels, values)\n",
    "\n",
    "plt.show()"
   ]
  },
  {
   "cell_type": "code",
   "execution_count": null,
   "id": "3a70e533",
   "metadata": {},
   "outputs": [],
   "source": [
    "# 수평 막대 그래프\n",
    "plt.barh(labels, values)\n",
    "plt.show()"
   ]
  },
  {
   "cell_type": "code",
   "execution_count": null,
   "id": "4956315b",
   "metadata": {},
   "outputs": [],
   "source": [
    "# 여러 막대그래프\n",
    "labels = [\"1분기\",\"2분기\",\"3분기\",\"4분기\"]\n",
    "men_means = [20, 34, 30, 35]\n",
    "women_means = [25, 32, 34, 40]\n",
    "\n",
    "x = np.arange(len(labels))\n",
    "\n",
    "fig, ax = plt.subplots()\n",
    "width = 0.4\n",
    "\n",
    "ax.bar(x - width/2, men_means, width, label=\"남성\")\n",
    "ax.bar(x + width/2, women_means, width, label=\"여성\")\n",
    "\n",
    "ax.set_xticks(x, labels)\n",
    "\n",
    "plt.show()"
   ]
  },
  {
   "cell_type": "code",
   "execution_count": null,
   "id": "c3ddf0bb",
   "metadata": {},
   "outputs": [],
   "source": [
    "# 실습2. 막대그래프\n",
    "categories = ['Category 1','Category 2','Category 3','Category 4','Category 5']\n",
    "data = [20, 35, 15, 27, 45]\n",
    "\n",
    "plt.bar(categories, data)\n",
    "\n",
    "plt.title(\"Bar Chart\")\n",
    "plt.grid(linestyle=\":\")\n",
    "\n",
    "plt.xlabel(\"Categories\")\n",
    "plt.ylabel(\"Values\")\n",
    "\n",
    "plt.xticks(rotation=45)\n",
    "plt.yticks(rotation=45)\n",
    "\n",
    "plt.ylim(0, 50)\n",
    "\n",
    "plt.show()"
   ]
  },
  {
   "cell_type": "code",
   "execution_count": 2,
   "id": "96eeebd1",
   "metadata": {},
   "outputs": [
    {
     "data": {
      "image/png": "[encoded data removed]",
      "text/plain": [
       "<Figure size 640x480 with 1 Axes>"
      ]
     },
     "metadata": {},
     "output_type": "display_data"
    }
   ],
   "source": [
    "# 히스토그램\n",
    "# 랜덤 데이터 생성\n",
    "data = np.random.randn(1000)\n",
    "\n",
    "plt.hist(data, bins=30, edgecolor=\"k\")\n",
    "\n",
    "plt.show()"
   ]
  },
  {
   "cell_type": "code",
   "execution_count": null,
   "id": "0025f76c",
   "metadata": {},
   "outputs": [],
   "source": [
    "# 실습3.\n",
    "np.random.seed(42) # 난수의 초기값 지정\n",
    "dice = np.random.randint(1, 7, 100)\n",
    "\n",
    "cnt, bins, _ = plt.hist(dice, bins=np.arange(1,8)-0.5, edgecolor=\"k\", rwidth=0.8)\n",
    "print(bins)\n",
    "\n",
    "plt.show()"
   ]
  },
  {
   "cell_type": "code",
   "execution_count": null,
   "id": "d936bd5a",
   "metadata": {},
   "outputs": [],
   "source": [
    "# 산점도\n",
    "# x = [5, 7, 8, 10, 12]\n",
    "# y = [20, 25, 15, 30, 22]\n",
    "x = np.linspace(2, 30, 20)\n",
    "y = np.linspace(10, 40, 20)\n",
    "y_noisy = y + np.random.uniform(-7, 7, 20) # uniform 지정한 구간안에서 실수 난수\n",
    "\n",
    "plt.scatter(x, y_noisy)\n",
    "plt.grid(linestyle=\":\")\n",
    "\n",
    "plt.show()"
   ]
  },
  {
   "cell_type": "code",
   "execution_count": 205,
   "id": "a194b57d",
   "metadata": {},
   "outputs": [
    {
     "data": {
      "image/png": "[encoded data removed]",
      "text/plain": [
       "<Figure size 640x480 with 1 Axes>"
      ]
     },
     "metadata": {},
     "output_type": "display_data"
    }
   ],
   "source": [
    "labels = ['Apple', 'Banana', 'Mango', 'Blueberry']\n",
    "sizes = [15,30,45,10]\n",
    "explode = (0,0.1,0,0)\n",
    "\n",
    "plt.pie(sizes, labels=labels, explode=explode, shadow=True, autopct=\"%1.1f%%\",\n",
    "        startangle=90, colors=[\"#a6e3ff\",\"#a6ffad\", \"#ffa6c3\", \"#ff804a\"])\n",
    "\n",
    "plt.show()"
   ]
  }
 ],
 "metadata": {
  "kernelspec": {
   "display_name": "data_analysis",
   "language": "python",
   "name": "python3"
  },
  "language_info": {
   "codemirror_mode": {
    "name": "ipython",
    "version": 3
   },
   "file_extension": ".py",
   "mimetype": "text/x-python",
   "name": "python",
   "nbconvert_exporter": "python",
   "pygments_lexer": "ipython3",
   "version": "3.13.5"
  }
 },
 "nbformat": 4,
 "nbformat_minor": 5
}
