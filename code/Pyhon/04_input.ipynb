{
 "cells": [
  {
   "cell_type": "markdown",
   "id": "465cbb6e",
   "metadata": {},
   "source": [
    "### 04. 사용자 입력(input)\n",
    "- input 함수 : 콘솔을 통해 사용자로부터 문자열 형태의 입력을 받는 함수 \n",
    "  - input을 통해 받은 입력은 항상 문자열로 입력됨"
   ]
  },
  {
   "cell_type": "code",
   "execution_count": null,
   "id": "ae64d847",
   "metadata": {},
   "outputs": [],
   "source": [
    "# input함수 사용법\n",
    "# my_input = input()\n",
    "\n",
    "# input을 통해 받은 입력 → 문자열\n",
    "# 숫자로 활용할시 '형변환'을 해줘야 함!!\n",
    "# 정수 계산시 정수형으로 변환\n",
    "a = int(input())\n",
    "b = int(input())\n",
    "\n",
    "print(a + b)"
   ]
  },
  {
   "cell_type": "code",
   "execution_count": null,
   "id": "7c2ba88f",
   "metadata": {},
   "outputs": [],
   "source": [
    "# 실수 계산을 하려면 실수형으로 변환\n",
    "c = float(input())\n",
    "d = float(input())\n",
    "\n",
    "print(c + d)"
   ]
  },
  {
   "cell_type": "code",
   "execution_count": 1,
   "id": "58049076",
   "metadata": {},
   "outputs": [
    {
     "name": "stdout",
     "output_type": "stream",
     "text": [
      "제이름은 입니다.\n"
     ]
    }
   ],
   "source": [
    "# input의 입력에 대한 설명문 추가\n",
    "name = input(\"이름을 입력하세요: \")\n",
    "print(f\"제이름은 {name}입니다.\")"
   ]
  },
  {
   "cell_type": "code",
   "execution_count": null,
   "id": "da7f385a",
   "metadata": {},
   "outputs": [],
   "source": [
    "# 여러 자료 입력하기\n",
    "국어, 영어, 수학, 사회 = 100, 80, 90, 85\n",
    "과일1, 과일2, 과일3 = \"수박\", \"참외\", \"사과\""
   ]
  },
  {
   "cell_type": "code",
   "execution_count": null,
   "id": "a6ae1dd9",
   "metadata": {},
   "outputs": [],
   "source": [
    "과일1, 과일2, 과일3 = input()\n",
    "# \"수박, 사과, 포도\""
   ]
  },
  {
   "cell_type": "code",
   "execution_count": 28,
   "id": "25a8c3f0",
   "metadata": {},
   "outputs": [
    {
     "name": "stdout",
     "output_type": "stream",
     "text": [
      "수박\n",
      "참외\n",
      "포도\n"
     ]
    }
   ],
   "source": [
    "# 문자열을 쪼개주는 함수 : split \n",
    "# split은 구분자를 기준으로 문자열을 쪼개서 리스트를 반환함\n",
    "# 구분자의 기본값은 공백\n",
    "# 과일1, 과일2, 과일3 = \"수박 사과 참외\".split()\n",
    "# print(과일1)\n",
    "# print(과일2)\n",
    "# print(과일3)\n",
    "\n",
    "# input에 적용\n",
    "과일1, 과일2, 과일3 = input().split()\n",
    "print(과일1)\n",
    "print(과일2)\n",
    "print(과일3)"
   ]
  },
  {
   "cell_type": "code",
   "execution_count": 26,
   "id": "d5e7bb65",
   "metadata": {},
   "outputs": [
    {
     "name": "stdout",
     "output_type": "stream",
     "text": [
      "['코딩은', '즐거워', '하하하']\n"
     ]
    }
   ],
   "source": [
    "쪼갠결과 = \"코딩은-즐거워-하하하\".split(\"-\")\n",
    "print(쪼갠결과)"
   ]
  },
  {
   "cell_type": "code",
   "execution_count": 4,
   "id": "0284096f",
   "metadata": {},
   "outputs": [
    {
     "name": "stdout",
     "output_type": "stream",
     "text": [
      "수박 사과 참외\n"
     ]
    }
   ],
   "source": [
    "# 여러 자료 입력하기 (Review)\n",
    "# 과일1, 과일2, 과일3 = \"사과\", \"참외\", \"수박\"\n",
    "과일1, 과일2, 과일3 = input(\"과일 세개를 입력하시고 각 원소를 '-'로 구분해주세요:\").split(\"-\") # \"사과, 참외, 수박\"\n",
    "# 문자열나누기 = \"사과-참외-수박\".split(\"-\")\n",
    "# print(문자열나누기)\n",
    "print(과일1, 과일2, 과일3)"
   ]
  },
  {
   "cell_type": "code",
   "execution_count": null,
   "id": "5b5abc7a",
   "metadata": {},
   "outputs": [],
   "source": [
    "# 실습3 사용자로부터 이름과 나이를 입력 받아, 다음 형식으로 출력하세요.\n",
    "# 안녕하세요. 저는 [이름]이고, [나이]살입니다.\n",
    "\n",
    "name = input(\"이름을 입력해주세요.: \")\n",
    "age = input(\"나이를 입력해주세요.: \")\n",
    "\n",
    "print(f\"안녕하세요. 저는 {name}이고, {age}살입니다.\")"
   ]
  },
  {
   "cell_type": "code",
   "execution_count": null,
   "id": "3892aafd",
   "metadata": {},
   "outputs": [
    {
     "name": "stdout",
     "output_type": "stream",
     "text": [
      "넓이: 200\n",
      "둘레: 60\n"
     ]
    }
   ],
   "source": [
    "#실습4-1. 사용자로부터 가로와 세로를 입력 받아 넓이와 둘레를 계산하세요.\n",
    "width = int(input(\"가로를 입력해주세요.: \"))\n",
    "height = int(input(\"세로를 입력해주세요.: \"))\n",
    "\n",
    "print(f\"넓이: {width * height}\")\n",
    "print(f\"둘레: {(width + height)*2}\")"
   ]
  },
  {
   "cell_type": "code",
   "execution_count": 9,
   "id": "434c496b",
   "metadata": {},
   "outputs": [
    {
     "name": "stdout",
     "output_type": "stream",
     "text": [
      "천의자리: 2\n",
      "백의자리: 3\n",
      "십의자리: 0\n",
      "일의자리: 2\n"
     ]
    }
   ],
   "source": [
    "#실습4-2. 네 자릿수 정수를 입력 받고, 각 자릿수를 분리하여 출력하세요.\n",
    "number = int(input(\"네 자릿수 정수를 입력하세요.: \"))\n",
    "\n",
    "thousand = number // 1000\n",
    "hundred = (number % 1000) // 100\n",
    "ten = (number % 100) // 10\n",
    "one = number % 10\n",
    "\n",
    "print(f\"천의자리: {thousand}\")\n",
    "print(f\"백의자리: {hundred}\")\n",
    "print(f\"십의자리: {ten}\")\n",
    "print(f\"일의자리: {one}\")"
   ]
  },
  {
   "cell_type": "code",
   "execution_count": 12,
   "id": "609a041e",
   "metadata": {},
   "outputs": [
    {
     "name": "stdout",
     "output_type": "stream",
     "text": [
      "✅ 발표 순서 안내입니다.\n",
      "\n",
      "1. 철수: 재생에너지 산업 현황\n",
      "2. 민수: 재생에너지 산업 전망\n",
      "3. 영희: 재생에너지 취업 분야\n",
      "\n"
     ]
    }
   ],
   "source": [
    "# 실습 5. 한 조에서 팀 프로젝트 발표 순서와 발표 주제를 정했습니다.\n",
    "# 발표자 이름 3명과 주제 3개를 한 번에 입력 받고, 아래와 같이 출력해보세요.\n",
    "발표자1, 발표자2, 발표자3 = input(\"발표자 3명을 입력해주세요\").split()\n",
    "발표주제1, 발표주제2, 발표주제3 = input(\"발표주제 3개를 입력해주세요\").split(\",\")\n",
    "\n",
    "print(f\"\"\"✅ 발표 순서 안내입니다.\n",
    "      \n",
    "1. {발표자1}: {발표주제1}\n",
    "2. {발표자2}: {발표주제2}\n",
    "3. {발표자3}: {발표주제3}\n",
    "\"\"\")"
   ]
  },
  {
   "cell_type": "code",
   "execution_count": 13,
   "id": "1ecd430c",
   "metadata": {},
   "outputs": [
    {
     "name": "stdout",
     "output_type": "stream",
     "text": [
      "🤗RE3의 개강일은 2025년 07월 07일\n",
      "09시 05분 30초입니다.\n"
     ]
    }
   ],
   "source": [
    "# 실습6. 년, 월, 일과 시, 분, 초를 한번에 입력 받아서 아래와 같이 출력해보세요.\n",
    "# 첫번째 입력에서 년, 월, 일을 입력해주세요. ( . 으로 구분)\n",
    "year, month, day = input(\"년, 월, 일을 입력해주세요. '.'으로 구분해주세요:\").split(\".\")\n",
    "\n",
    "# 두번째 입력에서 시,분,초를 입력해주세요. ( : 으로 구분)\n",
    "hour, minute, second = input(\"시, 분, 초를 입력해주세요. ':'으로 구분해주세요:\").split(\":\")\n",
    "\n",
    "\n",
    "# 출력 예시와 같이 출력해주세요.\n",
    "print(f\"\"\"🤗RE3의 개강일은 {year}년 {month}월 {day}일\n",
    "{hour}시 {minute}분 {second}초입니다.\"\"\")\n"
   ]
  }
 ],
 "metadata": {
  "kernelspec": {
   "display_name": "python-study",
   "language": "python",
   "name": "python3"
  },
  "language_info": {
   "codemirror_mode": {
    "name": "ipython",
    "version": 3
   },
   "file_extension": ".py",
   "mimetype": "text/x-python",
   "name": "python",
   "nbconvert_exporter": "python",
   "pygments_lexer": "ipython3",
   "version": "3.13.5"
  }
 },
 "nbformat": 4,
 "nbformat_minor": 5
}
