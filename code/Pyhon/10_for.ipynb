{
 "cells": [
  {
   "cell_type": "markdown",
   "id": "76005bdc",
   "metadata": {},
   "source": [
    "### 10. for문\n",
    "- 이터러블의 요소를 하나씩 꺼내서 실행 블록에 전달하는 반복문"
   ]
  },
  {
   "cell_type": "code",
   "execution_count": null,
   "id": "9b2d64f1",
   "metadata": {},
   "outputs": [],
   "source": [
    "import time\n",
    "\n",
    "# for문 기본 문법\n",
    "\n",
    "for 반복변수 in [\"가\",\"나\",\"다\",\"라\"]:\n",
    "  # 반복할 코드\n",
    "  print(반복변수)\n",
    "  time.sleep(1)"
   ]
  },
  {
   "cell_type": "code",
   "execution_count": null,
   "id": "7c3778aa",
   "metadata": {},
   "outputs": [],
   "source": [
    "# 리스트로 반복\n",
    "fruits = [\"사과\", \"배\", \"수박\", \"참외\", \"포도\"]\n",
    "\n",
    "for fruit in fruits:\n",
    "  print(fruit)\n",
    "  time.sleep(1)"
   ]
  },
  {
   "cell_type": "code",
   "execution_count": null,
   "id": "db536c51",
   "metadata": {},
   "outputs": [],
   "source": [
    "# 문자열로 반복\n",
    "my_str = \"CodingOn\"\n",
    "\n",
    "for char in my_str:\n",
    "  print(char)"
   ]
  },
  {
   "cell_type": "code",
   "execution_count": null,
   "id": "ecb17695",
   "metadata": {},
   "outputs": [],
   "source": [
    "# 튜플을 활용한 반복\n",
    "좌표 = [(1,2), (10,15), (-6,8)]\n",
    "\n",
    "# 언패킹 가능\n",
    "for x,y in 좌표:\n",
    "    print(f\"x좌표: {x}, y좌표: {y}\")\n",
    "    time.sleep(1)"
   ]
  },
  {
   "cell_type": "code",
   "execution_count": null,
   "id": "da619355",
   "metadata": {},
   "outputs": [],
   "source": [
    "# 딕셔너리를 이용한 반복\n",
    "person = {\n",
    "  \"name\" : \"ian\",\n",
    "  \"age\" : 15,\n",
    "  \"address\" : \"창동\"\n",
    "}\n",
    "\n",
    "# 기본적인 활용\n",
    "for key in person:\n",
    "  print(f\"key: {key}, value: {person[key]}\")\n",
    "\n",
    "# value만 가져오기\n",
    "for value in person.values():\n",
    "  print(f\"value: {value}\")\n",
    "\n",
    "# item 가져오기\n",
    "for key, value in person.items():\n",
    "  print(f\"key: {key}, value: {value}\")"
   ]
  },
  {
   "cell_type": "code",
   "execution_count": null,
   "id": "d3f53802",
   "metadata": {},
   "outputs": [],
   "source": [
    "# 실습 1.\n",
    "# 문제 1.\n",
    "numbers = [3, 6, 1, 8, 4]\n",
    "doubled = []\n",
    "\n",
    "for number in numbers:\n",
    "  doubled.append(number * 2)\n",
    "\n",
    "print(doubled)"
   ]
  },
  {
   "cell_type": "code",
   "execution_count": null,
   "id": "9837a83d",
   "metadata": {},
   "outputs": [],
   "source": [
    "# 문제 2.\n",
    "words = [\"apple\", \"banana\", \"kiwi\", \"grape\"]\n",
    "lengths = []\n",
    "\n",
    "for word in words:\n",
    "  lengths.append(len(word))\n",
    "\n",
    "print(lengths)"
   ]
  },
  {
   "cell_type": "code",
   "execution_count": null,
   "id": "d562e6cf",
   "metadata": {},
   "outputs": [],
   "source": [
    "# 문제 3.\n",
    "coordinates = [(1, 2), (3, 4), (5, 6), (7, 8)]\n",
    "\n",
    "x_values = []\n",
    "y_values = []\n",
    "\n",
    "for x, y in coordinates:\n",
    "  x_values.append(x)\n",
    "  y_values.append(y)\n",
    "\n",
    "print(f\"x 좌표: {x_values}\")\n",
    "print(f\"y 좌표: {y_values}\")"
   ]
  },
  {
   "cell_type": "code",
   "execution_count": null,
   "id": "c6b6b2f0",
   "metadata": {},
   "outputs": [],
   "source": [
    "# for문과 range()\n",
    "# range 함수 : 지정된 범위의 정수 시퀀스\n",
    "# range 자료형 (시퀀스 자료형)\n",
    "\n",
    "# 기본문법\n",
    "# range(start, end, step) \n",
    "list(range(1,5))\n",
    "\n",
    "# for i in range(1,5):\n",
    "#   print(i)\n",
    "\n",
    "# for i in [1,2,3,4]:\n",
    "#   print(i)\n",
    "\n",
    "# start를 생략\n",
    "range(5)\n",
    "\n",
    "for i in range(10):\n",
    "  print(i)\n",
    "\n",
    "# for i in [0,1,2,3,4,5,6,7,8,9]:\n",
    "#   print(i)\n",
    "\n",
    "# 반복문의 반복변수는 꼭 써야할까?\n",
    "for i in range(100):\n",
    "  print(\"안녕하세요!\")"
   ]
  },
  {
   "cell_type": "code",
   "execution_count": null,
   "id": "f58a3ca8",
   "metadata": {},
   "outputs": [],
   "source": [
    "# 간격(step) 지정\n",
    "for i in range(0, 11, 2):\n",
    "  print(i)"
   ]
  },
  {
   "cell_type": "code",
   "execution_count": null,
   "id": "5a85e84a",
   "metadata": {},
   "outputs": [],
   "source": [
    "# 역순 반복\n",
    "# 카운트다운\n",
    "for i in range(10, 0, -1):\n",
    "  print(i)\n",
    "  time.sleep(1)"
   ]
  },
  {
   "cell_type": "code",
   "execution_count": null,
   "id": "ec531928",
   "metadata": {},
   "outputs": [],
   "source": [
    "# range의 다양한 활용\n",
    "print(list(range(1,10)))\n",
    "print(list(range(10)))\n",
    "print(list(range(1,10,2)))\n",
    "print(list(range(3,100,3)))\n",
    "print(list(range(10,0,-1)))"
   ]
  },
  {
   "cell_type": "code",
   "execution_count": null,
   "id": "7094bf8e",
   "metadata": {},
   "outputs": [],
   "source": [
    "# 실습 2.\n",
    "# 문제 1.\n",
    "num = int(input(\"숫자를 입력하세요:\"))\n",
    "sum_num = 0\n",
    "\n",
    "for i in range(num+1):\n",
    "  sum_num += i\n",
    "\n",
    "print(sum_num)"
   ]
  },
  {
   "cell_type": "code",
   "execution_count": null,
   "id": "0be23b08",
   "metadata": {},
   "outputs": [],
   "source": [
    "# 문제 2. \n",
    "dan = int(input(\"생성할 단을 입력해주세요:\"))\n",
    "\n",
    "for i in range(1,10):\n",
    "  print(f\"{dan} x {i} = {dan * i}\")\n"
   ]
  },
  {
   "cell_type": "code",
   "execution_count": null,
   "id": "cbf59143",
   "metadata": {},
   "outputs": [],
   "source": [
    "# 문제 3.\n",
    "result = 0\n",
    "\n",
    "# for i in range(3,101,3):\n",
    "#   # result = result + i\n",
    "#   result += i\n",
    "\n",
    "for i in range(1,101):\n",
    "  if i % 3 == 0:\n",
    "    result += i\n",
    "\n",
    "print(result)"
   ]
  },
  {
   "cell_type": "code",
   "execution_count": null,
   "id": "99a7c071",
   "metadata": {},
   "outputs": [],
   "source": [
    "n = int(input())\n",
    "\n",
    "# for i in range(1, n+1):\n",
    "#   if i % 2 == 0 and i % 5 == 0:\n",
    "#     print(i)\n",
    "\n",
    "# for i in range(2, n+1, 2):\n",
    "#   if i % 5 == 0:\n",
    "#     print(i)\n",
    "\n",
    "for i in range(1, n+1):\n",
    "  if i % 2 == 0:\n",
    "    if i % 5 == 0:\n",
    "      print(i)"
   ]
  },
  {
   "cell_type": "code",
   "execution_count": null,
   "id": "a1ccdbd2",
   "metadata": {},
   "outputs": [],
   "source": [
    "# 루프 제어문\n",
    "# 특정 조건 하에서만 작동하도록 구현\n",
    "# break : 반복을 즉시 중단\n",
    "\n",
    "for i in range(10):\n",
    "  if i == 5:\n",
    "    break\n",
    "  print(i)\n",
    "\n",
    "print(\"반복 종료\")"
   ]
  },
  {
   "cell_type": "code",
   "execution_count": null,
   "id": "a212ed05",
   "metadata": {},
   "outputs": [],
   "source": [
    "# continue : 현재 반복을 넘어감\n",
    "\n",
    "for i in range(5):\n",
    "  if i == 2:\n",
    "    print(\"건너뜀\")\n",
    "    continue\n",
    "  print(i)\n",
    "  time.sleep(1)\n",
    "\n",
    "print(\"반복 종료\")"
   ]
  },
  {
   "cell_type": "code",
   "execution_count": null,
   "id": "8c1f5d41",
   "metadata": {},
   "outputs": [],
   "source": [
    "# pass\n",
    "for i in range(10):\n",
    "  pass"
   ]
  },
  {
   "cell_type": "code",
   "execution_count": null,
   "id": "8f7d0525",
   "metadata": {},
   "outputs": [],
   "source": [
    "# for - else 구문\n",
    "for i in range(5):\n",
    "  if i == 2:\n",
    "    break\n",
    "  print(i)\n",
    "else:\n",
    "  print(\"반복종료\")"
   ]
  },
  {
   "cell_type": "code",
   "execution_count": null,
   "id": "77bb8528",
   "metadata": {},
   "outputs": [],
   "source": [
    "# 중첩 for문\n",
    "# 하나의 for문 안에 다른 for문이 들어있는 구조\n",
    "\n",
    "# 이중 for문\n",
    "for i in range(5):\n",
    "  for j in range(5):\n",
    "    print(\"🌟\", end=\"\")\n",
    "    time.sleep(1)\n",
    "  print()\n",
    "  time.sleep(2)"
   ]
  },
  {
   "cell_type": "code",
   "execution_count": null,
   "id": "9a7da3d8",
   "metadata": {},
   "outputs": [],
   "source": [
    "# 이중 for문\n",
    "for i in range(4):\n",
    "  for j in range(4):\n",
    "    print(f\"{i},{j}\", end=\" \")\n",
    "    time.sleep(1)\n",
    "  print()\n",
    "  time.sleep(1)"
   ]
  },
  {
   "cell_type": "code",
   "execution_count": null,
   "id": "d8eb7d70",
   "metadata": {},
   "outputs": [],
   "source": [
    "colors = [\"red\", \"blue\"]\n",
    "fruits = [\"apple\", \"banana\"]\n",
    "\n",
    "for color in colors:\n",
    "  for fruit in fruits:\n",
    "    print(f\"{color}: {fruit}\")"
   ]
  },
  {
   "cell_type": "code",
   "execution_count": null,
   "id": "9595fb32",
   "metadata": {},
   "outputs": [],
   "source": [
    "# 문제 1.\n",
    "for i in range(2,10):\n",
    "  print(f\"[ {i}단 ]\")\n",
    "  for j in range(1,10):\n",
    "    print(f\"{i} x {j} = {i*j}\")\n",
    "  for j in range(1,10):\n",
    "    print(f\"{i} x {j} = {i*j}\")\n",
    "  print()"
   ]
  },
  {
   "cell_type": "code",
   "execution_count": null,
   "id": "5a7c659d",
   "metadata": {},
   "outputs": [],
   "source": [
    "# 문제 2. 별찍기\n",
    "# 왼쪽 정렬\n",
    "n = int(input(\"몇 줄?:\"))\n",
    "\n",
    "for i in range(1, n+1):\n",
    "  for j in range(i):\n",
    "    print(\"🌟\", end=\"\")\n",
    "  print()"
   ]
  },
  {
   "cell_type": "code",
   "execution_count": null,
   "id": "2e26ea8d",
   "metadata": {},
   "outputs": [],
   "source": [
    "# 오른쪽 정렬\n",
    "n = int(input(\"몇 줄?:\"))\n",
    "\n",
    "for i in range(1, n+1):\n",
    "  for j in range(n - i):\n",
    "    print(\" \", end=\"\")\n",
    "  for j in range(i):\n",
    "    print(\"*\", end=\"\")\n",
    "  print()"
   ]
  },
  {
   "cell_type": "code",
   "execution_count": null,
   "id": "741b6140",
   "metadata": {},
   "outputs": [],
   "source": [
    "# 가운데 정렬\n",
    "n = int(input(\"몇 줄?:\"))\n",
    "\n",
    "for i in range(1, n+1):\n",
    "  # 공백 출력\n",
    "  for j in range(n - i):\n",
    "    print(\" \", end=\"\")\n",
    "  # 별 출력\n",
    "  for j in range(2 * i - 1):\n",
    "    print(\"*\", end=\"\")\n",
    "  print()"
   ]
  },
  {
   "cell_type": "code",
   "execution_count": null,
   "id": "10681c4d",
   "metadata": {},
   "outputs": [],
   "source": [
    "# 리스트 컴프리헨션(List Comprehension)\n",
    "# for문을 리스트에 한줄로 축약하여 새리스트를 생성하는 문법\n",
    "# [표현식(리스트의 원소) for 변수 in 반복대상 if 조건]\n",
    "# 표현식 : 값을 유도하는 식(표현)\n",
    "\n",
    "# for문 이용\n",
    "squares = []\n",
    "for x in range(1,6):\n",
    "  squares.append(x ** 2)\n",
    "print(squares)\n",
    "\n",
    "# 리스트 컴프리헨션\n",
    "squares_2 = [x ** 2 for x in range(1,6)]\n",
    "print(squares_2)"
   ]
  },
  {
   "cell_type": "code",
   "execution_count": null,
   "id": "a9715c1a",
   "metadata": {},
   "outputs": [],
   "source": [
    "# 조건문 추가하기\n",
    "squares_3 = [x ** 2 for x in range(1,11) if x % 2 == 0]\n",
    "squares_3"
   ]
  },
  {
   "cell_type": "code",
   "execution_count": null,
   "id": "b2c1782d",
   "metadata": {},
   "outputs": [],
   "source": [
    "words = [\"apple\", \"banana\", \"kiwi\", \"grape\"]\n",
    "lengths = [len(word) for word in words]\n",
    "lengths"
   ]
  },
  {
   "cell_type": "code",
   "execution_count": null,
   "id": "12abddf9",
   "metadata": {},
   "outputs": [],
   "source": [
    "numbers = [3, 6, 1, 8, 4]\n",
    "doubled = [x * 2 for x in numbers]\n",
    "doubled"
   ]
  },
  {
   "cell_type": "code",
   "execution_count": null,
   "id": "ea63fe81",
   "metadata": {},
   "outputs": [],
   "source": [
    "# 중첩 for문\n",
    "colors = [\"red\", \"blue\"]\n",
    "fruits = [\"사과\", \"수박\"]\n",
    "\n",
    "pairs = [(color, fruit) for color in colors for fruit in fruits]\n",
    "pairs"
   ]
  },
  {
   "cell_type": "code",
   "execution_count": 21,
   "id": "df19abce",
   "metadata": {},
   "outputs": [
    {
     "name": "stdout",
     "output_type": "stream",
     "text": [
      "[1, 4, 9, 16, 25, 36, 49, 64, 81, 100]\n"
     ]
    }
   ],
   "source": [
    "# 실습 4.\n",
    "# 문제 1.\n",
    "squares = [x**2 for x in range(1,11)]\n",
    "print(squares)"
   ]
  },
  {
   "cell_type": "code",
   "execution_count": null,
   "id": "1bcffaa1",
   "metadata": {},
   "outputs": [
    {
     "name": "stdout",
     "output_type": "stream",
     "text": [
      "[3, 6, 9, 12, 15, 18, 21, 24, 27, 30, 33, 36, 39, 42, 45, 48]\n"
     ]
    }
   ],
   "source": [
    "# 문제 2.\n",
    "result = [x for x in range(3, 51) if x % 3 == 0]\n",
    "print(result)"
   ]
  },
  {
   "cell_type": "code",
   "execution_count": 25,
   "id": "5e745256",
   "metadata": {},
   "outputs": [
    {
     "name": "stdout",
     "output_type": "stream",
     "text": [
      "['apple', 'banana', 'cherry', 'orange']\n"
     ]
    }
   ],
   "source": [
    "# 문제 3.\n",
    "fruits = [\"apple\", \"fig\", \"banana\", \"plum\", \"cherry\", \"pear\", \"orange\"]\n",
    "words = [fruit for fruit in fruits if len(fruit) >=5]\n",
    "print(words)"
   ]
  }
 ],
 "metadata": {
  "kernelspec": {
   "display_name": "python-study (3.13.5)",
   "language": "python",
   "name": "python3"
  },
  "language_info": {
   "codemirror_mode": {
    "name": "ipython",
    "version": 3
   },
   "file_extension": ".py",
   "mimetype": "text/x-python",
   "name": "python",
   "nbconvert_exporter": "python",
   "pygments_lexer": "ipython3",
   "version": "3.13.5"
  }
 },
 "nbformat": 4,
 "nbformat_minor": 5
}
