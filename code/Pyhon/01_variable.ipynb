{
 "cells": [
  {
   "cell_type": "markdown",
   "id": "a41dec67",
   "metadata": {},
   "source": [
    "### 주석 : 코드에 대한 설명을 작성하는 텍스트\n",
    "- 프로그램 실행에 영향을 주지 X"
   ]
  },
  {
   "cell_type": "code",
   "execution_count": null,
   "id": "da9067bf",
   "metadata": {},
   "outputs": [],
   "source": [
    "# 이렇게 작성해요\n",
    "# 단축키\n",
    "# (윈도우) ctrl + /\n",
    "# (맥) command + /\n",
    "# print(\"Hello world\") : 일시적으로 코드를 비활성화 할 때 사용"
   ]
  },
  {
   "cell_type": "code",
   "execution_count": null,
   "id": "3cd9b7c3",
   "metadata": {},
   "outputs": [],
   "source": [
    "# 출력 : print 함수\n",
    "# 내가 작성한 코드가 잘 작성됐는지 확인할 때 사용\n",
    "print(\"Hello world!\")"
   ]
  },
  {
   "cell_type": "code",
   "execution_count": null,
   "id": "d537deb7",
   "metadata": {},
   "outputs": [
    {
     "name": "stdout",
     "output_type": "stream",
     "text": [
      "가-나-다\n",
      "안녕하세요. 반갑습니다. 처음뵙겠습니다.\n"
     ]
    }
   ],
   "source": [
    "# print의 구분자 옵션\n",
    "# sep\n",
    "print(\"가\", \"나\", \"다\", sep=\"-\")\n",
    "\n",
    "# print의 줄바꿈 옵션\n",
    "# end\n",
    "print(\"안녕하세요.\", end=\" \")\n",
    "print(\"반갑습니다.\", end=\" \")\n",
    "print(\"처음뵙겠습니다.\")"
   ]
  },
  {
   "cell_type": "markdown",
   "id": "22776599",
   "metadata": {},
   "source": [
    "### 1. 변수(Variable)\n",
    "- 변수 : 자료를 저장하는 공간\n",
    "- 선언 : 변수를 만드는 것\n",
    "- 할당 : 변수에 값을 저장하는 것\n",
    "- 초기화 : 처음으로 변수에 값을 할당하는 것 \n",
    "- = : 대입 연산자, **등호가 아님!!!** ( 같다 → == )\n",
    "  - 변수에 값을 저장한다(할당한다)는 의미"
   ]
  },
  {
   "cell_type": "code",
   "execution_count": null,
   "id": "f5c2d755",
   "metadata": {},
   "outputs": [],
   "source": [
    "# 변수의 선언과 할당\n",
    "변수이름 = \"저장할자료\"\n",
    "print(변수이름)\n",
    "print(변수이름)\n",
    "print(변수이름)"
   ]
  },
  {
   "cell_type": "code",
   "execution_count": null,
   "id": "197b8ddf",
   "metadata": {},
   "outputs": [],
   "source": [
    "# 변수 이름 규칙\n",
    "# 1st_place = \"Gold\"\n",
    "fisrt_place = \"Gold\"\n",
    "\n",
    "# user name = \"Alice\"\n",
    "user_name = \"Alice\"\n",
    "\n",
    "# class = \"Math\"\n",
    "class_name = \"Math\""
   ]
  },
  {
   "cell_type": "code",
   "execution_count": null,
   "id": "7827fc9b",
   "metadata": {},
   "outputs": [],
   "source": [
    "# 변수의 특징\n",
    "# 저장한 값을 바꿀 수 있다.\n",
    "# 단, 한번에 하나씩만 저장된다.\n",
    "인사 = \"안녕하세요\"\n",
    "인사 = \"반갑습니다\"\n",
    "print(인사)\n",
    "\n",
    "# 파이썬에서 변수는 선언과 함께 초기화를 해줘야함\n",
    "# 새로운변수 (X)\n",
    "새로운변수 = \"선언과 함께 초기화\""
   ]
  },
  {
   "cell_type": "code",
   "execution_count": 6,
   "id": "2667ed3c",
   "metadata": {},
   "outputs": [
    {
     "name": "stdout",
     "output_type": "stream",
     "text": [
      "1 2 3\n",
      "20 10\n"
     ]
    }
   ],
   "source": [
    "# 한 줄에 여러 변수 만들기\n",
    "a = 1\n",
    "b = 2\n",
    "c = 3\n",
    "\n",
    "a, b, c = 1, 2, 3\n",
    "\n",
    "print(a, b, c)\n",
    "\n",
    "x = 10\n",
    "y = 20\n",
    "\n",
    "x, y = y, x\n",
    "print(x, y)"
   ]
  }
 ],
 "metadata": {
  "kernelspec": {
   "display_name": "python-study",
   "language": "python",
   "name": "python3"
  },
  "language_info": {
   "codemirror_mode": {
    "name": "ipython",
    "version": 3
   },
   "file_extension": ".py",
   "mimetype": "text/x-python",
   "name": "python",
   "nbconvert_exporter": "python",
   "pygments_lexer": "ipython3",
   "version": "3.13.5"
  }
 },
 "nbformat": 4,
 "nbformat_minor": 5
}
