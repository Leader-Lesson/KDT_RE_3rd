{
 "cells": [
  {
   "cell_type": "markdown",
   "id": "e439aecb",
   "metadata": {},
   "source": [
    "### 08. 딕셔너리\n",
    "- **키-값 쌍**으로 묶어 데이터를 저장하는 자료형\n",
    "- 키는 유일해야함. 값은 중복 가능\n",
    "- 변경가능한 자료형\n",
    "- 순서가 보장되지 않았다가 → py 3.7버전 이후 순서가 보장됨"
   ]
  },
  {
   "cell_type": "code",
   "execution_count": null,
   "id": "7e01994e",
   "metadata": {},
   "outputs": [],
   "source": [
    "# dict 만들기\n",
    "d1 = {} # 빈 dict 만들기\n",
    "print(d1, type(d1))\n",
    "\n",
    "person = { \"name\" : \"Ian\", \"age\" : 25 }\n",
    "print(person)\n",
    "\n",
    "# dict 함수로 생성\n",
    "d2 = dict() # 빈 dict 만들기\n",
    "print(d2, type(d2))\n",
    "\n",
    "# 키가 문자열 일 때 가능\n",
    "movie = dict(title=\"interstellar\", director=\"christopher nolan\")\n",
    "print(movie)\n",
    "\n",
    "# 리스트나 튜플로 만들기\n",
    "pairs = [(\"name\", \"ian\"), (\"age\", 150), (\"job\", \"developer\")]\n",
    "person2 = dict(pairs)\n",
    "print(person2)\n",
    "\n",
    "# zip 함수 활용\n",
    "keys = [\"title\", \"director\", \"year\"]\n",
    "values = [\"기생충\", \"봉준호\", \"2019\"]\n",
    "# print(list(zip(keys, values)))\n",
    "movie2 = dict(zip(keys, values))\n",
    "print(movie2)"
   ]
  },
  {
   "cell_type": "code",
   "execution_count": null,
   "id": "5212cdc9",
   "metadata": {},
   "outputs": [],
   "source": [
    "# 키로 사용할 수 없는 자료형\n",
    "# 키는 불변자료형을 사용해야함\n",
    "d1 = {(1,2,3) : (1,2,3)} # 튜플 사용 가능\n",
    "d2 = { 1 : 10 }\n",
    "\n",
    "d3 = {{1,2,3}: \"리스트를 키로?\"} # 가변 자료형은 키로 사용 불가능\n",
    "d3"
   ]
  },
  {
   "cell_type": "code",
   "execution_count": null,
   "id": "62a4a1a2",
   "metadata": {},
   "outputs": [],
   "source": [
    "# dict 데이터 조회\n",
    "person = { \"name\" : \"Ian\", \"age\" : 25, \"job\" : \"developer\" }\n",
    "\n",
    "# 키를 통해 데이터 조회\n",
    "print(person[\"name\"])\n",
    "print(person[\"age\"])\n",
    "# print(person[\"city\"]) # 존재하지 않는 키로 조회 → KeyError\n",
    "\n",
    "# get 메서드를 활용한 조회\n",
    "print(person.get(\"name\"))\n",
    "print(person.get(\"job\"))\n",
    "# 존재하지 않는 키로 조회\n",
    "print(person.get(\"email\")) # default 지정 안 할 시 none 출력\n",
    "print(person.get(\"email\", \"이메일이 존재하지 않습니다\")) # default 값 지정 가능"
   ]
  },
  {
   "cell_type": "code",
   "execution_count": null,
   "id": "82ff88dc",
   "metadata": {},
   "outputs": [],
   "source": [
    "# get 사용 예제\n",
    "user_data = {\n",
    "  \"username\" : \"ian_leader\",\n",
    "  \"email\" : \"ian@spreatics.com\",\n",
    "  \"password\" : \"abc123\"\n",
    "}\n",
    "\n",
    "key = input(\"조회할 정보를 입력하세요(username, email, password): \")\n",
    "result = user_data.get(key, \"존재하지 않는 데이터입니다.\")\n",
    "print(result)"
   ]
  },
  {
   "cell_type": "code",
   "execution_count": null,
   "id": "f2e8d5d6",
   "metadata": {},
   "outputs": [
    {
     "name": "stdout",
     "output_type": "stream",
     "text": [
      "{'title': 'Superman', 'director': 'James Gunn', 'year': 2025, 'actor': '뭐시기 브로스나한?', 'rating': '4.0 / 5.0', '제작사': 'DC_스튜디오'}\n"
     ]
    }
   ],
   "source": [
    "# 데이터 추가 및 수정\n",
    "user_data = {\n",
    "  \"username\" : \"ian_leader\",\n",
    "  \"email\" : \"ian@spreatics.com\",\n",
    "}\n",
    "\n",
    "# 기본적인 추가&수정 방법 \n",
    "user_data[\"nickname\"] = \"예민왕\"\n",
    "user_data[\"username\"] = \"ian_superman\"\n",
    "# print(user_data)\n",
    "\n",
    "# update 메서드 활용\n",
    "movie_data = {\n",
    "  \"title\" : \"Superman\",\n",
    "  \"director\" : \"James Gunn\"\n",
    "}\n",
    "\n",
    "movie_data.update({\n",
    "  \"year\" : 2025,\n",
    "})\n",
    "\n",
    "# 키가 문자열인 경우\n",
    "movie_data.update(actor=\"배우 이름 뭐였더라..\")\n",
    "\n",
    "# 다른 딕셔너리 추가\n",
    "extra_data = {\"rating\" : \"4.0 / 5.0\", \"actor\" : \"뭐시기 브로스나한?\"}\n",
    "movie_data.update(extra_data)\n",
    "print(movie_data)\n",
    "\n",
    "# setdefault\n",
    "movie_data.setdefault(\"year\", \"알 수 없음\")\n",
    "movie_data.setdefault(\"제작사\", \"DC_스튜디오\")\n",
    "print(movie_data)\n",
    "\n",
    "# 데이터 삭제\n",
    "del movie_data[\"actor\"]\n",
    "print(movie_data)\n",
    "\n",
    "# 키로 제거\n",
    "rating = movie_data.pop(\"rating\")\n",
    "print(movie_data, rating, sep=\" /// \")\n",
    "\n",
    "# 가장 마지막 요소 제거 : 키, 값 쌍 반환\n",
    "year = movie_data.popitem()\n",
    "print(movie, year, sep=\" /// \")\n",
    "\n",
    "# dict 비우기\n",
    "movie_data.clear()\n",
    "print(movie_data)\n",
    "\n",
    "# dict 삭제하기\n",
    "del movie_data\n",
    "# print(movie_data) # NameError 발생"
   ]
  },
  {
   "cell_type": "code",
   "execution_count": 3,
   "id": "e048b9bc",
   "metadata": {},
   "outputs": [
    {
     "name": "stdout",
     "output_type": "stream",
     "text": [
      "키 ['username', 'email', 'password']\n",
      "값 ['ian_leader', 'ian@spreatics.com', 'abc123']\n",
      "쌍 [('username', 'ian_leader'), ('email', 'ian@spreatics.com'), ('password', 'abc123')]\n"
     ]
    }
   ],
   "source": [
    "# 딕셔너리 메서드\n",
    "user_data = {\n",
    "  \"username\" : \"ian_leader\",\n",
    "  \"email\" : \"ian@spreatics.com\",\n",
    "  \"password\" : \"abc123\"\n",
    "}\n",
    "\n",
    "# keys : 모든 키를 반환\n",
    "print(\"키\", list(user_data.keys())) # 리스트로 변환해서 출력\n",
    "\n",
    "# values : 모든 값을 반환\n",
    "print(\"값\", list(user_data.values())) # 리스트로 변환해서 출력\n",
    "\n",
    "# items : 모든 키값쌍을 반환\n",
    "print(\"쌍\", list(user_data.items())) # 리스트로 변환해서 출력"
   ]
  },
  {
   "cell_type": "code",
   "execution_count": 51,
   "id": "f8a9d134",
   "metadata": {},
   "outputs": [
    {
     "name": "stdout",
     "output_type": "stream",
     "text": [
      "{'username': 'skywalker', 'email': 'sky@example.com', 'level': 5}\n",
      "sky@example.com\n",
      "미입력\n",
      "{'username': 'skywalker', 'level': 6, 'nickname': 'sky', 'signup_date': '2025-07-10'}\n"
     ]
    }
   ],
   "source": [
    "# 문제1\n",
    "# 1단계: 빈 딕셔너리 생성 : user라는 이름의 빈 딕셔너리를 생성하세요.\n",
    "user = {}\n",
    "\n",
    "# 2단계: 사용자 기본 정보 추가 \n",
    "# \"username\": \"skywalker\"\n",
    "# \"email\": \"sky@example.com\"\n",
    "# \"level\": 5\n",
    "# user[\"username\"] = \"skywalker\"\n",
    "# user[\"email\"] = \"sky@example.com\"\n",
    "# user[\"level\"] = 5\n",
    "user.update({\n",
    "  \"username\": \"skywalker\",\n",
    "  \"email\": \"sky@example.com\",\n",
    "  \"level\": 5\n",
    "})\n",
    "print(user)\n",
    "\n",
    "# 3단계: 값 읽기 - \"email\" 값을 변수 email_value에 저장하고 출력하세요.\n",
    "email_value = user[\"email\"]\n",
    "print(email_value)\n",
    "\n",
    "# 4단계: 값 수정 - \"level\" 값을 6으로 수정하세요.\n",
    "user[\"level\"] = 6\n",
    "\n",
    "# 5단계: 안전하게 키 조회 \n",
    "# 딕셔너리에 \"phone\" 키가 없다면 \"미입력\"이라는 문자열을 출력하도록 하세요.\n",
    "phone = user.get(\"phone\", \"미입력\")\n",
    "print(phone)\n",
    "\n",
    "# 6단계: 항목 추가 및 삭제\n",
    "# update()를 사용해 \"nickname\": \"sky\" 항목을 추가하세요.\n",
    "# \"email\" 항목을 삭제하세요.\n",
    "# \"signup_date\" 키가 없다면 \"2025-07-10\"으로 추가하세요 (setdefault() 사용).\n",
    "# 최종 user 딕셔너리를 출력하세요.\n",
    "user.update(nickname=\"sky\")\n",
    "user.pop(\"email\")\n",
    "user.setdefault(\"signup_date\", \"2025-07-10\")\n",
    "\n",
    "print(user)"
   ]
  },
  {
   "cell_type": "code",
   "execution_count": 53,
   "id": "595d462a",
   "metadata": {},
   "outputs": [
    {
     "name": "stdout",
     "output_type": "stream",
     "text": [
      "{'Alice': 88, 'Charlie': 95, 'David': 80}\n"
     ]
    }
   ],
   "source": [
    "# 문제2\n",
    "# 1. 빈 딕셔너리 생성\n",
    "students = {}\n",
    "\n",
    "# 2. \"Alice\", \"Bob\", \"Charlie\" 세 학생의 점수를 각각 85, 90, 95로 추가한다.\n",
    "students.update(Alice=85, Bob=90, Charlie=95)\n",
    "\n",
    "# 3. \"David\" 학생의 점수(80)를 추가한다.\n",
    "students[\"David\"] = 80\n",
    "\n",
    "# 4. \"Alice\"의 점수를 88로 수정한다.\n",
    "students[\"Alice\"] = 88\n",
    "\n",
    "# 5. \"Bob\"을 딕셔너리에서 삭제한다.\n",
    "students.pop(\"Bob\")\n",
    "\n",
    "# 6. 최종 students 딕셔너리를 출력한다.\n",
    "print(students)\n"
   ]
  }
 ],
 "metadata": {
  "kernelspec": {
   "display_name": "python-study (3.13.5)",
   "language": "python",
   "name": "python3"
  },
  "language_info": {
   "codemirror_mode": {
    "name": "ipython",
    "version": 3
   },
   "file_extension": ".py",
   "mimetype": "text/x-python",
   "name": "python",
   "nbconvert_exporter": "python",
   "pygments_lexer": "ipython3",
   "version": "3.13.5"
  }
 },
 "nbformat": 4,
 "nbformat_minor": 5
}
