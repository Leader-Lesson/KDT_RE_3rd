{
 "cells": [
  {
   "cell_type": "code",
   "execution_count": null,
   "id": "d862e90f",
   "metadata": {},
   "outputs": [],
   "source": [
    "# 초기 상태 설정\n",
    "player_name = input(\"당신의 이름은 무엇입니까? \")\n",
    "health = 100\n",
    "inventory = []\n",
    "\n",
    "print(f\"{player_name}님, 일주일간 던전 생존기에 오신 걸 환영합니다!\")\n",
    "print(f\"초기 체력: {health}\")\n",
    "print(\"\")\n",
    "\n",
    "# 1일차 (월요일)\n",
    "print(\"[월요일] 배고픈 아침입니다. 빵을 발견했습니다.\")\n",
    "eat_bread = input(\"빵을 먹겠습니까? (예/아니오): \")\n",
    "if eat_bread == \"예\":\n",
    "    health += 10\n",
    "    inventory.append(\"빵\")\n",
    "    print(\"빵을 먹고 힘이 납니다! (체력 +10)\")\n",
    "else:\n",
    "    health -= 10\n",
    "    print(\"아침을 거르고 기운이 빠집니다... (체력 -10)\")\n",
    "\n",
    "print(f\"현재 체력: {health}\")\n",
    "if health <= 0:\n",
    "    print(\"😢 체력이 바닥나 쓰러졌습니다. 게임 오버\")\n",
    "else:\n",
    "    print(\"\")\n",
    "\n",
    "# 2일차 (화요일)\n",
    "if health > 0:\n",
    "    print(\"[화요일] 독버섯이 널려 있습니다.\")\n",
    "    mushroom = input(\"독버섯을 피해가겠습니까? (예/아니오): \")\n",
    "    if mushroom == \"예\":\n",
    "        print(\"현명한 선택입니다! (체력 변동 없음)\")\n",
    "    else:\n",
    "        health -= 30\n",
    "        print(\"독버섯을 먹고 배탈이 났습니다... (체력 -30)\")\n",
    "\n",
    "    print(f\"현재 체력: {health}\")\n",
    "    if health <= 0:\n",
    "        print(\"😢 체력이 바닥나 쓰러졌습니다. 게임 오버\")\n",
    "    else:\n",
    "        print(\"\")"
   ]
  }
 ],
 "metadata": {
  "language_info": {
   "name": "python"
  }
 },
 "nbformat": 4,
 "nbformat_minor": 5
}
