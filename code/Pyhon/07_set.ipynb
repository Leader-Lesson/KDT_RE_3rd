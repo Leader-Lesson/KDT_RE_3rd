{
 "cells": [
  {
   "cell_type": "markdown",
   "id": "69e10366",
   "metadata": {},
   "source": [
    "### 07. set(집합)\n",
    "- 원소의 중복을 허용하지 않는 여러 데이터의 모음\n",
    "- 순서가 없는 컬렉션 자료형"
   ]
  },
  {
   "cell_type": "code",
   "execution_count": null,
   "id": "1a8f9f16",
   "metadata": {},
   "outputs": [],
   "source": [
    "# set 만들기\n",
    "s1 = {1, 2, 3}\n",
    "print(s1, type(s1))\n",
    "\n",
    "s2 = {1, 1, 1, 2, 2, 2, 3, 3, 3, 4, 4, 4, 4, 4, 4}\n",
    "print(s2)\n",
    "\n",
    "# 빈 set 만들기\n",
    "# 🚨유의사항 : 중괄호에 원소를 넣지 않고 선언하면 \n",
    "# 빈 dict로 인식됨\n",
    "s3 = {}\n",
    "print(type(s3))\n",
    "\n",
    "# set 함수로 생성\n",
    "s4 = set()\n",
    "print(s4, type(s4))\n",
    "\n",
    "# 💡set 함수의 활용 : 원소의 중복 제거\n",
    "my_list = [1,1,2,2,2,2,2,3,3,3,3,4,4,4,10,10,10,10]\n",
    "s5 = set(my_list) # set으로 변환 → 중복 원소 제거\n",
    "print(s5)\n",
    "my_list = list(s5)\n",
    "print(my_list, type(my_list))"
   ]
  },
  {
   "cell_type": "code",
   "execution_count": null,
   "id": "e8e13561",
   "metadata": {},
   "outputs": [],
   "source": [
    "# 인덱싱\n",
    "s1 = {10,20,30}\n",
    "# s1[1]\n",
    "\n",
    "s_list = list(s1) # 변환하는 과정에서 순서가 보장되지 않을 수 있음\n",
    "s_list[2]"
   ]
  },
  {
   "cell_type": "code",
   "execution_count": null,
   "id": "e0dc8957",
   "metadata": {},
   "outputs": [],
   "source": [
    "# 자료형 제한\n",
    "# 가변 자료형은 원소로 사용할 수 없음\n",
    "s1 = {1,2,3,[1,2,3],[4,5,6]}"
   ]
  },
  {
   "cell_type": "code",
   "execution_count": null,
   "id": "b8d2baa9",
   "metadata": {},
   "outputs": [],
   "source": [
    "# set 연산\n",
    "# 집합의 연산 : 합집합, 교집합, 차집합, 대칭차집합\n",
    "a = {1,2,3}\n",
    "b = {3,4,5}\n",
    "\n",
    "# 합집합(|, .union)\n",
    "s_union1 = a | b\n",
    "s_union2 = a.union(b)\n",
    "print(\"합집합1\", s_union1)\n",
    "print(\"합집합2\", s_union2)\n",
    "\n",
    "# 교집합(&, .intersection)\n",
    "s_inter1 = a & b\n",
    "s_inter2 = a.intersection(b)\n",
    "print(\"교집합1\", s_inter1)\n",
    "print(\"교집합2\", s_inter2)\n",
    "\n",
    "# 차집합\n",
    "s_diff1 = a -b\n",
    "s_diff2 = a.difference(b)\n",
    "print(\"차집합1\", s_diff1)\n",
    "print(\"차집합2\", s_diff2)\n",
    "\n",
    "# 대칭차집합\n",
    "s_symm1 = (a | b) - (a & b)\n",
    "s_symm2 = a ^ b\n",
    "s_symm3 = a.symmetric_difference(b)\n",
    "\n",
    "print(\"대칭차집합1\", s_symm1)\n",
    "print(\"대칭차집합2\", s_symm2)\n",
    "print(\"대칭차집합3\", s_symm3)"
   ]
  },
  {
   "cell_type": "code",
   "execution_count": null,
   "id": "58560f99",
   "metadata": {},
   "outputs": [],
   "source": [
    "# set 메서드\n",
    "s1 = {1, 2, 3}\n",
    "\n",
    "# 원소 추가\n",
    "s1.add(4)\n",
    "print(\"원소 추가\", s1)\n",
    "\n",
    "# 여러 원소 추가\n",
    "s1.update((5,6,7))\n",
    "print(\"여러 원소 추가\", s1)\n",
    "\n",
    "# 원소 제거\n",
    "s1.remove(4)\n",
    "print(\"원소 제거1\", s1)\n",
    "# s1.remove(100) # 존재하지 않는 원소 삭제시도시 에러\n",
    "s1.discard(100)\n",
    "s1.discard(6)\n",
    "print(\"원소 제거2\", s1)\n",
    "deleted = s1.pop() # 임의의 값 하나 제거\n",
    "print(\"원소 제거3\", s1, deleted)"
   ]
  },
  {
   "cell_type": "code",
   "execution_count": null,
   "id": "f06cdfb3",
   "metadata": {},
   "outputs": [],
   "source": [
    "# 부분집합(subset) 관련 메서드\n",
    "a = {10, 20, 30, 40, 50} # 상위집합(superset)\n",
    "b = {20, 30, 40} # 부분집합(subset)\n",
    "c = {10, 200, 300, 400, 500}\n",
    "\n",
    "# 부분집합 여부 판단\n",
    "print(b.issubset(a))\n",
    "print(a.issubset(b))\n",
    "\n",
    "# 상위집합 여부 판단\n",
    "print(a.issuperset(b))\n",
    "print(b.issuperset(a))\n",
    "\n",
    "# 공통 원소가 없는지 확인\n",
    "print(a.isdisjoint(b))\n",
    "print(a.isdisjoint(c))\n",
    "print(b.isdisjoint(c))"
   ]
  },
  {
   "cell_type": "code",
   "execution_count": null,
   "id": "7b0317b7",
   "metadata": {},
   "outputs": [
    {
     "name": "stdout",
     "output_type": "stream",
     "text": [
      "제출한 학생수: 4\n",
      "제출자 명단: {'choi', 'kim', 'lee', 'park'}\n"
     ]
    }
   ],
   "source": [
    "# 문제 1. 중복 제거 및 개수 세기 \n",
    "# 어떤 학급의 학생들이 제출한 팀 과제 파일 이름 목록이 아래와 같습니다.\n",
    "# 중복 제출된 경우도 포함되어 있습니다.\n",
    "# 중복을 제거한 후, 총 몇 명이 제출했는지 출력하는 프로그램을 작성하세요.\n",
    "submissions = ['kim', 'lee', 'kim', 'park', 'choi', 'lee', 'lee']\n",
    "\n",
    "unique_studnets = set(submissions)\n",
    "\n",
    "# 학생수\n",
    "print(f\"제출한 학생수: {len(unique_studnets)}\") \n",
    "# 제출자명단\n",
    "print(f\"제출자 명단: {unique_studnets}\")"
   ]
  },
  {
   "cell_type": "code",
   "execution_count": 44,
   "id": "bec03fb2",
   "metadata": {},
   "outputs": [
    {
     "name": "stdout",
     "output_type": "stream",
     "text": [
      "공통 관심 장르: {'Action', 'Drama'}\n",
      "서로 다른 장르: {'Romance', 'SF'}\n",
      "모든 장르 목록: {'Action', 'Drama', 'SF', 'Romance'}\n"
     ]
    }
   ],
   "source": [
    "# 문제 2. 공통 관심사 찾기\n",
    "# 두 명의 사용자가 각자 좋아하는 영화 장르를 아래와 같이 입력했습니다.\n",
    "# 두 사용자의 공통 관심 장르, 서로 다른 장르, 모든 장르 목록을 출력하세요.\n",
    "user1 = {'SF', 'Action', 'Drama'}\n",
    "user2 = {'Drama', 'Romance', 'Action'}\n",
    "\n",
    "# 공통 관심 장르(교집합)\n",
    "common = user1 & user2\n",
    "\n",
    "# 서로 다른 장르(대칭차집합)\n",
    "diff = user1 ^ user2\n",
    "\n",
    "# 모든 장르 목록(합집합)\n",
    "total = user1 | user2\n",
    "\n",
    "print(f\"공통 관심 장르: {common}\")\n",
    "print(f\"서로 다른 장르: {diff}\")\n",
    "print(f\"모든 장르 목록: {total}\")"
   ]
  },
  {
   "cell_type": "code",
   "execution_count": 45,
   "id": "6e40dad9",
   "metadata": {},
   "outputs": [
    {
     "name": "stdout",
     "output_type": "stream",
     "text": [
      "지원 자격 충족 여부: True\n"
     ]
    }
   ],
   "source": [
    "# 문제 3. 부분집합 관계 판단\n",
    "# 어떤 유저가 가지고 있는 자격증 목록과 특정 직무에 필요한 자격증 목록이 주어집니다.\n",
    "# 이 사용자가 지원 자격을 갖추었는지 확인하세요.\n",
    "my_certificates = {'SQL', 'Python', 'Linux'}\n",
    "job_required = {'SQL', 'Python'}\n",
    "\n",
    "# 지원 자격 충족 여부\n",
    "is_qualified = job_required.issubset(my_certificates)\n",
    "\n",
    "print(f\"지원 자격 충족 여부: {is_qualified}\")"
   ]
  }
 ],
 "metadata": {
  "kernelspec": {
   "display_name": "python-study",
   "language": "python",
   "name": "python3"
  },
  "language_info": {
   "codemirror_mode": {
    "name": "ipython",
    "version": 3
   },
   "file_extension": ".py",
   "mimetype": "text/x-python",
   "name": "python",
   "nbconvert_exporter": "python",
   "pygments_lexer": "ipython3",
   "version": "3.13.5"
  }
 },
 "nbformat": 4,
 "nbformat_minor": 5
}
