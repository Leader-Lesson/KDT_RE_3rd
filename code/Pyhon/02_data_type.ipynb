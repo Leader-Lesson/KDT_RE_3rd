{
 "cells": [
  {
   "cell_type": "markdown",
   "id": "7ba5984a",
   "metadata": {},
   "source": [
    "### 2. 자료형(Data type)\n",
    "- 자료의 종류와 구조를 정의하는 것\n",
    "- 파이썬 : 동적 타입 언어(↔ 정적 타입 언어)\n",
    "  - 변수를 만들때 별도의 타입을 지정하지 않아도 됨"
   ]
  },
  {
   "cell_type": "code",
   "execution_count": null,
   "id": "e78de7ca",
   "metadata": {},
   "outputs": [],
   "source": [
    "# 1. 문자열(string, str)\n",
    "my_str1 = '' # 빈문자열(O)\n",
    "my_str2 = \" \" # 공백문자열(O)\n",
    "my_str3 = \"안녕하세요\" # \"요하녕안세\" → 문자열은 '순서가 있는 자료형'\n",
    "\n",
    "# 문자열 여러줄로 만들기\n",
    "multi_str = \"\"\"코: 코딩을 한다\n",
    "딩: 딩딩딩 머리가 울린다\n",
    "온: 온제 끝나나\n",
    "\"\"\"\n",
    "print(multi_str)\n",
    "\n",
    "print(\"코: 코딩을 한다\")\n",
    "print(\"딩: 딩딩딩 머리가 울린다\")\n",
    "print(\"온: 온제 끝나나\")\n",
    "\n",
    "print(type(multi_str))"
   ]
  },
  {
   "cell_type": "code",
   "execution_count": null,
   "id": "2580e96a",
   "metadata": {},
   "outputs": [],
   "source": [
    "# 따옴표 속에 따옴표 쓰기\n",
    "print(\"'지식'은 우정을 대신하지 않아\")\n",
    "print('\"지식\"은 우정을 대신하지 않아')\n",
    "\n",
    "multi_str = \"\"\"코: '코딩'을 한다\n",
    "딩: '딩딩딩' 머리가 울린다\n",
    "온: '온제' 끝나나\n",
    "\"\"\"\n",
    "print(multi_str)"
   ]
  },
  {
   "cell_type": "code",
   "execution_count": null,
   "id": "ea2cb334",
   "metadata": {},
   "outputs": [],
   "source": [
    "# 2. 정수형(integer, int)\n",
    "# 크기 제한이 없음\n",
    "my_int1 = 100\n",
    "my_int2 = 2103801283091823908120938109283012839018293182038\n",
    "print(type(my_int1))"
   ]
  },
  {
   "cell_type": "code",
   "execution_count": null,
   "id": "8547d6ff",
   "metadata": {},
   "outputs": [],
   "source": [
    "# 3. 실수형(float)\n",
    "# 부동소수점 방식\n",
    "my_float1 = 100.0\n",
    "my_float2 = 3.14\n",
    "print(type(my_float1))"
   ]
  },
  {
   "cell_type": "code",
   "execution_count": null,
   "id": "e4cc8b66",
   "metadata": {},
   "outputs": [],
   "source": [
    "# 4. 논리형(boolean, bool)\n",
    "# 참(1)과 거짓(0)을 표현하는 자료형\n",
    "print(True)\n",
    "print(False)\n",
    "print(type(True))\n",
    "print(type(False))"
   ]
  },
  {
   "cell_type": "code",
   "execution_count": null,
   "id": "78052401",
   "metadata": {},
   "outputs": [],
   "source": [
    "# f-string : 문자열 포매팅(formatting)\n",
    "# 문자열 안에 변수를 쓸 수 있도록 해주는 기능\n",
    "my_name = \"Ian\"\n",
    "my_age = 15\n",
    "\n",
    "# 일반적으로 print를 사용했을 때\n",
    "# 내 이름은 Ian이고, 나이는 15살입니다.\n",
    "print(\"내 이름은\", my_name, \"이고, 나이는\", my_age, \"입니다.\")\n",
    "\n",
    "# 공격력 : 100, 방어력 : 80, 민첩성 : 95, 지력 : 105\n",
    "power, defence, agility, intelligence = 100, 80, 95, 105\n",
    "print(\"공격력 :\", power, \", 방어력 :\", defence, \", 민첩성 :\", agility, \", 지력 :\", intelligence)\n",
    "\n",
    "# f-string 사용\n",
    "print(f\"공격력 : {power}, 방어력 : {defence}, 민첩성 : {agility}, 지력 : {intelligence}\")"
   ]
  },
  {
   "cell_type": "code",
   "execution_count": null,
   "id": "e2a379ab",
   "metadata": {},
   "outputs": [],
   "source": [
    "# 이전방식1\n",
    "print(\"내 이름은 %s입니다\" % \"ian\")\n",
    "print(\"내 나이는 %d살입니다\" % 15)\n",
    "\n",
    "# 이전방식2\n",
    "print(\"내 이름은 {}입니다.\".format(\"ian\"))"
   ]
  },
  {
   "cell_type": "code",
   "execution_count": null,
   "id": "dcdaa556",
   "metadata": {},
   "outputs": [],
   "source": [
    "# 형 변환(Type casting)\n",
    "# 명시적 형변환(explicit) vs 암시적 형변환(implicit)\n",
    "# 강타입 vs 약타입\n",
    "\n",
    "# * 1. 정수로 변환 : int()\n",
    "# 1) 실수 → 정수\n",
    "# 2) 문자열로 표현된 정수 → 정수\n",
    "# 3) 논리형 → 정수\n",
    "# ✅ 가능한 경우\n",
    "print(f\"3.14 → {int(3.14)}\")\n",
    "print(f\"'100' → {int('100')}\")\n",
    "print(f\"True → {int(True)}\")\n",
    "print(f\"False → {int(False)}\")\n",
    "\n",
    "# ❌ 불가능한 경우\n",
    "print(int(\"3.14\")) # 문자열로 표현된 실수\n",
    "print(int(\"abc\"))"
   ]
  },
  {
   "cell_type": "code",
   "execution_count": null,
   "id": "14cc6c60",
   "metadata": {},
   "outputs": [],
   "source": [
    "# 2. 실수로 변환 : float()\n",
    "# 1) 정수 → 실수\n",
    "# 2) 문자열로 표현된 실수 → 실수\n",
    "# 3) 문자열로 표현된 정수 → 실수\n",
    "# 4) 논리형 → 실수\n",
    "\n",
    "# ✅ 가능한 경우\n",
    "print(f\"7 → {float(7)}\")\n",
    "print(f\"'3.14' → {float('3.14')}\")\n",
    "print(f\"'100' → {float('100')}\")\n",
    "print(f\"True, False → {float(True)}, {float(False)}\")\n",
    "\n",
    "# ❌ 불가능한 경우\n",
    "print(float(\"def\"))"
   ]
  },
  {
   "cell_type": "code",
   "execution_count": null,
   "id": "626968dd",
   "metadata": {},
   "outputs": [],
   "source": [
    "# 암시적 형변환\n",
    "# 정수와 실수의 연산에서 자동으로 실수로 연산해줌\n",
    "print(10 + 5.0)\n",
    "# print(\"100\" + 200)"
   ]
  },
  {
   "cell_type": "code",
   "execution_count": 26,
   "id": "8ff78a82",
   "metadata": {},
   "outputs": [
    {
     "name": "stdout",
     "output_type": "stream",
     "text": [
      "100 <class 'str'>\n",
      "3.14 <class 'str'>\n",
      "True <class 'str'>\n"
     ]
    }
   ],
   "source": [
    "# 3. 문자열로 변환 : str()\n",
    "# 모든 타입을 문자열로 변환 가능\n",
    "print(str(100), type(str(100)))\n",
    "print(str(3.14), type(str(3.14)))\n",
    "print(str(True), type(str(True)))"
   ]
  },
  {
   "cell_type": "code",
   "execution_count": 28,
   "id": "f5d3a52c",
   "metadata": {},
   "outputs": [
    {
     "name": "stdout",
     "output_type": "stream",
     "text": [
      "True\n",
      "False\n"
     ]
    }
   ],
   "source": [
    "# 4. 논리형으로 변환 : bool()\n",
    "print(bool(1))\n",
    "print(bool(0))"
   ]
  },
  {
   "cell_type": "code",
   "execution_count": 33,
   "id": "05f8d091",
   "metadata": {},
   "outputs": [
    {
     "name": "stdout",
     "output_type": "stream",
     "text": [
      "Title: 아이언맨, Director: 놀란, Year: 2008, Genre: 슈퍼히어로\n",
      "제가 제일 좋아하는 영화는 아이언맨입니다\n"
     ]
    }
   ],
   "source": [
    "# 실습1. 영화 정보 출력하기\n",
    "title, director, year, genre = \"아이언맨\", \"놀란\", 2008, \"슈퍼히어로\"\n",
    "\n",
    "print(f\"Title: {title}, Director: {director}, Year: {year}, Genre: {genre}\")\n",
    "print(f\"제가 제일 좋아하는 영화는 {title}입니다\")"
   ]
  },
  {
   "cell_type": "code",
   "execution_count": 35,
   "id": "418948b7",
   "metadata": {},
   "outputs": [
    {
     "name": "stdout",
     "output_type": "stream",
     "text": [
      "안녕하세요.\n",
      "제 이름은 ian이고,\n",
      "15입니다.\n",
      "제 MBTI는 ENFJ에요.\n",
      "취미는 책읽기랍니다. \n",
      "하하하\n"
     ]
    }
   ],
   "source": [
    "# 실습2 자기소개 하기\n",
    "이름, 나이, MBTI, 취미 = \"ian\", 15, \"ENFJ\", \"책읽기\"\n",
    "\n",
    "print(f\"\"\"안녕하세요.\n",
    "제 이름은 {이름}이고,\n",
    "{나이}입니다.\n",
    "제 MBTI는 {MBTI}에요.\n",
    "취미는 {취미}랍니다. \n",
    "하하하\"\"\")"
   ]
  }
 ],
 "metadata": {
  "kernelspec": {
   "display_name": "python-study",
   "language": "python",
   "name": "python3"
  },
  "language_info": {
   "codemirror_mode": {
    "name": "ipython",
    "version": 3
   },
   "file_extension": ".py",
   "mimetype": "text/x-python",
   "name": "python",
   "nbconvert_exporter": "python",
   "pygments_lexer": "ipython3",
   "version": "3.13.5"
  }
 },
 "nbformat": 4,
 "nbformat_minor": 5
}
