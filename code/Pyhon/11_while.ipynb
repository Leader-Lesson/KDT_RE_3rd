{
 "cells": [
  {
   "cell_type": "markdown",
   "id": "da355837",
   "metadata": {},
   "source": [
    "### 11. while문\n",
    "- 조건이 True인 동안 코드를 반복하는 반복문\n",
    "- 조건이 False가 되면 반복을 멈춤\n",
    "  - 반복 횟수가 정해지지 않았을 때 사용"
   ]
  },
  {
   "cell_type": "code",
   "execution_count": null,
   "id": "2dcdecf4",
   "metadata": {},
   "outputs": [],
   "source": [
    "# while문 기본 문법\n",
    "# 조건 : 참/거짓을 구분할 수 있는 문장 → True, False를 반환하는 문장이 와야 함\n",
    "\n",
    "# while 조건:\n",
    "  # 반복할 코드"
   ]
  },
  {
   "cell_type": "code",
   "execution_count": null,
   "id": "ed9f9b9f",
   "metadata": {},
   "outputs": [],
   "source": [
    "# 무한루프 \n",
    "# 사용시 주의해야 함\n",
    "# 반드시 종료조건이 있어야 함!\n",
    "while True:\n",
    "  print(\"반복중\")"
   ]
  },
  {
   "cell_type": "code",
   "execution_count": null,
   "id": "47fa8364",
   "metadata": {},
   "outputs": [],
   "source": [
    "# 예제1\n",
    "light = \"green\"\n",
    "\n",
    "while light == \"green\":\n",
    "  print(\"계속 가세요!\")\n",
    "  light = input(\"신호등의 신호를 입력해주세요(green/yellow/red)\")\n",
    "print(\"중지!!\")"
   ]
  },
  {
   "cell_type": "code",
   "execution_count": null,
   "id": "32f933a3",
   "metadata": {},
   "outputs": [],
   "source": [
    "import time\n",
    "\n",
    "# 예제2 : 별도의 반복 변수를 정의\n",
    "# ⚠️반복 변수를 갱신하지 않을시 무한루프에 빠지게 됨\n",
    "i = 0\n",
    "\n",
    "while i < 5:\n",
    "  print(i, \"반복\")\n",
    "  # i += 1\n",
    "  time.sleep(1)\n",
    "print(\"반복 종료\")"
   ]
  },
  {
   "cell_type": "code",
   "execution_count": null,
   "id": "8e25e584",
   "metadata": {},
   "outputs": [],
   "source": [
    "# 실습 1.\n",
    "# 문제 1.\n",
    "secret_code = \"codingonre3\"\n",
    "user_input = \"\"\n",
    "\n",
    "# 비밀코드와 사용자 입력이 같지 않을때 반복\n",
    "while user_input != secret_code:\n",
    "  user_input = input(\"비밀 코드를 입력하세요:\")\n",
    "\n",
    "print(\"입장이 허용되었습니다!\")"
   ]
  },
  {
   "cell_type": "code",
   "execution_count": null,
   "id": "50b03c1d",
   "metadata": {},
   "outputs": [],
   "source": [
    "import random\n",
    "\n",
    "# 문제 2.\n",
    "\n",
    "answer = random.randint(1,100)\n",
    "num = 0 # 사용자 입력 받을 변수\n",
    "time = 0 # 실행횟수를 저장할 변수\n",
    "\n",
    "# 사용자 입력과 정답이 같지 않을 때 반복\n",
    "while num != answer:\n",
    "  num = int(input(\"1~100사이의 수를 입력해주세요: \"))\n",
    "  time += 1\n",
    "\n",
    "  if num > answer:\n",
    "    print(f\"정답이 {num}보다는 작아요.\")\n",
    "\n",
    "  elif num < answer:\n",
    "    print(f\"정답이 {num}보다 커요.\")\n",
    "\n",
    "print(f\"{time}번 만에 정답을 맞췄습니다.\")"
   ]
  },
  {
   "cell_type": "code",
   "execution_count": null,
   "id": "ce15f9d3",
   "metadata": {},
   "outputs": [],
   "source": [
    "# 루프 제어문\n",
    "running = True\n",
    "while running:\n",
    "  if 조건1: \n",
    "    running = False\n",
    "  if 조건2:\n",
    "    running = False\n",
    "\n",
    "# break\n",
    "while True:\n",
    "  if 조건:\n",
    "    break"
   ]
  },
  {
   "cell_type": "code",
   "execution_count": null,
   "id": "38053fd7",
   "metadata": {},
   "outputs": [],
   "source": [
    "# 예제1\n",
    "i = 0\n",
    "\n",
    "while True:\n",
    "  print(i, \"실행\")\n",
    "  my_select = input(\"메뉴를 골라주세요:\")\n",
    "  \n",
    "  if my_select == \"종료\":\n",
    "    break\n",
    "  \n",
    "  if i < 5:\n",
    "    break\n",
    "\n",
    "  i += 1\n",
    "print(\"반복문 종료\")"
   ]
  },
  {
   "cell_type": "code",
   "execution_count": null,
   "id": "8341a31d",
   "metadata": {},
   "outputs": [],
   "source": [
    "# 예제1-2\n",
    "i = 0\n",
    "\n",
    "while True:\n",
    "  i += 1\n",
    "  if i > 5:\n",
    "    break\n",
    "\n",
    "  print(i, \"실행\")\n",
    "print(\"반복문 종료\")"
   ]
  },
  {
   "cell_type": "code",
   "execution_count": null,
   "id": "ed9a5b13",
   "metadata": {},
   "outputs": [],
   "source": [
    "# 예제1-3\n",
    "i = 0\n",
    "\n",
    "while i < 6:\n",
    "  i += 1\n",
    "\n",
    "  print(i, \"실행\")\n",
    "print(\"반복문 종료\")\n",
    "\n",
    "# 일반적으로 while의 조건에 따라 while문을 종료시키면 실행블록이 끝까지 실행 된후 종료되지만\n",
    "# break로 종료를 시키면, 이후 실행블록의 코드는 무시되고 바로 반복문을 탈출함"
   ]
  },
  {
   "cell_type": "code",
   "execution_count": null,
   "id": "0a61d8c7",
   "metadata": {},
   "outputs": [],
   "source": [
    "# continue\n",
    "# 예제2\n",
    "i = 0 \n",
    "while i < 5:\n",
    "  i += 1\n",
    "  if i % 2 == 0:\n",
    "    continue\n",
    "  print(i)\n",
    "print(\"반복 종료\")"
   ]
  },
  {
   "cell_type": "code",
   "execution_count": null,
   "id": "4760c487",
   "metadata": {},
   "outputs": [],
   "source": [
    "# 실습 2. \n",
    "# 문제 1.\n",
    "secret_code = \"codingonre3\"\n",
    "user_input = \"\"\n",
    "\n",
    "# 비밀코드와 사용자 입력이 같지 않을때 반복\n",
    "while True:\n",
    "  user_input = input(\"비밀 코드를 입력하세요:\")\n",
    "  \n",
    "  if user_input == secret_code:\n",
    "    print(\"입장 완료! 환영합니다.\")\n",
    "    break\n",
    "  else:\n",
    "    print(\"비밀 코드가 틀렸습니다. 다시 시도하세요.\")"
   ]
  },
  {
   "cell_type": "code",
   "execution_count": null,
   "id": "10244118",
   "metadata": {},
   "outputs": [],
   "source": [
    "# 문제 2.\n",
    "\n",
    "cnt = 0\n",
    "sum_age = 0\n",
    "\n",
    "while cnt < 5:\n",
    "  age = int(input(\"나이를 입력하세요: \"))\n",
    "\n",
    "  # 나이가 0이하 이거나(또는), 120초과이면 건너뜀\n",
    "  if age <= 0 or age > 120:\n",
    "    continue\n",
    "\n",
    "  cnt += 1\n",
    "  sum_age += age\n",
    "\n",
    "print(f\"총 나이 합계는 {sum_age}, 평균은 {int(sum_age / cnt)}\")"
   ]
  },
  {
   "cell_type": "code",
   "execution_count": null,
   "id": "252caa8f",
   "metadata": {},
   "outputs": [],
   "source": [
    "# 중첩 while문\n",
    "# 예제\n",
    "\n",
    "dan = 2\n",
    "while dan <= 9:\n",
    "  num = 1\n",
    "  print(f\"[ {dan}단 ]\")\n",
    "\n",
    "  while num <=9:\n",
    "    print(f\"{dan} x {num} = {dan * num}\") \n",
    "    num += 1\n",
    "  \n",
    "  print()\n",
    "  dan += 1"
   ]
  },
  {
   "cell_type": "code",
   "execution_count": null,
   "id": "e081e0fc",
   "metadata": {},
   "outputs": [],
   "source": [
    "# 실습3\n",
    "# 아이디와 비밀번호를 저장할 변수\n",
    "user_id = \"codingon\"\n",
    "user_pw = \"abc123\"\n",
    "\n",
    "while True:\n",
    "  # 아이디 확인\n",
    "  id_input = input(\"ID를 입력하세요: \")\n",
    "\n",
    "  # 아이디가 일치하지 않을시\n",
    "  if id_input != user_id:\n",
    "    print(\"ID가 일치하지 않습니다.\")\n",
    "    continue\n",
    "\n",
    "  while True:\n",
    "    # 비밀번호 확인\n",
    "    pw_input = input(\"비밀번호를 입력하세요: \")\n",
    "\n",
    "    if pw_input != user_pw:\n",
    "      print(\"비밀번호가 일치하지 않습니다.\")\n",
    "      continue\n",
    "\n",
    "    print(\"로그인 성공!\")\n",
    "    break\n",
    "\n",
    "    # if pw_input == user_pw:\n",
    "    #   print(\"로그인 성공\")\n",
    "    #   break\n",
    "\n",
    "    # print(\"비밀번호가 일치하지 않습니다.\")\n",
    "    # continue\n",
    "  \n",
    "  break"
   ]
  }
 ],
 "metadata": {
  "kernelspec": {
   "display_name": "python-study (3.13.5)",
   "language": "python",
   "name": "python3"
  },
  "language_info": {
   "codemirror_mode": {
    "name": "ipython",
    "version": 3
   },
   "file_extension": ".py",
   "mimetype": "text/x-python",
   "name": "python",
   "nbconvert_exporter": "python",
   "pygments_lexer": "ipython3",
   "version": "3.13.5"
  }
 },
 "nbformat": 4,
 "nbformat_minor": 5
}
