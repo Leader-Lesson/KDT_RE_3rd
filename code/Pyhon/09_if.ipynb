{
 "cells": [
  {
   "cell_type": "markdown",
   "id": "68f6aae4",
   "metadata": {},
   "source": [
    "### 9. 조건문\n",
    "- 조건에 따라 프로그램의 실행 흐름을 분기시키는 제어문\n",
    "- 조건 : 참/거짓을 구분할 수 있는 문장"
   ]
  },
  {
   "cell_type": "code",
   "execution_count": null,
   "id": "0b25b702",
   "metadata": {},
   "outputs": [],
   "source": [
    "# 조건문의 기초 문법\n",
    "# if + 조건 → 조건이 참이면 실행\n",
    "a = int(input())\n",
    "if a > 10:\n",
    "  print(\"a는 10보다 커요\")\n",
    "print(\"조건문 종료\")"
   ]
  },
  {
   "cell_type": "code",
   "execution_count": null,
   "id": "440d61d3",
   "metadata": {},
   "outputs": [],
   "source": [
    "# 들여쓰기 에러 예시\n",
    "if a > 10:\n",
    "print(\"a는 10보다 커요\") # indent 에러"
   ]
  },
  {
   "cell_type": "code",
   "execution_count": null,
   "id": "4f40acfb",
   "metadata": {},
   "outputs": [],
   "source": [
    "# 조건문에 실행할 코드를 작성하지 않았을 때 \n",
    "# pass로 해당 조건문을 넘어갈 수 있음\n",
    "if a > 100:\n",
    "  pass"
   ]
  },
  {
   "cell_type": "code",
   "execution_count": null,
   "id": "1ef175b9",
   "metadata": {},
   "outputs": [],
   "source": [
    "# 조건식의 평가(Truthy, Falsy한 값)\n",
    "name = \"\"\n",
    "if name:\n",
    "  print(\"참이면 실행\")"
   ]
  },
  {
   "cell_type": "code",
   "execution_count": null,
   "id": "563b206b",
   "metadata": {},
   "outputs": [],
   "source": [
    "# 실습1. ​날씨에 따른 준비물 안내\n",
    "# 오늘의 날씨에 따라 필요한 준비물이 달라집니다.\n",
    "# 사용자에게 오늘의 날씨를 입력받고, 그에 따라 적절한 메시지를 출력하는 프로그램을 만들어 보세요.\n",
    "weather = input(\"비 또는 맑음을 입력해주세요: \")\n",
    "\n",
    "# 비가 오는 경우 \n",
    "# 날씨가 비 라면? → 날씨가 비와 같다\n",
    "if weather == \"비\":\n",
    "  print(\"우산을 챙기세요!\")\n",
    "\n",
    "# 날씨가 맑은 경우\n",
    "# 날씨가 맑음 라면? → 날씨가 맑음과 같다\n",
    "if weather == \"맑음\":\n",
    "  print(\"선크림을 바르세요!\")"
   ]
  },
  {
   "cell_type": "code",
   "execution_count": 15,
   "id": "26a07ada",
   "metadata": {},
   "outputs": [
    {
     "name": "stdout",
     "output_type": "stream",
     "text": [
      "a는 10보다 작아요\n"
     ]
    }
   ],
   "source": [
    "# if - else 문\n",
    "# 조건이 참일 때는 if문을 조건이 거짓일 때는 else문을 실행\n",
    "# else : '아니라면'의 의미 → 조건이 필요X, if문과 반드시 같이 나와야 함.\n",
    "a = int(input())\n",
    "if a > 10:\n",
    "  print(\"a는 10보다 커요\")\n",
    "else:\n",
    "  print(\"a는 10보다 작아요\")"
   ]
  },
  {
   "cell_type": "code",
   "execution_count": 18,
   "id": "e8678ed8",
   "metadata": {},
   "outputs": [
    {
     "name": "stdout",
     "output_type": "stream",
     "text": [
      "홀수입니다.\n"
     ]
    }
   ],
   "source": [
    "# 실습2. ​짝수 홀수 판별하기\n",
    "number = int(input(\"정수를 입력해주세요.\"))\n",
    "\n",
    "#짝수판단\n",
    "if number % 2 == 0:\n",
    "  print(\"짝수입니다.\")\n",
    "else:\n",
    "  print(\"홀수입니다.\")"
   ]
  },
  {
   "cell_type": "code",
   "execution_count": 23,
   "id": "3cfdd5b5",
   "metadata": {},
   "outputs": [
    {
     "name": "stdout",
     "output_type": "stream",
     "text": [
      "f\n"
     ]
    }
   ],
   "source": [
    "# if - elif - else 구문\n",
    "# elif : else if 의 약자, 그게 아니라 만약 ~ 라면\n",
    "# 조건을 반드시 기록\n",
    "# if가 있어야만 사용할 수 있음\n",
    "score = int(input())\n",
    "# 90점 이상이면 a\n",
    "if score >= 90:\n",
    "  print(\"a\")\n",
    "# (90점 미만이고) 80점 이상이면 b\n",
    "elif score >= 80:\n",
    "  print(\"b\")\n",
    "# 70점 이상이면 c\n",
    "elif score >= 70:\n",
    "  print(\"c\")\n",
    "# 60점 이상이면 d\n",
    "elif score >= 60:\n",
    "  print(\"d\")\n",
    "# 그외에는 f\n",
    "else:\n",
    "  print(\"f\")\n"
   ]
  },
  {
   "cell_type": "code",
   "execution_count": 24,
   "id": "ef672555",
   "metadata": {},
   "outputs": [
    {
     "name": "stdout",
     "output_type": "stream",
     "text": [
      "b\n",
      "c\n",
      "d\n"
     ]
    }
   ],
   "source": [
    "score = int(input())\n",
    "# 90점 이상이면 a\n",
    "if score >= 90:\n",
    "  print(\"a\")\n",
    "# (90점 미만이고) 80점 이상이면 b\n",
    "if score >= 80:\n",
    "  print(\"b\")\n",
    "# 70점 이상이면 c\n",
    "if score >= 70:\n",
    "  print(\"c\")\n",
    "# 60점 이상이면 d\n",
    "if score >= 60:\n",
    "  print(\"d\")\n",
    "# 그외에는 f\n",
    "\n"
   ]
  },
  {
   "cell_type": "code",
   "execution_count": null,
   "id": "200fa073",
   "metadata": {},
   "outputs": [],
   "source": [
    "# 실습3. 나이에 따른 영화 관람 가능 여부\n",
    "# 영화관에서는 연령에 따라 관람할 수 있는 영화가 정해져 있습니다.\n",
    "# 아래의 기준에 따라 사용자의 나이를 입력 받아 관람 가능한 등급을 출력하는 프로그램을 만들어보세요.\n",
    "age = int(input(\"나이를 입력해주세요:\"))\n",
    "\n",
    "if age >= 19:\n",
    "  print(\"청소년 관람 불가 가능\")\n",
    "elif age >= 16:\n",
    "  print(\"15세이상 관람가 가능\")\n",
    "elif age >= 13:\n",
    "  print(\"12세 이상 관람가 가능\")\n",
    "else:\n",
    "  print(\"전체 관람가 시청 가능\")"
   ]
  },
  {
   "cell_type": "code",
   "execution_count": 3,
   "id": "b81df9a2",
   "metadata": {},
   "outputs": [
    {
     "name": "stdout",
     "output_type": "stream",
     "text": [
      "20초\n"
     ]
    }
   ],
   "source": [
    "# 실습4\n",
    "# 조건문을 이용해서 ​초를 입력하면 시, 분, 초로 나누어 알려주는 프로그램을 만들어 봅시다.\n",
    "# 변수를 만들고 정수를 입력 받아 주세요. \n",
    "# 입력 받은 변수의 값을 사용해서 변수 hour와 minute, second에 알맞은 값을 저장해 주세요.\n",
    "# 조건에 따라 시, 분, 초를 적절히 출력해 주세요.\n",
    "\n",
    "hour, minute, second = 0, 0, 0\n",
    "\n",
    "input_second = int(input())\n",
    "\n",
    "minute = input_second // 60\n",
    "second = input_second % 60\n",
    "hour = minute // 60\n",
    "minute %= 60\n",
    "\n",
    "if hour > 0:\n",
    "  print(f\"{hour}시간 {minute}분 {second}초\")\n",
    "elif minute > 0:\n",
    "  print(f\"{minute}분 {second}초\")\n",
    "else:\n",
    "  print(f\"{second}초\")"
   ]
  },
  {
   "cell_type": "code",
   "execution_count": null,
   "id": "7ac20ea5",
   "metadata": {},
   "outputs": [
    {
     "name": "stdout",
     "output_type": "stream",
     "text": [
      "로그인 성공!\n"
     ]
    }
   ],
   "source": [
    "# 중첩 조건문\n",
    "# 하나의 if문 안에 또 다른 if문을 사용하는 것\n",
    "\n",
    "# 로그인 프로세스\n",
    "username  = input(\"관리자 아이디를 입력하세요:\")\n",
    "password = input(\"비밀번호를 입력하세요:.\")\n",
    "if username == \"admin\" and password == \"abcd\":\n",
    "    print(\"로그인 성공!\")\n",
    "else:\n",
    "  print(\"잘못된 입력입니다.\")"
   ]
  },
  {
   "cell_type": "code",
   "execution_count": 8,
   "id": "601194f4",
   "metadata": {},
   "outputs": [
    {
     "name": "stdout",
     "output_type": "stream",
     "text": [
      "입력이 잘못되었습니다.\n"
     ]
    }
   ],
   "source": [
    "# 실습5\n",
    "money = int(input(\"금액을 넣어주세요:\"))\n",
    "item = input(\"김밥 / 삼각김밥 / 도시락 중 골라주세요\")\n",
    "김밥, 삼각김밥, 도시락 = 2500, 1500, 4000\n",
    "\n",
    "if item == \"김밥\":\n",
    "  if money >= 김밥:\n",
    "    print(\"김밥을 구입했습니다.\")\n",
    "  else:\n",
    "    print(\"금액이 부족해요.\")\n",
    "elif item == \"삼각김밥\":\n",
    "  if money >= 삼각김밥:\n",
    "    print(\"삼각김밥을 구입했습니다.\")\n",
    "  else:\n",
    "    print(\"금액이 부족해요.\")\n",
    "elif item == \"도시락\":\n",
    "  if money >= 도시락:\n",
    "    print(\"도시락을 구입했습니다.\")\n",
    "  else:\n",
    "    print(\"금액이 부족해요.\")\n",
    "else:\n",
    "  print(\"입력이 잘못되었습니다.\")"
   ]
  }
 ],
 "metadata": {
  "kernelspec": {
   "display_name": "python-study",
   "language": "python",
   "name": "python3"
  },
  "language_info": {
   "codemirror_mode": {
    "name": "ipython",
    "version": 3
   },
   "file_extension": ".py",
   "mimetype": "text/x-python",
   "name": "python",
   "nbconvert_exporter": "python",
   "pygments_lexer": "ipython3",
   "version": "3.13.5"
  }
 },
 "nbformat": 4,
 "nbformat_minor": 5
}
